{
 "cells": [
  {
   "cell_type": "code",
   "execution_count": 6,
   "metadata": {},
   "outputs": [],
   "source": [
    "import pandas as pd \n",
    "import plotly.express as px\n",
    "import matplotlib\n",
    "import matplotlib.pyplot as plt\n",
    "import seaborn as sns\n",
    "import numpy as np\n",
    "from sklearn.metrics import mean_absolute_error, mean_squared_error,r2_score\n"
   ]
  },
  {
   "cell_type": "code",
   "execution_count": 7,
   "metadata": {},
   "outputs": [],
   "source": [
    "results=pd.read_csv('../reports/Resultscomparision.csv')"
   ]
  },
  {
   "cell_type": "code",
   "execution_count": 8,
   "metadata": {},
   "outputs": [
    {
     "data": {
      "text/html": [
       "<div>\n",
       "<style scoped>\n",
       "    .dataframe tbody tr th:only-of-type {\n",
       "        vertical-align: middle;\n",
       "    }\n",
       "\n",
       "    .dataframe tbody tr th {\n",
       "        vertical-align: top;\n",
       "    }\n",
       "\n",
       "    .dataframe thead th {\n",
       "        text-align: right;\n",
       "    }\n",
       "</style>\n",
       "<table border=\"1\" class=\"dataframe\">\n",
       "  <thead>\n",
       "    <tr style=\"text-align: right;\">\n",
       "      <th></th>\n",
       "      <th>Unnamed: 0.2</th>\n",
       "      <th>Unnamed: 0</th>\n",
       "      <th>Unnamed: 0.1</th>\n",
       "      <th>Y_Test</th>\n",
       "      <th>Y_Pred_RF</th>\n",
       "      <th>Y_Pred_FGBDT</th>\n",
       "    </tr>\n",
       "  </thead>\n",
       "  <tbody>\n",
       "    <tr>\n",
       "      <th>0</th>\n",
       "      <td>0</td>\n",
       "      <td>0</td>\n",
       "      <td>8622</td>\n",
       "      <td>54.0</td>\n",
       "      <td>122.357</td>\n",
       "      <td>119.695236</td>\n",
       "    </tr>\n",
       "    <tr>\n",
       "      <th>1</th>\n",
       "      <td>1</td>\n",
       "      <td>1</td>\n",
       "      <td>14805</td>\n",
       "      <td>66.8</td>\n",
       "      <td>67.530</td>\n",
       "      <td>62.664051</td>\n",
       "    </tr>\n",
       "    <tr>\n",
       "      <th>2</th>\n",
       "      <td>2</td>\n",
       "      <td>2</td>\n",
       "      <td>18944</td>\n",
       "      <td>42.0</td>\n",
       "      <td>42.000</td>\n",
       "      <td>41.841248</td>\n",
       "    </tr>\n",
       "    <tr>\n",
       "      <th>3</th>\n",
       "      <td>3</td>\n",
       "      <td>3</td>\n",
       "      <td>20255</td>\n",
       "      <td>42.0</td>\n",
       "      <td>42.110</td>\n",
       "      <td>41.640610</td>\n",
       "    </tr>\n",
       "    <tr>\n",
       "      <th>4</th>\n",
       "      <td>4</td>\n",
       "      <td>4</td>\n",
       "      <td>19342</td>\n",
       "      <td>44.0</td>\n",
       "      <td>44.387</td>\n",
       "      <td>47.574593</td>\n",
       "    </tr>\n",
       "  </tbody>\n",
       "</table>\n",
       "</div>"
      ],
      "text/plain": [
       "   Unnamed: 0.2  Unnamed: 0  Unnamed: 0.1  Y_Test  Y_Pred_RF  Y_Pred_FGBDT\n",
       "0             0           0          8622    54.0    122.357    119.695236\n",
       "1             1           1         14805    66.8     67.530     62.664051\n",
       "2             2           2         18944    42.0     42.000     41.841248\n",
       "3             3           3         20255    42.0     42.110     41.640610\n",
       "4             4           4         19342    44.0     44.387     47.574593"
      ]
     },
     "execution_count": 8,
     "metadata": {},
     "output_type": "execute_result"
    }
   ],
   "source": [
    "results.head()"
   ]
  },
  {
   "cell_type": "code",
   "execution_count": 9,
   "metadata": {},
   "outputs": [
    {
     "name": "stdout",
     "output_type": "stream",
     "text": [
      "<class 'pandas.core.frame.DataFrame'>\n",
      "RangeIndex: 6000 entries, 0 to 5999\n",
      "Data columns (total 6 columns):\n",
      " #   Column        Non-Null Count  Dtype  \n",
      "---  ------        --------------  -----  \n",
      " 0   Unnamed: 0.2  6000 non-null   int64  \n",
      " 1   Unnamed: 0    6000 non-null   int64  \n",
      " 2   Unnamed: 0.1  6000 non-null   int64  \n",
      " 3   Y_Test        6000 non-null   float64\n",
      " 4   Y_Pred_RF     6000 non-null   float64\n",
      " 5   Y_Pred_FGBDT  6000 non-null   float64\n",
      "dtypes: float64(3), int64(3)\n",
      "memory usage: 281.4 KB\n"
     ]
    }
   ],
   "source": [
    "results.info()"
   ]
  },
  {
   "cell_type": "code",
   "execution_count": 10,
   "metadata": {},
   "outputs": [],
   "source": [
    "results_df=results[['Y_Test','Y_Pred_RF','Y_Pred_FGBDT']]"
   ]
  },
  {
   "cell_type": "code",
   "execution_count": 11,
   "metadata": {},
   "outputs": [],
   "source": [
    "\n",
    "def calulate_metrics(y_test, y_pred_test):\n",
    "    mse=  format(mean_squared_error(np.array(y_test), y_pred_test, squared=False),'.4f')\n",
    "    rmse = format(np.sqrt(mean_squared_error(np.array(y_test), y_pred_test, squared=False)), '.4f')\n",
    "    mae= format(mean_absolute_error(np.array(y_test), y_pred_test),'.4f')\n",
    "    r2=format(r2_score(y_test,y_pred_test),'.4f')\n",
    "    return rmse"
   ]
  },
  {
   "cell_type": "code",
   "execution_count": 12,
   "metadata": {},
   "outputs": [],
   "source": [
    "results['y_error_rf']=results['Y_Test']-results['Y_Pred_RF']"
   ]
  },
  {
   "cell_type": "code",
   "execution_count": 13,
   "metadata": {},
   "outputs": [],
   "source": [
    "results['y_error_GBDT']=results['Y_Test']-results['Y_Pred_FGBDT']"
   ]
  },
  {
   "cell_type": "code",
   "execution_count": 14,
   "metadata": {},
   "outputs": [
    {
     "name": "stderr",
     "output_type": "stream",
     "text": [
      "/tmp/ipykernel_261448/1129647256.py:2: UserWarning: \n",
      "\n",
      "`distplot` is a deprecated function and will be removed in seaborn v0.14.0.\n",
      "\n",
      "Please adapt your code to use either `displot` (a figure-level function with\n",
      "similar flexibility) or `kdeplot` (an axes-level function for kernel density plots).\n",
      "\n",
      "For a guide to updating your code to use the new functions, please see\n",
      "https://gist.github.com/mwaskom/de44147ed2974457ad6372750bbe5751\n",
      "\n",
      "  ax1 = sns.distplot(results['Y_Test'],  label='Test Values',hist=False)\n",
      "/tmp/ipykernel_261448/1129647256.py:3: UserWarning: \n",
      "\n",
      "`distplot` is a deprecated function and will be removed in seaborn v0.14.0.\n",
      "\n",
      "Please adapt your code to use either `displot` (a figure-level function with\n",
      "similar flexibility) or `kdeplot` (an axes-level function for kernel density plots).\n",
      "\n",
      "For a guide to updating your code to use the new functions, please see\n",
      "https://gist.github.com/mwaskom/de44147ed2974457ad6372750bbe5751\n",
      "\n",
      "  ax2 = sns.distplot(results['Y_Pred_RF'],  label='RF Pred',hist=False)\n",
      "/tmp/ipykernel_261448/1129647256.py:4: UserWarning: \n",
      "\n",
      "`distplot` is a deprecated function and will be removed in seaborn v0.14.0.\n",
      "\n",
      "Please adapt your code to use either `displot` (a figure-level function with\n",
      "similar flexibility) or `kdeplot` (an axes-level function for kernel density plots).\n",
      "\n",
      "For a guide to updating your code to use the new functions, please see\n",
      "https://gist.github.com/mwaskom/de44147ed2974457ad6372750bbe5751\n",
      "\n",
      "  ax3 = sns.distplot(results['Y_Pred_FGBDT'],  label='FGBDT Pred',hist=False)\n"
     ]
    },
    {
     "data": {
      "image/png": "[encoded data removed]",
      "text/plain": [
       "<Figure size 400x400 with 1 Axes>"
      ]
     },
     "metadata": {},
     "output_type": "display_data"
    }
   ],
   "source": [
    "plt.figure(figsize=(4, 4))\n",
    "ax1 = sns.distplot(results['Y_Test'],  label='Test Values',hist=False)\n",
    "ax2 = sns.distplot(results['Y_Pred_RF'],  label='RF Pred',hist=False)\n",
    "ax3 = sns.distplot(results['Y_Pred_FGBDT'],  label='FGBDT Pred',hist=False)\n",
    "#plt.title(,weight='bold', size=10)\n",
    "plt.xlabel('Trip Distance', weight='bold', size=8)\n",
    "plt.ylabel('Density',weight='bold', size=8)\n",
    "plt.xticks( weight='bold', size=7)\n",
    "plt.yticks( weight='bold', size=7)\n",
    "plt.legend()\n",
    "plt.show()\n",
    "plt.close()"
   ]
  },
  {
   "cell_type": "code",
   "execution_count": 15,
   "metadata": {},
   "outputs": [
    {
     "name": "stderr",
     "output_type": "stream",
     "text": [
      "/tmp/ipykernel_261448/1730241236.py:2: UserWarning: \n",
      "\n",
      "`distplot` is a deprecated function and will be removed in seaborn v0.14.0.\n",
      "\n",
      "Please adapt your code to use either `displot` (a figure-level function with\n",
      "similar flexibility) or `kdeplot` (an axes-level function for kernel density plots).\n",
      "\n",
      "For a guide to updating your code to use the new functions, please see\n",
      "https://gist.github.com/mwaskom/de44147ed2974457ad6372750bbe5751\n",
      "\n",
      "  ax2 = sns.distplot(results['y_error_rf'],  label='RF Error',hist=False)\n",
      "/tmp/ipykernel_261448/1730241236.py:3: UserWarning: \n",
      "\n",
      "`distplot` is a deprecated function and will be removed in seaborn v0.14.0.\n",
      "\n",
      "Please adapt your code to use either `displot` (a figure-level function with\n",
      "similar flexibility) or `kdeplot` (an axes-level function for kernel density plots).\n",
      "\n",
      "For a guide to updating your code to use the new functions, please see\n",
      "https://gist.github.com/mwaskom/de44147ed2974457ad6372750bbe5751\n",
      "\n",
      "  ax3 = sns.distplot(results['y_error_GBDT'],  label='GBDT Error',hist=False)\n"
     ]
    },
    {
     "data": {
      "image/png": "[encoded data removed]",
      "text/plain": [
       "<Figure size 400x400 with 1 Axes>"
      ]
     },
     "metadata": {},
     "output_type": "display_data"
    }
   ],
   "source": [
    "plt.figure(figsize=(4, 4))\n",
    "ax2 = sns.distplot(results['y_error_rf'],  label='RF Error',hist=False)\n",
    "ax3 = sns.distplot(results['y_error_GBDT'],  label='GBDT Error',hist=False)\n",
    "#plt.title(,weight='bold', size=10)\n",
    "plt.xlabel('Trip Distance', weight='bold', size=8)\n",
    "plt.ylabel('Density',weight='bold', size=8)\n",
    "plt.xticks( weight='bold', size=7)\n",
    "plt.yticks( weight='bold', size=7)\n",
    "plt.legend()\n",
    "plt.show()\n",
    "plt.close()"
   ]
  },
  {
   "cell_type": "code",
   "execution_count": 17,
   "metadata": {},
   "outputs": [],
   "source": [
    "# DistributionPlot(results['Y_Test'],  results['Y_Pred_RF'], 'Final Results Comparision')"
   ]
  },
  {
   "cell_type": "code",
   "execution_count": 18,
   "metadata": {},
   "outputs": [
    {
     "ename": "NameError",
     "evalue": "name 'y__error_rf' is not defined",
     "output_type": "error",
     "traceback": [
      "\u001b[0;31m---------------------------------------------------------------------------\u001b[0m",
      "\u001b[0;31mNameError\u001b[0m                                 Traceback (most recent call last)",
      "Cell \u001b[0;32mIn[18], line 1\u001b[0m\n\u001b[0;32m----> 1\u001b[0m sns\u001b[39m.\u001b[39mboxplot(y\u001b[39m=\u001b[39my__error_rf, whis\u001b[39m=\u001b[39m(\u001b[39m.25\u001b[39m, \u001b[39m.75\u001b[39m))\n",
      "\u001b[0;31mNameError\u001b[0m: name 'y__error_rf' is not defined"
     ]
    }
   ],
   "source": [
    "# sns.boxplot(y=y__error_rf, whis=(.25, .75))\n"
   ]
  }
 ],
 "metadata": {
  "kernelspec": {
   "display_name": "Python 3",
   "language": "python",
   "name": "python3"
  },
  "language_info": {
   "codemirror_mode": {
    "name": "ipython",
    "version": 3
   },
   "file_extension": ".py",
   "mimetype": "text/x-python",
   "name": "python",
   "nbconvert_exporter": "python",
   "pygments_lexer": "ipython3",
   "version": "3.10.6"
  },
  "orig_nbformat": 4
 },
 "nbformat": 4,
 "nbformat_minor": 2
}
