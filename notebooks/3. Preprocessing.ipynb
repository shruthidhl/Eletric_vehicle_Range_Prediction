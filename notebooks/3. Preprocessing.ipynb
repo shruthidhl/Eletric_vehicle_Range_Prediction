{
 "cells": [
  {
   "cell_type": "markdown",
   "metadata": {},
   "source": [
    "# Pre-processing"
   ]
  },
  {
   "cell_type": "markdown",
   "metadata": {},
   "source": [
    "## SetUp"
   ]
  },
  {
   "cell_type": "code",
   "execution_count": 1,
   "metadata": {},
   "outputs": [],
   "source": [
    "import pandas as pd \n",
    "from sklearn.model_selection import train_test_split\n",
    "import numpy as np"
   ]
  },
  {
   "cell_type": "code",
   "execution_count": 2,
   "metadata": {},
   "outputs": [],
   "source": [
    "\n",
    "# 2nd Experiment\n",
    "#df=pd.read_csv(\"../data/prepared/experiment2.csv\")\n",
    "\n",
    "# 3rd Experiment\n",
    "df=pd.read_csv(\"../data/prepared/cleaned_df_with_car_ranges_consumption.csv\")\n",
    "data=df.copy()"
   ]
  },
  {
   "cell_type": "code",
   "execution_count": 3,
   "metadata": {},
   "outputs": [],
   "source": [
    "data=data.sample(frac=1)"
   ]
  },
  {
   "cell_type": "code",
   "execution_count": 4,
   "metadata": {},
   "outputs": [
    {
     "name": "stdout",
     "output_type": "stream",
     "text": [
      "<class 'pandas.core.frame.DataFrame'>\n",
      "Index: 23350 entries, 23005 to 10035\n",
      "Data columns (total 25 columns):\n",
      " #   Column                               Non-Null Count  Dtype  \n",
      "---  ------                               --------------  -----  \n",
      " 0   Unnamed: 0                           23350 non-null  int64  \n",
      " 1   manufacturer                         23350 non-null  object \n",
      " 2   model                                23350 non-null  object \n",
      " 3   year                                 23350 non-null  int64  \n",
      " 4   version                              23350 non-null  object \n",
      " 5   power(kW)                            23350 non-null  float64\n",
      " 6   fuel_date                            23350 non-null  object \n",
      " 7   odometer                             15070 non-null  float64\n",
      " 8   trip_distance(km)                    23350 non-null  float64\n",
      " 9   quantity(kWh)                        23350 non-null  float64\n",
      " 10  fuel_type                            23350 non-null  object \n",
      " 11  tire_type                            23260 non-null  object \n",
      " 12  city                                 23350 non-null  int64  \n",
      " 13  motor_way                            23350 non-null  int64  \n",
      " 14  country_roads                        23350 non-null  int64  \n",
      " 15  driving_style                        23239 non-null  object \n",
      " 16  consumption(kWh/100km)               23255 non-null  float64\n",
      " 17  A/C                                  23350 non-null  int64  \n",
      " 18  park_heating                         23350 non-null  int64  \n",
      " 19  avg_speed(km/h)                      4137 non-null   float64\n",
      " 20  ecr_deviation                        20746 non-null  float64\n",
      " 21  fuel_note                            5924 non-null   object \n",
      " 22  user_id                              23350 non-null  object \n",
      " 23  man_model_year_verion                23350 non-null  object \n",
      " 24  actual quantity consumed per 100 km  23350 non-null  float64\n",
      "dtypes: float64(8), int64(7), object(10)\n",
      "memory usage: 4.6+ MB\n"
     ]
    }
   ],
   "source": [
    "#data.info()\n",
    "data.info()"
   ]
  },
  {
   "cell_type": "code",
   "execution_count": 5,
   "metadata": {},
   "outputs": [
    {
     "data": {
      "text/plain": [
       "(23350, 25)"
      ]
     },
     "execution_count": 5,
     "metadata": {},
     "output_type": "execute_result"
    }
   ],
   "source": [
    "data.shape"
   ]
  },
  {
   "cell_type": "code",
   "execution_count": 6,
   "metadata": {},
   "outputs": [
    {
     "data": {
      "text/html": [
       "<div>\n",
       "<style scoped>\n",
       "    .dataframe tbody tr th:only-of-type {\n",
       "        vertical-align: middle;\n",
       "    }\n",
       "\n",
       "    .dataframe tbody tr th {\n",
       "        vertical-align: top;\n",
       "    }\n",
       "\n",
       "    .dataframe thead th {\n",
       "        text-align: right;\n",
       "    }\n",
       "</style>\n",
       "<table border=\"1\" class=\"dataframe\">\n",
       "  <thead>\n",
       "    <tr style=\"text-align: right;\">\n",
       "      <th></th>\n",
       "      <th>Unnamed: 0</th>\n",
       "      <th>manufacturer</th>\n",
       "      <th>model</th>\n",
       "      <th>year</th>\n",
       "      <th>version</th>\n",
       "      <th>power(kW)</th>\n",
       "      <th>fuel_date</th>\n",
       "      <th>odometer</th>\n",
       "      <th>trip_distance(km)</th>\n",
       "      <th>quantity(kWh)</th>\n",
       "      <th>...</th>\n",
       "      <th>driving_style</th>\n",
       "      <th>consumption(kWh/100km)</th>\n",
       "      <th>A/C</th>\n",
       "      <th>park_heating</th>\n",
       "      <th>avg_speed(km/h)</th>\n",
       "      <th>ecr_deviation</th>\n",
       "      <th>fuel_note</th>\n",
       "      <th>user_id</th>\n",
       "      <th>man_model_year_verion</th>\n",
       "      <th>actual quantity consumed per 100 km</th>\n",
       "    </tr>\n",
       "  </thead>\n",
       "  <tbody>\n",
       "    <tr>\n",
       "      <th>23005</th>\n",
       "      <td>30889</td>\n",
       "      <td>Tesla Motors</td>\n",
       "      <td>Model S</td>\n",
       "      <td>2015</td>\n",
       "      <td>Model S85</td>\n",
       "      <td>278.0</td>\n",
       "      <td>31.01.2020</td>\n",
       "      <td>111392.0</td>\n",
       "      <td>62.0</td>\n",
       "      <td>26.00</td>\n",
       "      <td>...</td>\n",
       "      <td>Normal</td>\n",
       "      <td>22.47</td>\n",
       "      <td>0</td>\n",
       "      <td>0</td>\n",
       "      <td>NaN</td>\n",
       "      <td>6.37</td>\n",
       "      <td>NaN</td>\n",
       "      <td>Tesla_Model_S_2015</td>\n",
       "      <td>TeslaMotors ModelS 2015 Model S85</td>\n",
       "      <td>41.935484</td>\n",
       "    </tr>\n",
       "    <tr>\n",
       "      <th>3713</th>\n",
       "      <td>3332</td>\n",
       "      <td>Hyundai</td>\n",
       "      <td>IONIQ</td>\n",
       "      <td>2018</td>\n",
       "      <td>Roadrunner</td>\n",
       "      <td>88.0</td>\n",
       "      <td>29.07.2019</td>\n",
       "      <td>NaN</td>\n",
       "      <td>85.8</td>\n",
       "      <td>11.44</td>\n",
       "      <td>...</td>\n",
       "      <td>Normal</td>\n",
       "      <td>13.33</td>\n",
       "      <td>0</td>\n",
       "      <td>0</td>\n",
       "      <td>NaN</td>\n",
       "      <td>NaN</td>\n",
       "      <td>NaN</td>\n",
       "      <td>Tesla_Model_S_2015</td>\n",
       "      <td>Hyundai IONIQ 2018 Roadrunner</td>\n",
       "      <td>13.333333</td>\n",
       "    </tr>\n",
       "    <tr>\n",
       "      <th>16574</th>\n",
       "      <td>23144</td>\n",
       "      <td>Hyundai</td>\n",
       "      <td>IONIQ</td>\n",
       "      <td>2017</td>\n",
       "      <td>Premium</td>\n",
       "      <td>88.0</td>\n",
       "      <td>23.02.2019</td>\n",
       "      <td>26301.0</td>\n",
       "      <td>111.0</td>\n",
       "      <td>14.08</td>\n",
       "      <td>...</td>\n",
       "      <td>Moderate</td>\n",
       "      <td>12.68</td>\n",
       "      <td>0</td>\n",
       "      <td>0</td>\n",
       "      <td>NaN</td>\n",
       "      <td>NaN</td>\n",
       "      <td>NaN</td>\n",
       "      <td>Tesla_Model_S_2015</td>\n",
       "      <td>Hyundai IONIQ 2017 Premium</td>\n",
       "      <td>12.684685</td>\n",
       "    </tr>\n",
       "    <tr>\n",
       "      <th>10871</th>\n",
       "      <td>7496</td>\n",
       "      <td>Mitsubishi</td>\n",
       "      <td>i-MiEV</td>\n",
       "      <td>2011</td>\n",
       "      <td>i-MiEV</td>\n",
       "      <td>49.0</td>\n",
       "      <td>25.08.2018</td>\n",
       "      <td>165086.0</td>\n",
       "      <td>39.8</td>\n",
       "      <td>4.67</td>\n",
       "      <td>...</td>\n",
       "      <td>Normal</td>\n",
       "      <td>11.73</td>\n",
       "      <td>0</td>\n",
       "      <td>0</td>\n",
       "      <td>NaN</td>\n",
       "      <td>-1.77</td>\n",
       "      <td>Noch 10 Balken, 65km Reichweite, Mainova Ökost...</td>\n",
       "      <td>Tesla_Model_S_2015</td>\n",
       "      <td>Mitsubishi iMiEV 2011 i-MiEV</td>\n",
       "      <td>11.733668</td>\n",
       "    </tr>\n",
       "    <tr>\n",
       "      <th>15125</th>\n",
       "      <td>18851</td>\n",
       "      <td>Nissan</td>\n",
       "      <td>Leaf</td>\n",
       "      <td>2013</td>\n",
       "      <td>Leaf ZE0</td>\n",
       "      <td>80.0</td>\n",
       "      <td>16.07.2020</td>\n",
       "      <td>NaN</td>\n",
       "      <td>0.7</td>\n",
       "      <td>0.10</td>\n",
       "      <td>...</td>\n",
       "      <td>Normal</td>\n",
       "      <td>16.10</td>\n",
       "      <td>0</td>\n",
       "      <td>0</td>\n",
       "      <td>NaN</td>\n",
       "      <td>1.10</td>\n",
       "      <td>NaN</td>\n",
       "      <td>Tesla_Model_S_2015</td>\n",
       "      <td>Nissan Leaf 2013 Leaf ZE0</td>\n",
       "      <td>14.285714</td>\n",
       "    </tr>\n",
       "  </tbody>\n",
       "</table>\n",
       "<p>5 rows × 25 columns</p>\n",
       "</div>"
      ],
      "text/plain": [
       "       Unnamed: 0  manufacturer    model  year     version  power(kW)   \n",
       "23005       30889  Tesla Motors  Model S  2015   Model S85      278.0  \\\n",
       "3713         3332       Hyundai    IONIQ  2018  Roadrunner       88.0   \n",
       "16574       23144       Hyundai    IONIQ  2017     Premium       88.0   \n",
       "10871        7496    Mitsubishi   i-MiEV  2011      i-MiEV       49.0   \n",
       "15125       18851        Nissan     Leaf  2013    Leaf ZE0       80.0   \n",
       "\n",
       "        fuel_date  odometer  trip_distance(km)  quantity(kWh)  ...   \n",
       "23005  31.01.2020  111392.0               62.0          26.00  ...  \\\n",
       "3713   29.07.2019       NaN               85.8          11.44  ...   \n",
       "16574  23.02.2019   26301.0              111.0          14.08  ...   \n",
       "10871  25.08.2018  165086.0               39.8           4.67  ...   \n",
       "15125  16.07.2020       NaN                0.7           0.10  ...   \n",
       "\n",
       "      driving_style consumption(kWh/100km)  A/C  park_heating   \n",
       "23005        Normal                  22.47    0             0  \\\n",
       "3713         Normal                  13.33    0             0   \n",
       "16574      Moderate                  12.68    0             0   \n",
       "10871        Normal                  11.73    0             0   \n",
       "15125        Normal                  16.10    0             0   \n",
       "\n",
       "       avg_speed(km/h) ecr_deviation   \n",
       "23005              NaN          6.37  \\\n",
       "3713               NaN           NaN   \n",
       "16574              NaN           NaN   \n",
       "10871              NaN         -1.77   \n",
       "15125              NaN          1.10   \n",
       "\n",
       "                                               fuel_note             user_id   \n",
       "23005                                                NaN  Tesla_Model_S_2015  \\\n",
       "3713                                                 NaN  Tesla_Model_S_2015   \n",
       "16574                                                NaN  Tesla_Model_S_2015   \n",
       "10871  Noch 10 Balken, 65km Reichweite, Mainova Ökost...  Tesla_Model_S_2015   \n",
       "15125                                                NaN  Tesla_Model_S_2015   \n",
       "\n",
       "                   man_model_year_verion  actual quantity consumed per 100 km  \n",
       "23005  TeslaMotors ModelS 2015 Model S85                            41.935484  \n",
       "3713       Hyundai IONIQ 2018 Roadrunner                            13.333333  \n",
       "16574         Hyundai IONIQ 2017 Premium                            12.684685  \n",
       "10871       Mitsubishi iMiEV 2011 i-MiEV                            11.733668  \n",
       "15125          Nissan Leaf 2013 Leaf ZE0                            14.285714  \n",
       "\n",
       "[5 rows x 25 columns]"
      ]
     },
     "execution_count": 6,
     "metadata": {},
     "output_type": "execute_result"
    }
   ],
   "source": [
    "data.head()"
   ]
  },
  {
   "cell_type": "code",
   "execution_count": 7,
   "metadata": {},
   "outputs": [
    {
     "data": {
      "text/html": [
       "<div>\n",
       "<style scoped>\n",
       "    .dataframe tbody tr th:only-of-type {\n",
       "        vertical-align: middle;\n",
       "    }\n",
       "\n",
       "    .dataframe tbody tr th {\n",
       "        vertical-align: top;\n",
       "    }\n",
       "\n",
       "    .dataframe thead th {\n",
       "        text-align: right;\n",
       "    }\n",
       "</style>\n",
       "<table border=\"1\" class=\"dataframe\">\n",
       "  <thead>\n",
       "    <tr style=\"text-align: right;\">\n",
       "      <th></th>\n",
       "      <th>Unnamed: 0</th>\n",
       "      <th>manufacturer</th>\n",
       "      <th>model</th>\n",
       "      <th>year</th>\n",
       "      <th>version</th>\n",
       "      <th>power(kW)</th>\n",
       "      <th>fuel_date</th>\n",
       "      <th>odometer</th>\n",
       "      <th>trip_distance(km)</th>\n",
       "      <th>quantity(kWh)</th>\n",
       "      <th>...</th>\n",
       "      <th>driving_style</th>\n",
       "      <th>consumption(kWh/100km)</th>\n",
       "      <th>A/C</th>\n",
       "      <th>park_heating</th>\n",
       "      <th>avg_speed(km/h)</th>\n",
       "      <th>ecr_deviation</th>\n",
       "      <th>fuel_note</th>\n",
       "      <th>user_id</th>\n",
       "      <th>man_model_year_verion</th>\n",
       "      <th>actual quantity consumed per 100 km</th>\n",
       "    </tr>\n",
       "  </thead>\n",
       "  <tbody>\n",
       "    <tr>\n",
       "      <th>8121</th>\n",
       "      <td>6340</td>\n",
       "      <td>Nissan</td>\n",
       "      <td>Leaf</td>\n",
       "      <td>2017</td>\n",
       "      <td>Black Edition</td>\n",
       "      <td>80.0</td>\n",
       "      <td>04.05.2022</td>\n",
       "      <td>74823.0</td>\n",
       "      <td>77.0</td>\n",
       "      <td>9.35</td>\n",
       "      <td>...</td>\n",
       "      <td>Moderate</td>\n",
       "      <td>17.87</td>\n",
       "      <td>0</td>\n",
       "      <td>0</td>\n",
       "      <td>NaN</td>\n",
       "      <td>2.87</td>\n",
       "      <td>NaN</td>\n",
       "      <td>Tesla_Model_S_2015</td>\n",
       "      <td>Nissan Leaf 2017 Black Edition</td>\n",
       "      <td>12.142857</td>\n",
       "    </tr>\n",
       "    <tr>\n",
       "      <th>21612</th>\n",
       "      <td>29849</td>\n",
       "      <td>Mercedes-Benz</td>\n",
       "      <td>B-Klasse</td>\n",
       "      <td>2015</td>\n",
       "      <td>B250e</td>\n",
       "      <td>132.0</td>\n",
       "      <td>26.07.2019</td>\n",
       "      <td>66941.0</td>\n",
       "      <td>54.0</td>\n",
       "      <td>6.61</td>\n",
       "      <td>...</td>\n",
       "      <td>Normal</td>\n",
       "      <td>18.03</td>\n",
       "      <td>1</td>\n",
       "      <td>0</td>\n",
       "      <td>NaN</td>\n",
       "      <td>1.43</td>\n",
       "      <td>NaN</td>\n",
       "      <td>Tesla_Model_S_2015</td>\n",
       "      <td>MercedesBenz BKlasse 2015 B250e</td>\n",
       "      <td>12.240741</td>\n",
       "    </tr>\n",
       "    <tr>\n",
       "      <th>10144</th>\n",
       "      <td>8445</td>\n",
       "      <td>Mitsubishi</td>\n",
       "      <td>i-MiEV</td>\n",
       "      <td>2011</td>\n",
       "      <td>i-MiEV</td>\n",
       "      <td>49.0</td>\n",
       "      <td>07.09.2016</td>\n",
       "      <td>116067.0</td>\n",
       "      <td>76.6</td>\n",
       "      <td>7.31</td>\n",
       "      <td>...</td>\n",
       "      <td>Fast</td>\n",
       "      <td>11.44</td>\n",
       "      <td>0</td>\n",
       "      <td>0</td>\n",
       "      <td>NaN</td>\n",
       "      <td>-2.06</td>\n",
       "      <td>Noch 3 Balken, 17km Reichweite, 24,0%, Batteri...</td>\n",
       "      <td>Tesla_Model_S_2015</td>\n",
       "      <td>Mitsubishi iMiEV 2011 i-MiEV</td>\n",
       "      <td>9.543081</td>\n",
       "    </tr>\n",
       "    <tr>\n",
       "      <th>14971</th>\n",
       "      <td>18709</td>\n",
       "      <td>Mitsubishi</td>\n",
       "      <td>i-MiEV</td>\n",
       "      <td>2014</td>\n",
       "      <td>i-MiEV</td>\n",
       "      <td>49.0</td>\n",
       "      <td>05.10.2019</td>\n",
       "      <td>4517.0</td>\n",
       "      <td>21.7</td>\n",
       "      <td>6.68</td>\n",
       "      <td>...</td>\n",
       "      <td>Normal</td>\n",
       "      <td>13.00</td>\n",
       "      <td>0</td>\n",
       "      <td>0</td>\n",
       "      <td>NaN</td>\n",
       "      <td>0.50</td>\n",
       "      <td>Noch 10 Balken, 68km Reichweite, Mainova Ökost...</td>\n",
       "      <td>Tesla_Model_S_2015</td>\n",
       "      <td>Mitsubishi iMiEV 2014 i-MiEV</td>\n",
       "      <td>30.783410</td>\n",
       "    </tr>\n",
       "    <tr>\n",
       "      <th>10035</th>\n",
       "      <td>13640</td>\n",
       "      <td>Mitsubishi</td>\n",
       "      <td>i-MiEV</td>\n",
       "      <td>2011</td>\n",
       "      <td>i-MiEV</td>\n",
       "      <td>49.0</td>\n",
       "      <td>11.04.2014</td>\n",
       "      <td>60325.0</td>\n",
       "      <td>99.4</td>\n",
       "      <td>11.73</td>\n",
       "      <td>...</td>\n",
       "      <td>Normal</td>\n",
       "      <td>11.41</td>\n",
       "      <td>0</td>\n",
       "      <td>0</td>\n",
       "      <td>NaN</td>\n",
       "      <td>-2.09</td>\n",
       "      <td>Noch 4 Balken, 36km Reichweite, 5,25h geladen,...</td>\n",
       "      <td>Tesla_Model_S_2015</td>\n",
       "      <td>Mitsubishi iMiEV 2011 i-MiEV</td>\n",
       "      <td>11.800805</td>\n",
       "    </tr>\n",
       "  </tbody>\n",
       "</table>\n",
       "<p>5 rows × 25 columns</p>\n",
       "</div>"
      ],
      "text/plain": [
       "       Unnamed: 0   manufacturer     model  year        version  power(kW)   \n",
       "8121         6340         Nissan      Leaf  2017  Black Edition       80.0  \\\n",
       "21612       29849  Mercedes-Benz  B-Klasse  2015          B250e      132.0   \n",
       "10144        8445     Mitsubishi    i-MiEV  2011         i-MiEV       49.0   \n",
       "14971       18709     Mitsubishi    i-MiEV  2014         i-MiEV       49.0   \n",
       "10035       13640     Mitsubishi    i-MiEV  2011         i-MiEV       49.0   \n",
       "\n",
       "        fuel_date  odometer  trip_distance(km)  quantity(kWh)  ...   \n",
       "8121   04.05.2022   74823.0               77.0           9.35  ...  \\\n",
       "21612  26.07.2019   66941.0               54.0           6.61  ...   \n",
       "10144  07.09.2016  116067.0               76.6           7.31  ...   \n",
       "14971  05.10.2019    4517.0               21.7           6.68  ...   \n",
       "10035  11.04.2014   60325.0               99.4          11.73  ...   \n",
       "\n",
       "      driving_style consumption(kWh/100km)  A/C  park_heating   \n",
       "8121       Moderate                  17.87    0             0  \\\n",
       "21612        Normal                  18.03    1             0   \n",
       "10144          Fast                  11.44    0             0   \n",
       "14971        Normal                  13.00    0             0   \n",
       "10035        Normal                  11.41    0             0   \n",
       "\n",
       "       avg_speed(km/h) ecr_deviation   \n",
       "8121               NaN          2.87  \\\n",
       "21612              NaN          1.43   \n",
       "10144              NaN         -2.06   \n",
       "14971              NaN          0.50   \n",
       "10035              NaN         -2.09   \n",
       "\n",
       "                                               fuel_note             user_id   \n",
       "8121                                                 NaN  Tesla_Model_S_2015  \\\n",
       "21612                                                NaN  Tesla_Model_S_2015   \n",
       "10144  Noch 3 Balken, 17km Reichweite, 24,0%, Batteri...  Tesla_Model_S_2015   \n",
       "14971  Noch 10 Balken, 68km Reichweite, Mainova Ökost...  Tesla_Model_S_2015   \n",
       "10035  Noch 4 Balken, 36km Reichweite, 5,25h geladen,...  Tesla_Model_S_2015   \n",
       "\n",
       "                 man_model_year_verion  actual quantity consumed per 100 km  \n",
       "8121    Nissan Leaf 2017 Black Edition                            12.142857  \n",
       "21612  MercedesBenz BKlasse 2015 B250e                            12.240741  \n",
       "10144     Mitsubishi iMiEV 2011 i-MiEV                             9.543081  \n",
       "14971     Mitsubishi iMiEV 2014 i-MiEV                            30.783410  \n",
       "10035     Mitsubishi iMiEV 2011 i-MiEV                            11.800805  \n",
       "\n",
       "[5 rows x 25 columns]"
      ]
     },
     "execution_count": 7,
     "metadata": {},
     "output_type": "execute_result"
    }
   ],
   "source": [
    "data.tail()"
   ]
  },
  {
   "cell_type": "code",
   "execution_count": 8,
   "metadata": {},
   "outputs": [],
   "source": [
    "distance_cal= data.copy()"
   ]
  },
  {
   "cell_type": "code",
   "execution_count": 9,
   "metadata": {},
   "outputs": [
    {
     "name": "stdout",
     "output_type": "stream",
     "text": [
      "<class 'pandas.core.frame.DataFrame'>\n",
      "Index: 23350 entries, 23005 to 10035\n",
      "Data columns (total 18 columns):\n",
      " #   Column                  Non-Null Count  Dtype  \n",
      "---  ------                  --------------  -----  \n",
      " 0   power(kW)               23350 non-null  float64\n",
      " 1   fuel_date               23350 non-null  object \n",
      " 2   odometer                15070 non-null  float64\n",
      " 3   trip_distance(km)       23350 non-null  float64\n",
      " 4   quantity(kWh)           23350 non-null  float64\n",
      " 5   fuel_type               23350 non-null  object \n",
      " 6   tire_type               23260 non-null  object \n",
      " 7   city                    23350 non-null  int64  \n",
      " 8   motor_way               23350 non-null  int64  \n",
      " 9   country_roads           23350 non-null  int64  \n",
      " 10  driving_style           23239 non-null  object \n",
      " 11  consumption(kWh/100km)  23255 non-null  float64\n",
      " 12  A/C                     23350 non-null  int64  \n",
      " 13  park_heating            23350 non-null  int64  \n",
      " 14  avg_speed(km/h)         4137 non-null   float64\n",
      " 15  ecr_deviation           20746 non-null  float64\n",
      " 16  fuel_note               5924 non-null   object \n",
      " 17  user_id                 23350 non-null  object \n",
      "dtypes: float64(7), int64(5), object(6)\n",
      "memory usage: 3.4+ MB\n"
     ]
    }
   ],
   "source": [
    "data[['power(kW)', 'fuel_date',\n",
    "       'odometer', 'trip_distance(km)', 'quantity(kWh)', 'fuel_type',\n",
    "       'tire_type', 'city', 'motor_way', 'country_roads', 'driving_style',\n",
    "       'consumption(kWh/100km)', 'A/C', 'park_heating', 'avg_speed(km/h)',\n",
    "       'ecr_deviation', 'fuel_note', 'user_id']].info()"
   ]
  },
  {
   "cell_type": "code",
   "execution_count": 10,
   "metadata": {},
   "outputs": [
    {
     "data": {
      "text/plain": [
       "Index(['Unnamed: 0', 'manufacturer', 'model', 'year', 'version', 'power(kW)',\n",
       "       'fuel_date', 'odometer', 'trip_distance(km)', 'quantity(kWh)',\n",
       "       'fuel_type', 'tire_type', 'city', 'motor_way', 'country_roads',\n",
       "       'driving_style', 'consumption(kWh/100km)', 'A/C', 'park_heating',\n",
       "       'avg_speed(km/h)', 'ecr_deviation', 'fuel_note', 'user_id',\n",
       "       'man_model_year_verion', 'actual quantity consumed per 100 km'],\n",
       "      dtype='object')"
      ]
     },
     "execution_count": 10,
     "metadata": {},
     "output_type": "execute_result"
    }
   ],
   "source": [
    "data.columns"
   ]
  },
  {
   "cell_type": "code",
   "execution_count": 11,
   "metadata": {},
   "outputs": [],
   "source": [
    "# distance_cal['calculated_distance']=(np.array(distance_cal['quantity(kWh)'])/np.array(distance_cal['consumption(kWh/100km)']))*100"
   ]
  },
  {
   "cell_type": "code",
   "execution_count": 12,
   "metadata": {},
   "outputs": [
    {
     "data": {
      "text/plain": [
       "array(['Winter tires', 'All-year tires', 'Summer tires', nan],\n",
       "      dtype=object)"
      ]
     },
     "execution_count": 12,
     "metadata": {},
     "output_type": "execute_result"
    }
   ],
   "source": [
    "data['tire_type'].unique()"
   ]
  },
  {
   "cell_type": "code",
   "execution_count": 13,
   "metadata": {},
   "outputs": [
    {
     "name": "stdout",
     "output_type": "stream",
     "text": [
      "<class 'pandas.core.frame.DataFrame'>\n",
      "RangeIndex: 23350 entries, 0 to 23349\n",
      "Data columns (total 25 columns):\n",
      " #   Column                               Non-Null Count  Dtype  \n",
      "---  ------                               --------------  -----  \n",
      " 0   Unnamed: 0                           23350 non-null  int64  \n",
      " 1   manufacturer                         23350 non-null  object \n",
      " 2   model                                23350 non-null  object \n",
      " 3   year                                 23350 non-null  int64  \n",
      " 4   version                              23350 non-null  object \n",
      " 5   power(kW)                            23350 non-null  float64\n",
      " 6   fuel_date                            23350 non-null  object \n",
      " 7   odometer                             15070 non-null  float64\n",
      " 8   trip_distance(km)                    23350 non-null  float64\n",
      " 9   quantity(kWh)                        23350 non-null  float64\n",
      " 10  fuel_type                            23350 non-null  object \n",
      " 11  tire_type                            23260 non-null  object \n",
      " 12  city                                 23350 non-null  int64  \n",
      " 13  motor_way                            23350 non-null  int64  \n",
      " 14  country_roads                        23350 non-null  int64  \n",
      " 15  driving_style                        23239 non-null  object \n",
      " 16  consumption(kWh/100km)               23255 non-null  float64\n",
      " 17  A/C                                  23350 non-null  int64  \n",
      " 18  park_heating                         23350 non-null  int64  \n",
      " 19  avg_speed(km/h)                      4137 non-null   float64\n",
      " 20  ecr_deviation                        20746 non-null  float64\n",
      " 21  fuel_note                            5924 non-null   object \n",
      " 22  user_id                              23350 non-null  object \n",
      " 23  man_model_year_verion                23350 non-null  object \n",
      " 24  actual quantity consumed per 100 km  23350 non-null  float64\n",
      "dtypes: float64(8), int64(7), object(10)\n",
      "memory usage: 4.5+ MB\n"
     ]
    }
   ],
   "source": [
    "df.info()"
   ]
  },
  {
   "cell_type": "code",
   "execution_count": 14,
   "metadata": {},
   "outputs": [],
   "source": [
    "df=df.loc[df['trip_distance(km)']<=420.0,:]"
   ]
  },
  {
   "cell_type": "code",
   "execution_count": 15,
   "metadata": {},
   "outputs": [
    {
     "data": {
      "text/plain": [
       "(23311, 25)"
      ]
     },
     "execution_count": 15,
     "metadata": {},
     "output_type": "execute_result"
    }
   ],
   "source": [
    "df.shape"
   ]
  },
  {
   "attachments": {},
   "cell_type": "markdown",
   "metadata": {},
   "source": [
    "## Data Encoding"
   ]
  },
  {
   "cell_type": "code",
   "execution_count": 16,
   "metadata": {},
   "outputs": [],
   "source": [
    "def convert_encodecategorical(data_sel):\n",
    "     data_sel=data_sel.loc[(data_sel['driving_style']!='driving_style') & (data_sel['tire_type']!='tire_type'), :]\n",
    "     data_sel.loc[:,'tire_type']=data_sel['tire_type'].map({'All-year tires':1,'Summer tires':3,'Winter tires':2, 'tire_type':0})\n",
    "     data_sel.loc[:,'driving_style']=data_sel['driving_style'].map({'Fast':3,'Moderate':2,'Normal':1})\n",
    "     \n",
    "     return data_sel\n",
    "\n",
    "def convert_to_numeric(columns,df):\n",
    "    for col in columns:\n",
    "        if col!='fuel_date':\n",
    "           df.loc[:, col]=pd.to_numeric(df.loc[:,col], errors='coerce')\n",
    "    return df"
   ]
  },
  {
   "cell_type": "code",
   "execution_count": 17,
   "metadata": {},
   "outputs": [],
   "source": [
    "\n",
    "def convert_date(data_sel_num):\n",
    "    data_sel_num['fuel_date']=data_sel_num['fuel_date'].astype('str')\n",
    "    data_sel_num['fuel_date']=data_sel_num['fuel_date'].apply(lambda x :x.replace(\".\",'-'))\n",
    "    data_sel_num['fuel_date_new']=pd.to_datetime(data_sel_num['fuel_date'], errors='coerce', format='%d-%m-%Y')\n",
    "    # extracting month , day and day of the week from fuel_date\n",
    "    data_sel_num['month']=data_sel_num['fuel_date_new'].dt.month\n",
    "    data_sel_num['weekday']=data_sel_num['fuel_date_new'].dt.weekday\n",
    "    data_sel_num['day']=data_sel_num['fuel_date_new'].dt.day\n",
    "    data_sel_num.drop(columns=['fuel_date','fuel_date_new'], axis=1, inplace=True)\n",
    "    return data_sel_num"
   ]
  },
  {
   "attachments": {},
   "cell_type": "markdown",
   "metadata": {},
   "source": [
    "### Mistubushi i-MiEV 2013 -MiEV "
   ]
  },
  {
   "cell_type": "code",
   "execution_count": 18,
   "metadata": {},
   "outputs": [],
   "source": [
    "# df=df[df['man_model_year_verion']=='Mitsubishi iMiEV 2011 i-MiEV']"
   ]
  },
  {
   "attachments": {},
   "cell_type": "markdown",
   "metadata": {},
   "source": [
    "## Preprocessing_Models"
   ]
  },
  {
   "cell_type": "code",
   "execution_count": 19,
   "metadata": {},
   "outputs": [
    {
     "data": {
      "text/plain": [
       "(23311, 25)"
      ]
     },
     "execution_count": 19,
     "metadata": {},
     "output_type": "execute_result"
    }
   ],
   "source": [
    "df.shape"
   ]
  },
  {
   "cell_type": "code",
   "execution_count": 20,
   "metadata": {},
   "outputs": [],
   "source": [
    "y=pd.DataFrame(df['trip_distance(km)'])\n",
    "X=df.drop(columns=['trip_distance(km)'], axis=1)"
   ]
  },
  {
   "cell_type": "code",
   "execution_count": 21,
   "metadata": {},
   "outputs": [
    {
     "data": {
      "text/plain": [
       "Index(['Unnamed: 0', 'manufacturer', 'model', 'year', 'version', 'power(kW)',\n",
       "       'fuel_date', 'odometer', 'quantity(kWh)', 'fuel_type', 'tire_type',\n",
       "       'city', 'motor_way', 'country_roads', 'driving_style',\n",
       "       'consumption(kWh/100km)', 'A/C', 'park_heating', 'avg_speed(km/h)',\n",
       "       'ecr_deviation', 'fuel_note', 'user_id', 'man_model_year_verion',\n",
       "       'actual quantity consumed per 100 km'],\n",
       "      dtype='object')"
      ]
     },
     "execution_count": 21,
     "metadata": {},
     "output_type": "execute_result"
    }
   ],
   "source": [
    "X.columns"
   ]
  },
  {
   "cell_type": "code",
   "execution_count": 22,
   "metadata": {},
   "outputs": [
    {
     "data": {
      "text/html": [
       "<div>\n",
       "<style scoped>\n",
       "    .dataframe tbody tr th:only-of-type {\n",
       "        vertical-align: middle;\n",
       "    }\n",
       "\n",
       "    .dataframe tbody tr th {\n",
       "        vertical-align: top;\n",
       "    }\n",
       "\n",
       "    .dataframe thead th {\n",
       "        text-align: right;\n",
       "    }\n",
       "</style>\n",
       "<table border=\"1\" class=\"dataframe\">\n",
       "  <thead>\n",
       "    <tr style=\"text-align: right;\">\n",
       "      <th></th>\n",
       "      <th>Unnamed: 0</th>\n",
       "      <th>manufacturer</th>\n",
       "      <th>model</th>\n",
       "      <th>year</th>\n",
       "      <th>version</th>\n",
       "      <th>power(kW)</th>\n",
       "      <th>fuel_date</th>\n",
       "      <th>odometer</th>\n",
       "      <th>trip_distance(km)</th>\n",
       "      <th>quantity(kWh)</th>\n",
       "      <th>...</th>\n",
       "      <th>driving_style</th>\n",
       "      <th>consumption(kWh/100km)</th>\n",
       "      <th>A/C</th>\n",
       "      <th>park_heating</th>\n",
       "      <th>avg_speed(km/h)</th>\n",
       "      <th>ecr_deviation</th>\n",
       "      <th>fuel_note</th>\n",
       "      <th>user_id</th>\n",
       "      <th>man_model_year_verion</th>\n",
       "      <th>actual quantity consumed per 100 km</th>\n",
       "    </tr>\n",
       "  </thead>\n",
       "  <tbody>\n",
       "    <tr>\n",
       "      <th>0</th>\n",
       "      <td>543</td>\n",
       "      <td>Volkswagen</td>\n",
       "      <td>Golf</td>\n",
       "      <td>2018</td>\n",
       "      <td>e-Golf</td>\n",
       "      <td>100.0</td>\n",
       "      <td>24.11.2021</td>\n",
       "      <td>NaN</td>\n",
       "      <td>73.0</td>\n",
       "      <td>23.0</td>\n",
       "      <td>...</td>\n",
       "      <td>Normal</td>\n",
       "      <td>15.57</td>\n",
       "      <td>1</td>\n",
       "      <td>0</td>\n",
       "      <td>NaN</td>\n",
       "      <td>2.67</td>\n",
       "      <td>NaN</td>\n",
       "      <td>Tesla_Model_S_2015</td>\n",
       "      <td>Volkswagen Golf 2018 e-Golf</td>\n",
       "      <td>31.506849</td>\n",
       "    </tr>\n",
       "    <tr>\n",
       "      <th>1</th>\n",
       "      <td>608</td>\n",
       "      <td>Volkswagen</td>\n",
       "      <td>Golf</td>\n",
       "      <td>2018</td>\n",
       "      <td>e-Golf</td>\n",
       "      <td>100.0</td>\n",
       "      <td>05.10.2021</td>\n",
       "      <td>NaN</td>\n",
       "      <td>88.0</td>\n",
       "      <td>4.0</td>\n",
       "      <td>...</td>\n",
       "      <td>Normal</td>\n",
       "      <td>16.87</td>\n",
       "      <td>1</td>\n",
       "      <td>0</td>\n",
       "      <td>NaN</td>\n",
       "      <td>3.97</td>\n",
       "      <td>NaN</td>\n",
       "      <td>Tesla_Model_S_2015</td>\n",
       "      <td>Volkswagen Golf 2018 e-Golf</td>\n",
       "      <td>4.545455</td>\n",
       "    </tr>\n",
       "    <tr>\n",
       "      <th>2</th>\n",
       "      <td>235</td>\n",
       "      <td>Volkswagen</td>\n",
       "      <td>Golf</td>\n",
       "      <td>2018</td>\n",
       "      <td>e-Golf</td>\n",
       "      <td>100.0</td>\n",
       "      <td>03.08.2022</td>\n",
       "      <td>NaN</td>\n",
       "      <td>173.0</td>\n",
       "      <td>19.0</td>\n",
       "      <td>...</td>\n",
       "      <td>Normal</td>\n",
       "      <td>NaN</td>\n",
       "      <td>1</td>\n",
       "      <td>0</td>\n",
       "      <td>NaN</td>\n",
       "      <td>NaN</td>\n",
       "      <td>NaN</td>\n",
       "      <td>Tesla_Model_S_2015</td>\n",
       "      <td>Volkswagen Golf 2018 e-Golf</td>\n",
       "      <td>10.982659</td>\n",
       "    </tr>\n",
       "    <tr>\n",
       "      <th>3</th>\n",
       "      <td>274</td>\n",
       "      <td>Volkswagen</td>\n",
       "      <td>Golf</td>\n",
       "      <td>2018</td>\n",
       "      <td>e-Golf</td>\n",
       "      <td>100.0</td>\n",
       "      <td>23.06.2022</td>\n",
       "      <td>NaN</td>\n",
       "      <td>110.0</td>\n",
       "      <td>9.0</td>\n",
       "      <td>...</td>\n",
       "      <td>Normal</td>\n",
       "      <td>11.63</td>\n",
       "      <td>1</td>\n",
       "      <td>0</td>\n",
       "      <td>NaN</td>\n",
       "      <td>-1.27</td>\n",
       "      <td>NaN</td>\n",
       "      <td>Tesla_Model_S_2015</td>\n",
       "      <td>Volkswagen Golf 2018 e-Golf</td>\n",
       "      <td>8.181818</td>\n",
       "    </tr>\n",
       "    <tr>\n",
       "      <th>4</th>\n",
       "      <td>1047</td>\n",
       "      <td>Volkswagen</td>\n",
       "      <td>Golf</td>\n",
       "      <td>2018</td>\n",
       "      <td>e-Golf</td>\n",
       "      <td>100.0</td>\n",
       "      <td>07.07.2020</td>\n",
       "      <td>NaN</td>\n",
       "      <td>81.0</td>\n",
       "      <td>11.6</td>\n",
       "      <td>...</td>\n",
       "      <td>Normal</td>\n",
       "      <td>16.25</td>\n",
       "      <td>1</td>\n",
       "      <td>0</td>\n",
       "      <td>NaN</td>\n",
       "      <td>3.35</td>\n",
       "      <td>NaN</td>\n",
       "      <td>Tesla_Model_S_2015</td>\n",
       "      <td>Volkswagen Golf 2018 e-Golf</td>\n",
       "      <td>14.320988</td>\n",
       "    </tr>\n",
       "  </tbody>\n",
       "</table>\n",
       "<p>5 rows × 25 columns</p>\n",
       "</div>"
      ],
      "text/plain": [
       "   Unnamed: 0 manufacturer model  year version  power(kW)   fuel_date   \n",
       "0         543   Volkswagen  Golf  2018  e-Golf      100.0  24.11.2021  \\\n",
       "1         608   Volkswagen  Golf  2018  e-Golf      100.0  05.10.2021   \n",
       "2         235   Volkswagen  Golf  2018  e-Golf      100.0  03.08.2022   \n",
       "3         274   Volkswagen  Golf  2018  e-Golf      100.0  23.06.2022   \n",
       "4        1047   Volkswagen  Golf  2018  e-Golf      100.0  07.07.2020   \n",
       "\n",
       "   odometer  trip_distance(km)  quantity(kWh)  ... driving_style   \n",
       "0       NaN               73.0           23.0  ...        Normal  \\\n",
       "1       NaN               88.0            4.0  ...        Normal   \n",
       "2       NaN              173.0           19.0  ...        Normal   \n",
       "3       NaN              110.0            9.0  ...        Normal   \n",
       "4       NaN               81.0           11.6  ...        Normal   \n",
       "\n",
       "  consumption(kWh/100km)  A/C  park_heating  avg_speed(km/h) ecr_deviation   \n",
       "0                  15.57    1             0              NaN          2.67  \\\n",
       "1                  16.87    1             0              NaN          3.97   \n",
       "2                    NaN    1             0              NaN           NaN   \n",
       "3                  11.63    1             0              NaN         -1.27   \n",
       "4                  16.25    1             0              NaN          3.35   \n",
       "\n",
       "   fuel_note             user_id        man_model_year_verion   \n",
       "0        NaN  Tesla_Model_S_2015  Volkswagen Golf 2018 e-Golf  \\\n",
       "1        NaN  Tesla_Model_S_2015  Volkswagen Golf 2018 e-Golf   \n",
       "2        NaN  Tesla_Model_S_2015  Volkswagen Golf 2018 e-Golf   \n",
       "3        NaN  Tesla_Model_S_2015  Volkswagen Golf 2018 e-Golf   \n",
       "4        NaN  Tesla_Model_S_2015  Volkswagen Golf 2018 e-Golf   \n",
       "\n",
       "   actual quantity consumed per 100 km  \n",
       "0                            31.506849  \n",
       "1                             4.545455  \n",
       "2                            10.982659  \n",
       "3                             8.181818  \n",
       "4                            14.320988  \n",
       "\n",
       "[5 rows x 25 columns]"
      ]
     },
     "execution_count": 22,
     "metadata": {},
     "output_type": "execute_result"
    }
   ],
   "source": [
    "df.head()"
   ]
  },
  {
   "cell_type": "code",
   "execution_count": 23,
   "metadata": {},
   "outputs": [],
   "source": [
    "y=pd.DataFrame(df['trip_distance(km)'])\n",
    "X=df.drop(columns='trip_distance(km)', axis=1)\n",
    "X_train_model, X_test_model, y_train_model, y_test_model=train_test_split(X, y, test_size=0.4, shuffle=True)\n",
    "train_data=pd.concat([X_train_model,y_train_model], axis=1)\n",
    "test_data=pd.concat([X_test_model,y_test_model], axis=1)\n",
    "\n",
    "# Feature selction for volkswagen\n",
    "# fetures_sel1=[ 'power(kW)', 'fuel_date', 'quantity(kWh)', \n",
    "#        'tire_type', 'city', 'motor_way', 'country_roads', 'driving_style',\n",
    "#         'park_heating', 'avg_speed(km/h)',\n",
    "#        'ecr_deviation','consumption(kWh/100km)','trip_distance(km)']\n",
    "\n",
    "#feature selection for all cars\n",
    "fetures_sel1=[ 'power(kW)','fuel_date', 'quantity(kWh)', 'odometer',\n",
    "               'tire_type', 'city', 'motor_way', 'country_roads', 'driving_style',\n",
    "               'consumption(kWh/100km)',  'A/C', 'park_heating',\n",
    "                  'ecr_deviation','trip_distance(km)', 'user_id']"
   ]
  },
  {
   "cell_type": "code",
   "execution_count": 24,
   "metadata": {},
   "outputs": [
    {
     "data": {
      "text/plain": [
       "(13986, 24)"
      ]
     },
     "execution_count": 24,
     "metadata": {},
     "output_type": "execute_result"
    }
   ],
   "source": [
    "X_train_model.shape"
   ]
  },
  {
   "cell_type": "code",
   "execution_count": 25,
   "metadata": {},
   "outputs": [
    {
     "data": {
      "text/plain": [
       "(9325, 24)"
      ]
     },
     "execution_count": 25,
     "metadata": {},
     "output_type": "execute_result"
    }
   ],
   "source": [
    "X_test_model.shape"
   ]
  },
  {
   "cell_type": "code",
   "execution_count": 26,
   "metadata": {},
   "outputs": [],
   "source": [
    "train_data=pd.concat([X_train_model,y_train_model], axis=1)\n",
    "test_data=pd.concat([X_test_model,y_test_model], axis=1)"
   ]
  },
  {
   "cell_type": "code",
   "execution_count": 27,
   "metadata": {},
   "outputs": [
    {
     "data": {
      "text/plain": [
       "Unnamed: 0                             0.000000\n",
       "manufacturer                           0.000000\n",
       "model                                  0.000000\n",
       "year                                   0.000000\n",
       "version                                0.000000\n",
       "power(kW)                              0.000000\n",
       "fuel_date                              0.000000\n",
       "odometer                               0.360718\n",
       "quantity(kWh)                          0.000000\n",
       "fuel_type                              0.000000\n",
       "tire_type                              0.004433\n",
       "city                                   0.000000\n",
       "motor_way                              0.000000\n",
       "country_roads                          0.000000\n",
       "driving_style                          0.004576\n",
       "consumption(kWh/100km)                 0.004219\n",
       "A/C                                    0.000000\n",
       "park_heating                           0.000000\n",
       "avg_speed(km/h)                        0.823681\n",
       "ecr_deviation                          0.112398\n",
       "fuel_note                              0.745603\n",
       "user_id                                0.000000\n",
       "man_model_year_verion                  0.000000\n",
       "actual quantity consumed per 100 km    0.000000\n",
       "trip_distance(km)                      0.000000\n",
       "dtype: float64"
      ]
     },
     "execution_count": 27,
     "metadata": {},
     "output_type": "execute_result"
    }
   ],
   "source": [
    "train_data.isna().sum()/train_data.shape[0]"
   ]
  },
  {
   "cell_type": "code",
   "execution_count": 28,
   "metadata": {},
   "outputs": [
    {
     "data": {
      "text/plain": [
       "Unnamed: 0                             0.000000\n",
       "manufacturer                           0.000000\n",
       "model                                  0.000000\n",
       "year                                   0.000000\n",
       "version                                0.000000\n",
       "power(kW)                              0.000000\n",
       "fuel_date                              0.000000\n",
       "odometer                               0.346595\n",
       "quantity(kWh)                          0.000000\n",
       "fuel_type                              0.000000\n",
       "tire_type                              0.003003\n",
       "city                                   0.000000\n",
       "motor_way                              0.000000\n",
       "country_roads                          0.000000\n",
       "driving_style                          0.005040\n",
       "consumption(kWh/100km)                 0.003861\n",
       "A/C                                    0.000000\n",
       "park_heating                           0.000000\n",
       "avg_speed(km/h)                        0.821984\n",
       "ecr_deviation                          0.110027\n",
       "fuel_note                              0.747131\n",
       "user_id                                0.000000\n",
       "man_model_year_verion                  0.000000\n",
       "actual quantity consumed per 100 km    0.000000\n",
       "trip_distance(km)                      0.000000\n",
       "dtype: float64"
      ]
     },
     "execution_count": 28,
     "metadata": {},
     "output_type": "execute_result"
    }
   ],
   "source": [
    "test_data.isna().sum()/test_data.shape[0]"
   ]
  },
  {
   "cell_type": "markdown",
   "metadata": {},
   "source": [
    "### 1. Feature Selection"
   ]
  },
  {
   "cell_type": "code",
   "execution_count": 29,
   "metadata": {},
   "outputs": [],
   "source": [
    "train_model_sel=train_data[fetures_sel1]\n",
    "test_model_sel=test_data[fetures_sel1]"
   ]
  },
  {
   "cell_type": "code",
   "execution_count": 30,
   "metadata": {},
   "outputs": [
    {
     "data": {
      "text/html": [
       "<div>\n",
       "<style scoped>\n",
       "    .dataframe tbody tr th:only-of-type {\n",
       "        vertical-align: middle;\n",
       "    }\n",
       "\n",
       "    .dataframe tbody tr th {\n",
       "        vertical-align: top;\n",
       "    }\n",
       "\n",
       "    .dataframe thead th {\n",
       "        text-align: right;\n",
       "    }\n",
       "</style>\n",
       "<table border=\"1\" class=\"dataframe\">\n",
       "  <thead>\n",
       "    <tr style=\"text-align: right;\">\n",
       "      <th></th>\n",
       "      <th>power(kW)</th>\n",
       "      <th>fuel_date</th>\n",
       "      <th>quantity(kWh)</th>\n",
       "      <th>odometer</th>\n",
       "      <th>tire_type</th>\n",
       "      <th>city</th>\n",
       "      <th>motor_way</th>\n",
       "      <th>country_roads</th>\n",
       "      <th>driving_style</th>\n",
       "      <th>consumption(kWh/100km)</th>\n",
       "      <th>A/C</th>\n",
       "      <th>park_heating</th>\n",
       "      <th>ecr_deviation</th>\n",
       "      <th>trip_distance(km)</th>\n",
       "      <th>user_id</th>\n",
       "    </tr>\n",
       "  </thead>\n",
       "  <tbody>\n",
       "    <tr>\n",
       "      <th>9926</th>\n",
       "      <td>49.0</td>\n",
       "      <td>18.07.2018</td>\n",
       "      <td>8.08</td>\n",
       "      <td>162628.0</td>\n",
       "      <td>Summer tires</td>\n",
       "      <td>1</td>\n",
       "      <td>1</td>\n",
       "      <td>1</td>\n",
       "      <td>Normal</td>\n",
       "      <td>11.60</td>\n",
       "      <td>0</td>\n",
       "      <td>0</td>\n",
       "      <td>-1.90</td>\n",
       "      <td>44.7</td>\n",
       "      <td>Tesla_Model_S_2015</td>\n",
       "    </tr>\n",
       "    <tr>\n",
       "      <th>21505</th>\n",
       "      <td>132.0</td>\n",
       "      <td>17.11.2017</td>\n",
       "      <td>13.05</td>\n",
       "      <td>27854.0</td>\n",
       "      <td>Summer tires</td>\n",
       "      <td>1</td>\n",
       "      <td>1</td>\n",
       "      <td>1</td>\n",
       "      <td>Moderate</td>\n",
       "      <td>21.79</td>\n",
       "      <td>0</td>\n",
       "      <td>1</td>\n",
       "      <td>5.19</td>\n",
       "      <td>70.0</td>\n",
       "      <td>Tesla_Model_S_2015</td>\n",
       "    </tr>\n",
       "    <tr>\n",
       "      <th>16831</th>\n",
       "      <td>88.0</td>\n",
       "      <td>21.05.2018</td>\n",
       "      <td>14.71</td>\n",
       "      <td>11250.0</td>\n",
       "      <td>Summer tires</td>\n",
       "      <td>1</td>\n",
       "      <td>1</td>\n",
       "      <td>1</td>\n",
       "      <td>Moderate</td>\n",
       "      <td>12.19</td>\n",
       "      <td>0</td>\n",
       "      <td>0</td>\n",
       "      <td>NaN</td>\n",
       "      <td>120.7</td>\n",
       "      <td>Tesla_Model_S_2015</td>\n",
       "    </tr>\n",
       "    <tr>\n",
       "      <th>10327</th>\n",
       "      <td>49.0</td>\n",
       "      <td>10.08.2017</td>\n",
       "      <td>4.18</td>\n",
       "      <td>140219.0</td>\n",
       "      <td>Summer tires</td>\n",
       "      <td>0</td>\n",
       "      <td>0</td>\n",
       "      <td>1</td>\n",
       "      <td>Moderate</td>\n",
       "      <td>11.27</td>\n",
       "      <td>0</td>\n",
       "      <td>0</td>\n",
       "      <td>-2.23</td>\n",
       "      <td>37.1</td>\n",
       "      <td>Tesla_Model_S_2015</td>\n",
       "    </tr>\n",
       "    <tr>\n",
       "      <th>9552</th>\n",
       "      <td>49.0</td>\n",
       "      <td>28.09.2016</td>\n",
       "      <td>10.70</td>\n",
       "      <td>118787.0</td>\n",
       "      <td>Summer tires</td>\n",
       "      <td>1</td>\n",
       "      <td>0</td>\n",
       "      <td>1</td>\n",
       "      <td>Normal</td>\n",
       "      <td>10.72</td>\n",
       "      <td>0</td>\n",
       "      <td>0</td>\n",
       "      <td>-2.78</td>\n",
       "      <td>99.8</td>\n",
       "      <td>Tesla_Model_S_2015</td>\n",
       "    </tr>\n",
       "  </tbody>\n",
       "</table>\n",
       "</div>"
      ],
      "text/plain": [
       "       power(kW)   fuel_date  quantity(kWh)  odometer     tire_type  city   \n",
       "9926        49.0  18.07.2018           8.08  162628.0  Summer tires     1  \\\n",
       "21505      132.0  17.11.2017          13.05   27854.0  Summer tires     1   \n",
       "16831       88.0  21.05.2018          14.71   11250.0  Summer tires     1   \n",
       "10327       49.0  10.08.2017           4.18  140219.0  Summer tires     0   \n",
       "9552        49.0  28.09.2016          10.70  118787.0  Summer tires     1   \n",
       "\n",
       "       motor_way  country_roads driving_style  consumption(kWh/100km)  A/C   \n",
       "9926           1              1        Normal                   11.60    0  \\\n",
       "21505          1              1      Moderate                   21.79    0   \n",
       "16831          1              1      Moderate                   12.19    0   \n",
       "10327          0              1      Moderate                   11.27    0   \n",
       "9552           0              1        Normal                   10.72    0   \n",
       "\n",
       "       park_heating  ecr_deviation  trip_distance(km)             user_id  \n",
       "9926              0          -1.90               44.7  Tesla_Model_S_2015  \n",
       "21505             1           5.19               70.0  Tesla_Model_S_2015  \n",
       "16831             0            NaN              120.7  Tesla_Model_S_2015  \n",
       "10327             0          -2.23               37.1  Tesla_Model_S_2015  \n",
       "9552              0          -2.78               99.8  Tesla_Model_S_2015  "
      ]
     },
     "execution_count": 30,
     "metadata": {},
     "output_type": "execute_result"
    }
   ],
   "source": [
    "train_model_sel.head()"
   ]
  },
  {
   "cell_type": "code",
   "execution_count": 31,
   "metadata": {},
   "outputs": [],
   "source": [
    "def fillinMissingvalues(df, columns):\n",
    "    for col in columns:\n",
    "        print(df[col].dtypes)\n",
    "        if df[col].dtypes=='float64':\n",
    "            df[col].fillna(value=df[col].mean(), inplace=True)\n",
    "        elif df[col].dtypes=='object':\n",
    "            df[col].fillna(value=df[col].astype('str').mode(), inplace=True)\n",
    "        elif df[col].dtypes=='int64':\n",
    "            df[col].fillna(value=df[col].mode(), inplace=True)\n",
    "    return df\n",
    "            "
   ]
  },
  {
   "attachments": {},
   "cell_type": "markdown",
   "metadata": {},
   "source": [
    "### Fill Missing value"
   ]
  },
  {
   "cell_type": "code",
   "execution_count": 32,
   "metadata": {},
   "outputs": [
    {
     "name": "stdout",
     "output_type": "stream",
     "text": [
      "<class 'pandas.core.frame.DataFrame'>\n",
      "Index: 13986 entries, 9926 to 10416\n",
      "Data columns (total 15 columns):\n",
      " #   Column                  Non-Null Count  Dtype  \n",
      "---  ------                  --------------  -----  \n",
      " 0   power(kW)               13986 non-null  float64\n",
      " 1   fuel_date               13986 non-null  object \n",
      " 2   quantity(kWh)           13986 non-null  float64\n",
      " 3   odometer                8941 non-null   float64\n",
      " 4   tire_type               13924 non-null  object \n",
      " 5   city                    13986 non-null  int64  \n",
      " 6   motor_way               13986 non-null  int64  \n",
      " 7   country_roads           13986 non-null  int64  \n",
      " 8   driving_style           13922 non-null  object \n",
      " 9   consumption(kWh/100km)  13927 non-null  float64\n",
      " 10  A/C                     13986 non-null  int64  \n",
      " 11  park_heating            13986 non-null  int64  \n",
      " 12  ecr_deviation           12414 non-null  float64\n",
      " 13  trip_distance(km)       13986 non-null  float64\n",
      " 14  user_id                 13986 non-null  object \n",
      "dtypes: float64(6), int64(5), object(4)\n",
      "memory usage: 1.7+ MB\n"
     ]
    }
   ],
   "source": [
    "train_model_sel.info()"
   ]
  },
  {
   "cell_type": "code",
   "execution_count": 33,
   "metadata": {},
   "outputs": [
    {
     "data": {
      "text/plain": [
       "power(kW)                 False\n",
       "fuel_date                 False\n",
       "quantity(kWh)             False\n",
       "odometer                   True\n",
       "tire_type                  True\n",
       "city                      False\n",
       "motor_way                 False\n",
       "country_roads             False\n",
       "driving_style              True\n",
       "consumption(kWh/100km)     True\n",
       "A/C                       False\n",
       "park_heating              False\n",
       "ecr_deviation              True\n",
       "trip_distance(km)         False\n",
       "user_id                   False\n",
       "dtype: bool"
      ]
     },
     "execution_count": 33,
     "metadata": {},
     "output_type": "execute_result"
    }
   ],
   "source": [
    "test_model_sel.isna().any()"
   ]
  },
  {
   "cell_type": "code",
   "execution_count": 34,
   "metadata": {},
   "outputs": [
    {
     "data": {
      "text/plain": [
       "Index(['power(kW)', 'fuel_date', 'quantity(kWh)', 'odometer', 'tire_type',\n",
       "       'city', 'motor_way', 'country_roads', 'driving_style',\n",
       "       'consumption(kWh/100km)', 'A/C', 'park_heating', 'ecr_deviation',\n",
       "       'trip_distance(km)', 'user_id'],\n",
       "      dtype='object')"
      ]
     },
     "execution_count": 34,
     "metadata": {},
     "output_type": "execute_result"
    }
   ],
   "source": [
    "train_model_sel.columns"
   ]
  },
  {
   "cell_type": "code",
   "execution_count": 35,
   "metadata": {},
   "outputs": [
    {
     "name": "stdout",
     "output_type": "stream",
     "text": [
      "float64\n",
      "float64\n",
      "object\n",
      "float64\n",
      "float64\n",
      "object\n"
     ]
    },
    {
     "name": "stderr",
     "output_type": "stream",
     "text": [
      "/tmp/ipykernel_385920/1501830933.py:5: SettingWithCopyWarning: \n",
      "A value is trying to be set on a copy of a slice from a DataFrame\n",
      "\n",
      "See the caveats in the documentation: https://pandas.pydata.org/pandas-docs/stable/user_guide/indexing.html#returning-a-view-versus-a-copy\n",
      "  df[col].fillna(value=df[col].mean(), inplace=True)\n",
      "/tmp/ipykernel_385920/1501830933.py:7: SettingWithCopyWarning: \n",
      "A value is trying to be set on a copy of a slice from a DataFrame\n",
      "\n",
      "See the caveats in the documentation: https://pandas.pydata.org/pandas-docs/stable/user_guide/indexing.html#returning-a-view-versus-a-copy\n",
      "  df[col].fillna(value=df[col].astype('str').mode(), inplace=True)\n",
      "/tmp/ipykernel_385920/1501830933.py:5: SettingWithCopyWarning: \n",
      "A value is trying to be set on a copy of a slice from a DataFrame\n",
      "\n",
      "See the caveats in the documentation: https://pandas.pydata.org/pandas-docs/stable/user_guide/indexing.html#returning-a-view-versus-a-copy\n",
      "  df[col].fillna(value=df[col].mean(), inplace=True)\n",
      "/tmp/ipykernel_385920/1501830933.py:7: SettingWithCopyWarning: \n",
      "A value is trying to be set on a copy of a slice from a DataFrame\n",
      "\n",
      "See the caveats in the documentation: https://pandas.pydata.org/pandas-docs/stable/user_guide/indexing.html#returning-a-view-versus-a-copy\n",
      "  df[col].fillna(value=df[col].astype('str').mode(), inplace=True)\n"
     ]
    }
   ],
   "source": [
    "columns=['consumption(kWh/100km)','ecr_deviation', 'tire_type', ] \n",
    "train_data=fillinMissingvalues(train_model_sel, columns)               \n",
    "test_data=fillinMissingvalues(test_model_sel, columns)"
   ]
  },
  {
   "cell_type": "code",
   "execution_count": 36,
   "metadata": {},
   "outputs": [
    {
     "data": {
      "text/plain": [
       "power(kW)                    0\n",
       "fuel_date                    0\n",
       "quantity(kWh)                0\n",
       "odometer                  5045\n",
       "tire_type                   62\n",
       "city                         0\n",
       "motor_way                    0\n",
       "country_roads                0\n",
       "driving_style               64\n",
       "consumption(kWh/100km)       0\n",
       "A/C                          0\n",
       "park_heating                 0\n",
       "ecr_deviation                0\n",
       "trip_distance(km)            0\n",
       "user_id                      0\n",
       "dtype: int64"
      ]
     },
     "execution_count": 36,
     "metadata": {},
     "output_type": "execute_result"
    }
   ],
   "source": [
    "train_data.isna().sum()\n"
   ]
  },
  {
   "cell_type": "code",
   "execution_count": 37,
   "metadata": {},
   "outputs": [
    {
     "data": {
      "text/plain": [
       "power(kW)                    0\n",
       "fuel_date                    0\n",
       "quantity(kWh)                0\n",
       "odometer                  3232\n",
       "tire_type                   28\n",
       "city                         0\n",
       "motor_way                    0\n",
       "country_roads                0\n",
       "driving_style               47\n",
       "consumption(kWh/100km)       0\n",
       "A/C                          0\n",
       "park_heating                 0\n",
       "ecr_deviation                0\n",
       "trip_distance(km)            0\n",
       "user_id                      0\n",
       "dtype: int64"
      ]
     },
     "execution_count": 37,
     "metadata": {},
     "output_type": "execute_result"
    }
   ],
   "source": [
    "test_data.isna().sum()"
   ]
  },
  {
   "cell_type": "code",
   "execution_count": 38,
   "metadata": {},
   "outputs": [],
   "source": [
    "train_data['tire_type'].fillna(value=train_data['tire_type'].mode(), inplace=True)\n",
    "test_data['tire_type'].fillna(value=test_data['tire_type'].mode(), inplace=True)"
   ]
  },
  {
   "cell_type": "code",
   "execution_count": 39,
   "metadata": {},
   "outputs": [],
   "source": [
    "train_data['driving_style'].fillna(value=train_data['driving_style'].mode(), inplace=True)\n",
    "test_data['driving_style'].fillna(value=test_data['driving_style'].mode(), inplace=True)"
   ]
  },
  {
   "cell_type": "code",
   "execution_count": 40,
   "metadata": {},
   "outputs": [
    {
     "data": {
      "text/plain": [
       "power(kW)                    0\n",
       "fuel_date                    0\n",
       "quantity(kWh)                0\n",
       "odometer                  5045\n",
       "tire_type                   62\n",
       "city                         0\n",
       "motor_way                    0\n",
       "country_roads                0\n",
       "driving_style               64\n",
       "consumption(kWh/100km)       0\n",
       "A/C                          0\n",
       "park_heating                 0\n",
       "ecr_deviation                0\n",
       "trip_distance(km)            0\n",
       "user_id                      0\n",
       "dtype: int64"
      ]
     },
     "execution_count": 40,
     "metadata": {},
     "output_type": "execute_result"
    }
   ],
   "source": [
    "train_data.isna().sum()\n"
   ]
  },
  {
   "cell_type": "code",
   "execution_count": 41,
   "metadata": {},
   "outputs": [
    {
     "name": "stdout",
     "output_type": "stream",
     "text": [
      "<class 'pandas.core.frame.DataFrame'>\n",
      "Index: 9325 entries, 14512 to 18136\n",
      "Data columns (total 15 columns):\n",
      " #   Column                  Non-Null Count  Dtype  \n",
      "---  ------                  --------------  -----  \n",
      " 0   power(kW)               9325 non-null   float64\n",
      " 1   fuel_date               9325 non-null   object \n",
      " 2   quantity(kWh)           9325 non-null   float64\n",
      " 3   odometer                6093 non-null   float64\n",
      " 4   tire_type               9297 non-null   object \n",
      " 5   city                    9325 non-null   int64  \n",
      " 6   motor_way               9325 non-null   int64  \n",
      " 7   country_roads           9325 non-null   int64  \n",
      " 8   driving_style           9278 non-null   object \n",
      " 9   consumption(kWh/100km)  9325 non-null   float64\n",
      " 10  A/C                     9325 non-null   int64  \n",
      " 11  park_heating            9325 non-null   int64  \n",
      " 12  ecr_deviation           9325 non-null   float64\n",
      " 13  trip_distance(km)       9325 non-null   float64\n",
      " 14  user_id                 9325 non-null   object \n",
      "dtypes: float64(6), int64(5), object(4)\n",
      "memory usage: 1.1+ MB\n"
     ]
    }
   ],
   "source": [
    "test_data.info()"
   ]
  },
  {
   "cell_type": "markdown",
   "metadata": {},
   "source": [
    "### 2. Data type Conversion"
   ]
  },
  {
   "cell_type": "code",
   "execution_count": 42,
   "metadata": {},
   "outputs": [],
   "source": [
    "#colums_for_num_cov=['power(kW)','quantity(kWh)','avg_speed(km/h)','ecr_deviation']\n",
    "\n",
    "colums_for_num_cov=['power(kW)','quantity(kWh)','ecr_deviation', 'trip_distance(km)']\n",
    "train_model_num=convert_to_numeric(colums_for_num_cov, train_model_sel)\n",
    "test_model_num=convert_to_numeric(colums_for_num_cov, test_model_sel)"
   ]
  },
  {
   "cell_type": "code",
   "execution_count": 43,
   "metadata": {},
   "outputs": [
    {
     "name": "stdout",
     "output_type": "stream",
     "text": [
      "(13986, 15)\n",
      "(9325, 15)\n"
     ]
    }
   ],
   "source": [
    "print(train_model_num.shape)\n",
    "print(test_model_num.shape)"
   ]
  },
  {
   "cell_type": "code",
   "execution_count": 44,
   "metadata": {},
   "outputs": [],
   "source": [
    "# train_model_cat=convert_encodecategorical(train_model_num)\n",
    "# test_model_cat=convert_encodecategorical(test_model_num)\n",
    "\n",
    "train_model_cat=convert_encodecategorical(train_data)\n",
    "test_model_cat=convert_encodecategorical(test_data)"
   ]
  },
  {
   "cell_type": "code",
   "execution_count": 45,
   "metadata": {},
   "outputs": [
    {
     "name": "stdout",
     "output_type": "stream",
     "text": [
      "(13986, 15)\n",
      "(9325, 15)\n"
     ]
    }
   ],
   "source": [
    "print(train_model_num.shape)\n",
    "print(test_model_num.shape)"
   ]
  },
  {
   "cell_type": "code",
   "execution_count": 46,
   "metadata": {},
   "outputs": [
    {
     "name": "stdout",
     "output_type": "stream",
     "text": [
      "<class 'pandas.core.frame.DataFrame'>\n",
      "Index: 13986 entries, 9926 to 10416\n",
      "Data columns (total 15 columns):\n",
      " #   Column                  Non-Null Count  Dtype  \n",
      "---  ------                  --------------  -----  \n",
      " 0   power(kW)               13986 non-null  float64\n",
      " 1   fuel_date               13986 non-null  object \n",
      " 2   quantity(kWh)           13986 non-null  float64\n",
      " 3   odometer                8941 non-null   float64\n",
      " 4   tire_type               13924 non-null  object \n",
      " 5   city                    13986 non-null  int64  \n",
      " 6   motor_way               13986 non-null  int64  \n",
      " 7   country_roads           13986 non-null  int64  \n",
      " 8   driving_style           13922 non-null  object \n",
      " 9   consumption(kWh/100km)  13986 non-null  float64\n",
      " 10  A/C                     13986 non-null  int64  \n",
      " 11  park_heating            13986 non-null  int64  \n",
      " 12  ecr_deviation           13986 non-null  float64\n",
      " 13  trip_distance(km)       13986 non-null  float64\n",
      " 14  user_id                 13986 non-null  object \n",
      "dtypes: float64(6), int64(5), object(4)\n",
      "memory usage: 1.7+ MB\n"
     ]
    }
   ],
   "source": [
    "train_model_cat.info()"
   ]
  },
  {
   "cell_type": "code",
   "execution_count": 47,
   "metadata": {},
   "outputs": [
    {
     "data": {
      "text/html": [
       "<div>\n",
       "<style scoped>\n",
       "    .dataframe tbody tr th:only-of-type {\n",
       "        vertical-align: middle;\n",
       "    }\n",
       "\n",
       "    .dataframe tbody tr th {\n",
       "        vertical-align: top;\n",
       "    }\n",
       "\n",
       "    .dataframe thead th {\n",
       "        text-align: right;\n",
       "    }\n",
       "</style>\n",
       "<table border=\"1\" class=\"dataframe\">\n",
       "  <thead>\n",
       "    <tr style=\"text-align: right;\">\n",
       "      <th></th>\n",
       "      <th>power(kW)</th>\n",
       "      <th>fuel_date</th>\n",
       "      <th>quantity(kWh)</th>\n",
       "      <th>odometer</th>\n",
       "      <th>tire_type</th>\n",
       "      <th>city</th>\n",
       "      <th>motor_way</th>\n",
       "      <th>country_roads</th>\n",
       "      <th>driving_style</th>\n",
       "      <th>consumption(kWh/100km)</th>\n",
       "      <th>A/C</th>\n",
       "      <th>park_heating</th>\n",
       "      <th>ecr_deviation</th>\n",
       "      <th>trip_distance(km)</th>\n",
       "      <th>user_id</th>\n",
       "    </tr>\n",
       "  </thead>\n",
       "  <tbody>\n",
       "    <tr>\n",
       "      <th>14512</th>\n",
       "      <td>49.0</td>\n",
       "      <td>06.06.2022</td>\n",
       "      <td>5.40</td>\n",
       "      <td>64656.0</td>\n",
       "      <td>3.0</td>\n",
       "      <td>0</td>\n",
       "      <td>1</td>\n",
       "      <td>1</td>\n",
       "      <td>3.0</td>\n",
       "      <td>14.37</td>\n",
       "      <td>0</td>\n",
       "      <td>0</td>\n",
       "      <td>1.87</td>\n",
       "      <td>65.1</td>\n",
       "      <td>Tesla_Model_S_2015</td>\n",
       "    </tr>\n",
       "    <tr>\n",
       "      <th>12563</th>\n",
       "      <td>85.0</td>\n",
       "      <td>01.09.2017</td>\n",
       "      <td>3.70</td>\n",
       "      <td>NaN</td>\n",
       "      <td>3.0</td>\n",
       "      <td>1</td>\n",
       "      <td>1</td>\n",
       "      <td>1</td>\n",
       "      <td>2.0</td>\n",
       "      <td>18.60</td>\n",
       "      <td>0</td>\n",
       "      <td>0</td>\n",
       "      <td>5.90</td>\n",
       "      <td>20.0</td>\n",
       "      <td>Tesla_Model_S_2015</td>\n",
       "    </tr>\n",
       "    <tr>\n",
       "      <th>10086</th>\n",
       "      <td>49.0</td>\n",
       "      <td>29.12.2011</td>\n",
       "      <td>8.38</td>\n",
       "      <td>12148.0</td>\n",
       "      <td>2.0</td>\n",
       "      <td>1</td>\n",
       "      <td>0</td>\n",
       "      <td>1</td>\n",
       "      <td>1.0</td>\n",
       "      <td>15.58</td>\n",
       "      <td>0</td>\n",
       "      <td>0</td>\n",
       "      <td>2.08</td>\n",
       "      <td>53.8</td>\n",
       "      <td>Tesla_Model_S_2015</td>\n",
       "    </tr>\n",
       "    <tr>\n",
       "      <th>4624</th>\n",
       "      <td>60.0</td>\n",
       "      <td>10.02.2018</td>\n",
       "      <td>12.00</td>\n",
       "      <td>NaN</td>\n",
       "      <td>2.0</td>\n",
       "      <td>1</td>\n",
       "      <td>1</td>\n",
       "      <td>0</td>\n",
       "      <td>1.0</td>\n",
       "      <td>16.92</td>\n",
       "      <td>1</td>\n",
       "      <td>0</td>\n",
       "      <td>2.62</td>\n",
       "      <td>46.0</td>\n",
       "      <td>Tesla_Model_S_2015</td>\n",
       "    </tr>\n",
       "    <tr>\n",
       "      <th>6553</th>\n",
       "      <td>85.0</td>\n",
       "      <td>29.08.2019</td>\n",
       "      <td>3.33</td>\n",
       "      <td>109185.0</td>\n",
       "      <td>3.0</td>\n",
       "      <td>0</td>\n",
       "      <td>0</td>\n",
       "      <td>1</td>\n",
       "      <td>2.0</td>\n",
       "      <td>12.80</td>\n",
       "      <td>1</td>\n",
       "      <td>0</td>\n",
       "      <td>0.10</td>\n",
       "      <td>26.0</td>\n",
       "      <td>Tesla_Model_S_2015</td>\n",
       "    </tr>\n",
       "  </tbody>\n",
       "</table>\n",
       "</div>"
      ],
      "text/plain": [
       "       power(kW)   fuel_date  quantity(kWh)  odometer tire_type  city   \n",
       "14512       49.0  06.06.2022           5.40   64656.0       3.0     0  \\\n",
       "12563       85.0  01.09.2017           3.70       NaN       3.0     1   \n",
       "10086       49.0  29.12.2011           8.38   12148.0       2.0     1   \n",
       "4624        60.0  10.02.2018          12.00       NaN       2.0     1   \n",
       "6553        85.0  29.08.2019           3.33  109185.0       3.0     0   \n",
       "\n",
       "       motor_way  country_roads driving_style  consumption(kWh/100km)  A/C   \n",
       "14512          1              1           3.0                   14.37    0  \\\n",
       "12563          1              1           2.0                   18.60    0   \n",
       "10086          0              1           1.0                   15.58    0   \n",
       "4624           1              0           1.0                   16.92    1   \n",
       "6553           0              1           2.0                   12.80    1   \n",
       "\n",
       "       park_heating  ecr_deviation  trip_distance(km)             user_id  \n",
       "14512             0           1.87               65.1  Tesla_Model_S_2015  \n",
       "12563             0           5.90               20.0  Tesla_Model_S_2015  \n",
       "10086             0           2.08               53.8  Tesla_Model_S_2015  \n",
       "4624              0           2.62               46.0  Tesla_Model_S_2015  \n",
       "6553              0           0.10               26.0  Tesla_Model_S_2015  "
      ]
     },
     "execution_count": 47,
     "metadata": {},
     "output_type": "execute_result"
    }
   ],
   "source": [
    "test_model_cat.head()"
   ]
  },
  {
   "cell_type": "code",
   "execution_count": 48,
   "metadata": {},
   "outputs": [
    {
     "name": "stdout",
     "output_type": "stream",
     "text": [
      "<class 'pandas.core.frame.DataFrame'>\n",
      "Index: 13986 entries, 9926 to 10416\n",
      "Data columns (total 15 columns):\n",
      " #   Column                  Non-Null Count  Dtype  \n",
      "---  ------                  --------------  -----  \n",
      " 0   power(kW)               13986 non-null  float64\n",
      " 1   fuel_date               13986 non-null  object \n",
      " 2   quantity(kWh)           13986 non-null  float64\n",
      " 3   odometer                8941 non-null   float64\n",
      " 4   tire_type               13924 non-null  object \n",
      " 5   city                    13986 non-null  int64  \n",
      " 6   motor_way               13986 non-null  int64  \n",
      " 7   country_roads           13986 non-null  int64  \n",
      " 8   driving_style           13922 non-null  object \n",
      " 9   consumption(kWh/100km)  13986 non-null  float64\n",
      " 10  A/C                     13986 non-null  int64  \n",
      " 11  park_heating            13986 non-null  int64  \n",
      " 12  ecr_deviation           13986 non-null  float64\n",
      " 13  trip_distance(km)       13986 non-null  float64\n",
      " 14  user_id                 13986 non-null  object \n",
      "dtypes: float64(6), int64(5), object(4)\n",
      "memory usage: 1.7+ MB\n"
     ]
    }
   ],
   "source": [
    "train_model_cat.info()"
   ]
  },
  {
   "cell_type": "code",
   "execution_count": 49,
   "metadata": {},
   "outputs": [
    {
     "name": "stdout",
     "output_type": "stream",
     "text": [
      "<class 'pandas.core.frame.DataFrame'>\n",
      "Index: 9325 entries, 14512 to 18136\n",
      "Data columns (total 15 columns):\n",
      " #   Column                  Non-Null Count  Dtype  \n",
      "---  ------                  --------------  -----  \n",
      " 0   power(kW)               9325 non-null   float64\n",
      " 1   fuel_date               9325 non-null   object \n",
      " 2   quantity(kWh)           9325 non-null   float64\n",
      " 3   odometer                6093 non-null   float64\n",
      " 4   tire_type               9297 non-null   object \n",
      " 5   city                    9325 non-null   int64  \n",
      " 6   motor_way               9325 non-null   int64  \n",
      " 7   country_roads           9325 non-null   int64  \n",
      " 8   driving_style           9278 non-null   object \n",
      " 9   consumption(kWh/100km)  9325 non-null   float64\n",
      " 10  A/C                     9325 non-null   int64  \n",
      " 11  park_heating            9325 non-null   int64  \n",
      " 12  ecr_deviation           9325 non-null   float64\n",
      " 13  trip_distance(km)       9325 non-null   float64\n",
      " 14  user_id                 9325 non-null   object \n",
      "dtypes: float64(6), int64(5), object(4)\n",
      "memory usage: 1.1+ MB\n"
     ]
    }
   ],
   "source": [
    "test_model_cat.info()"
   ]
  },
  {
   "cell_type": "markdown",
   "metadata": {},
   "source": [
    "### 3. Tranform Fuel Date"
   ]
  },
  {
   "cell_type": "code",
   "execution_count": 50,
   "metadata": {},
   "outputs": [],
   "source": [
    "train_converted=convert_date(train_model_cat.copy())\n",
    "test_converted=convert_date(test_model_cat.copy())"
   ]
  },
  {
   "cell_type": "code",
   "execution_count": 51,
   "metadata": {},
   "outputs": [
    {
     "name": "stdout",
     "output_type": "stream",
     "text": [
      "(13986, 17)\n",
      "(9325, 17)\n"
     ]
    }
   ],
   "source": [
    "print(train_converted.shape)\n",
    "print(test_converted.shape)"
   ]
  },
  {
   "cell_type": "code",
   "execution_count": 52,
   "metadata": {},
   "outputs": [
    {
     "data": {
      "text/html": [
       "<div>\n",
       "<style scoped>\n",
       "    .dataframe tbody tr th:only-of-type {\n",
       "        vertical-align: middle;\n",
       "    }\n",
       "\n",
       "    .dataframe tbody tr th {\n",
       "        vertical-align: top;\n",
       "    }\n",
       "\n",
       "    .dataframe thead th {\n",
       "        text-align: right;\n",
       "    }\n",
       "</style>\n",
       "<table border=\"1\" class=\"dataframe\">\n",
       "  <thead>\n",
       "    <tr style=\"text-align: right;\">\n",
       "      <th></th>\n",
       "      <th>power(kW)</th>\n",
       "      <th>quantity(kWh)</th>\n",
       "      <th>odometer</th>\n",
       "      <th>tire_type</th>\n",
       "      <th>city</th>\n",
       "      <th>motor_way</th>\n",
       "      <th>country_roads</th>\n",
       "      <th>driving_style</th>\n",
       "      <th>consumption(kWh/100km)</th>\n",
       "      <th>A/C</th>\n",
       "      <th>park_heating</th>\n",
       "      <th>ecr_deviation</th>\n",
       "      <th>trip_distance(km)</th>\n",
       "      <th>user_id</th>\n",
       "      <th>month</th>\n",
       "      <th>weekday</th>\n",
       "      <th>day</th>\n",
       "    </tr>\n",
       "  </thead>\n",
       "  <tbody>\n",
       "    <tr>\n",
       "      <th>14512</th>\n",
       "      <td>49.0</td>\n",
       "      <td>5.40</td>\n",
       "      <td>64656.0</td>\n",
       "      <td>3.0</td>\n",
       "      <td>0</td>\n",
       "      <td>1</td>\n",
       "      <td>1</td>\n",
       "      <td>3.0</td>\n",
       "      <td>14.37</td>\n",
       "      <td>0</td>\n",
       "      <td>0</td>\n",
       "      <td>1.87</td>\n",
       "      <td>65.1</td>\n",
       "      <td>Tesla_Model_S_2015</td>\n",
       "      <td>6</td>\n",
       "      <td>0</td>\n",
       "      <td>6</td>\n",
       "    </tr>\n",
       "    <tr>\n",
       "      <th>12563</th>\n",
       "      <td>85.0</td>\n",
       "      <td>3.70</td>\n",
       "      <td>NaN</td>\n",
       "      <td>3.0</td>\n",
       "      <td>1</td>\n",
       "      <td>1</td>\n",
       "      <td>1</td>\n",
       "      <td>2.0</td>\n",
       "      <td>18.60</td>\n",
       "      <td>0</td>\n",
       "      <td>0</td>\n",
       "      <td>5.90</td>\n",
       "      <td>20.0</td>\n",
       "      <td>Tesla_Model_S_2015</td>\n",
       "      <td>9</td>\n",
       "      <td>4</td>\n",
       "      <td>1</td>\n",
       "    </tr>\n",
       "    <tr>\n",
       "      <th>10086</th>\n",
       "      <td>49.0</td>\n",
       "      <td>8.38</td>\n",
       "      <td>12148.0</td>\n",
       "      <td>2.0</td>\n",
       "      <td>1</td>\n",
       "      <td>0</td>\n",
       "      <td>1</td>\n",
       "      <td>1.0</td>\n",
       "      <td>15.58</td>\n",
       "      <td>0</td>\n",
       "      <td>0</td>\n",
       "      <td>2.08</td>\n",
       "      <td>53.8</td>\n",
       "      <td>Tesla_Model_S_2015</td>\n",
       "      <td>12</td>\n",
       "      <td>3</td>\n",
       "      <td>29</td>\n",
       "    </tr>\n",
       "    <tr>\n",
       "      <th>4624</th>\n",
       "      <td>60.0</td>\n",
       "      <td>12.00</td>\n",
       "      <td>NaN</td>\n",
       "      <td>2.0</td>\n",
       "      <td>1</td>\n",
       "      <td>1</td>\n",
       "      <td>0</td>\n",
       "      <td>1.0</td>\n",
       "      <td>16.92</td>\n",
       "      <td>1</td>\n",
       "      <td>0</td>\n",
       "      <td>2.62</td>\n",
       "      <td>46.0</td>\n",
       "      <td>Tesla_Model_S_2015</td>\n",
       "      <td>2</td>\n",
       "      <td>5</td>\n",
       "      <td>10</td>\n",
       "    </tr>\n",
       "    <tr>\n",
       "      <th>6553</th>\n",
       "      <td>85.0</td>\n",
       "      <td>3.33</td>\n",
       "      <td>109185.0</td>\n",
       "      <td>3.0</td>\n",
       "      <td>0</td>\n",
       "      <td>0</td>\n",
       "      <td>1</td>\n",
       "      <td>2.0</td>\n",
       "      <td>12.80</td>\n",
       "      <td>1</td>\n",
       "      <td>0</td>\n",
       "      <td>0.10</td>\n",
       "      <td>26.0</td>\n",
       "      <td>Tesla_Model_S_2015</td>\n",
       "      <td>8</td>\n",
       "      <td>3</td>\n",
       "      <td>29</td>\n",
       "    </tr>\n",
       "  </tbody>\n",
       "</table>\n",
       "</div>"
      ],
      "text/plain": [
       "       power(kW)  quantity(kWh)  odometer tire_type  city  motor_way   \n",
       "14512       49.0           5.40   64656.0       3.0     0          1  \\\n",
       "12563       85.0           3.70       NaN       3.0     1          1   \n",
       "10086       49.0           8.38   12148.0       2.0     1          0   \n",
       "4624        60.0          12.00       NaN       2.0     1          1   \n",
       "6553        85.0           3.33  109185.0       3.0     0          0   \n",
       "\n",
       "       country_roads driving_style  consumption(kWh/100km)  A/C  park_heating   \n",
       "14512              1           3.0                   14.37    0             0  \\\n",
       "12563              1           2.0                   18.60    0             0   \n",
       "10086              1           1.0                   15.58    0             0   \n",
       "4624               0           1.0                   16.92    1             0   \n",
       "6553               1           2.0                   12.80    1             0   \n",
       "\n",
       "       ecr_deviation  trip_distance(km)             user_id  month  weekday   \n",
       "14512           1.87               65.1  Tesla_Model_S_2015      6        0  \\\n",
       "12563           5.90               20.0  Tesla_Model_S_2015      9        4   \n",
       "10086           2.08               53.8  Tesla_Model_S_2015     12        3   \n",
       "4624            2.62               46.0  Tesla_Model_S_2015      2        5   \n",
       "6553            0.10               26.0  Tesla_Model_S_2015      8        3   \n",
       "\n",
       "       day  \n",
       "14512    6  \n",
       "12563    1  \n",
       "10086   29  \n",
       "4624    10  \n",
       "6553    29  "
      ]
     },
     "execution_count": 52,
     "metadata": {},
     "output_type": "execute_result"
    }
   ],
   "source": [
    "test_converted.head()"
   ]
  },
  {
   "cell_type": "code",
   "execution_count": 53,
   "metadata": {},
   "outputs": [],
   "source": [
    "import seaborn as sns\n",
    "import matplotlib.pyplot as plt"
   ]
  },
  {
   "cell_type": "code",
   "execution_count": 54,
   "metadata": {},
   "outputs": [],
   "source": [
    "data=pd.concat([train_converted,test_converted], axis=0)"
   ]
  },
  {
   "cell_type": "code",
   "execution_count": 55,
   "metadata": {},
   "outputs": [
    {
     "data": {
      "text/plain": [
       "Index(['power(kW)', 'quantity(kWh)', 'odometer', 'tire_type', 'city',\n",
       "       'motor_way', 'country_roads', 'driving_style', 'consumption(kWh/100km)',\n",
       "       'A/C', 'park_heating', 'ecr_deviation', 'trip_distance(km)', 'user_id',\n",
       "       'month', 'weekday', 'day'],\n",
       "      dtype='object')"
      ]
     },
     "execution_count": 55,
     "metadata": {},
     "output_type": "execute_result"
    }
   ],
   "source": [
    "data.columns"
   ]
  },
  {
   "cell_type": "code",
   "execution_count": 56,
   "metadata": {},
   "outputs": [
    {
     "data": {
      "text/plain": [
       "<seaborn.axisgrid.FacetGrid at 0x7f2642165d50>"
      ]
     },
     "execution_count": 56,
     "metadata": {},
     "output_type": "execute_result"
    },
    {
     "data": {
      "image/png": "[encoded data removed]",
      "text/plain": [
       "<Figure size 500x500 with 1 Axes>"
      ]
     },
     "metadata": {},
     "output_type": "display_data"
    }
   ],
   "source": [
    "sns.catplot(data=data, x=\"park_heating\", y=\"trip_distance(km)\", jitter=False,hue='park_heating')"
   ]
  },
  {
   "cell_type": "markdown",
   "metadata": {},
   "source": [
    " ### 5. Filling Missing values"
   ]
  },
  {
   "cell_type": "code",
   "execution_count": 57,
   "metadata": {},
   "outputs": [
    {
     "name": "stdout",
     "output_type": "stream",
     "text": [
      "<class 'pandas.core.frame.DataFrame'>\n",
      "Index: 13986 entries, 9926 to 10416\n",
      "Data columns (total 17 columns):\n",
      " #   Column                  Non-Null Count  Dtype  \n",
      "---  ------                  --------------  -----  \n",
      " 0   power(kW)               13986 non-null  float64\n",
      " 1   quantity(kWh)           13986 non-null  float64\n",
      " 2   odometer                8941 non-null   float64\n",
      " 3   tire_type               13924 non-null  object \n",
      " 4   city                    13986 non-null  int64  \n",
      " 5   motor_way               13986 non-null  int64  \n",
      " 6   country_roads           13986 non-null  int64  \n",
      " 7   driving_style           13922 non-null  object \n",
      " 8   consumption(kWh/100km)  13986 non-null  float64\n",
      " 9   A/C                     13986 non-null  int64  \n",
      " 10  park_heating            13986 non-null  int64  \n",
      " 11  ecr_deviation           13986 non-null  float64\n",
      " 12  trip_distance(km)       13986 non-null  float64\n",
      " 13  user_id                 13986 non-null  object \n",
      " 14  month                   13986 non-null  int32  \n",
      " 15  weekday                 13986 non-null  int32  \n",
      " 16  day                     13986 non-null  int32  \n",
      "dtypes: float64(6), int32(3), int64(5), object(3)\n",
      "memory usage: 1.8+ MB\n"
     ]
    }
   ],
   "source": [
    "train_converted.info()"
   ]
  },
  {
   "cell_type": "code",
   "execution_count": 58,
   "metadata": {},
   "outputs": [
    {
     "data": {
      "text/plain": [
       "power(kW)                    0\n",
       "quantity(kWh)                0\n",
       "odometer                  5045\n",
       "tire_type                   62\n",
       "city                         0\n",
       "motor_way                    0\n",
       "country_roads                0\n",
       "driving_style               64\n",
       "consumption(kWh/100km)       0\n",
       "A/C                          0\n",
       "park_heating                 0\n",
       "ecr_deviation                0\n",
       "trip_distance(km)            0\n",
       "user_id                      0\n",
       "month                        0\n",
       "weekday                      0\n",
       "day                          0\n",
       "dtype: int64"
      ]
     },
     "execution_count": 58,
     "metadata": {},
     "output_type": "execute_result"
    }
   ],
   "source": [
    "train_converted.isna().sum()"
   ]
  },
  {
   "cell_type": "code",
   "execution_count": 59,
   "metadata": {},
   "outputs": [
    {
     "data": {
      "text/plain": [
       "power(kW)                    0\n",
       "quantity(kWh)                0\n",
       "odometer                  3232\n",
       "tire_type                   28\n",
       "city                         0\n",
       "motor_way                    0\n",
       "country_roads                0\n",
       "driving_style               47\n",
       "consumption(kWh/100km)       0\n",
       "A/C                          0\n",
       "park_heating                 0\n",
       "ecr_deviation                0\n",
       "trip_distance(km)            0\n",
       "user_id                      0\n",
       "month                        0\n",
       "weekday                      0\n",
       "day                          0\n",
       "dtype: int64"
      ]
     },
     "execution_count": 59,
     "metadata": {},
     "output_type": "execute_result"
    }
   ],
   "source": [
    "test_converted.isna().sum()"
   ]
  },
  {
   "cell_type": "code",
   "execution_count": 60,
   "metadata": {},
   "outputs": [
    {
     "name": "stdout",
     "output_type": "stream",
     "text": [
      "float64\n",
      "float64\n"
     ]
    }
   ],
   "source": [
    "columns=['trip_distance(km)'] \n",
    "train_converted=fillinMissingvalues(train_converted, columns)               \n",
    "test_converted=fillinMissingvalues(test_converted, columns)"
   ]
  },
  {
   "cell_type": "code",
   "execution_count": 61,
   "metadata": {},
   "outputs": [
    {
     "name": "stdout",
     "output_type": "stream",
     "text": [
      "(13986, 17)\n",
      "(9325, 17)\n"
     ]
    }
   ],
   "source": [
    "print(train_converted.shape)\n",
    "print(test_converted.shape)"
   ]
  },
  {
   "cell_type": "code",
   "execution_count": 62,
   "metadata": {},
   "outputs": [
    {
     "data": {
      "text/plain": [
       "power(kW)                    0\n",
       "quantity(kWh)                0\n",
       "odometer                  5045\n",
       "tire_type                   62\n",
       "city                         0\n",
       "motor_way                    0\n",
       "country_roads                0\n",
       "driving_style               64\n",
       "consumption(kWh/100km)       0\n",
       "A/C                          0\n",
       "park_heating                 0\n",
       "ecr_deviation                0\n",
       "trip_distance(km)            0\n",
       "user_id                      0\n",
       "month                        0\n",
       "weekday                      0\n",
       "day                          0\n",
       "dtype: int64"
      ]
     },
     "execution_count": 62,
     "metadata": {},
     "output_type": "execute_result"
    }
   ],
   "source": [
    "train_converted.isna().sum()"
   ]
  },
  {
   "cell_type": "code",
   "execution_count": 63,
   "metadata": {},
   "outputs": [
    {
     "data": {
      "text/plain": [
       "power(kW)                    0\n",
       "quantity(kWh)                0\n",
       "odometer                  3232\n",
       "tire_type                   28\n",
       "city                         0\n",
       "motor_way                    0\n",
       "country_roads                0\n",
       "driving_style               47\n",
       "consumption(kWh/100km)       0\n",
       "A/C                          0\n",
       "park_heating                 0\n",
       "ecr_deviation                0\n",
       "trip_distance(km)            0\n",
       "user_id                      0\n",
       "month                        0\n",
       "weekday                      0\n",
       "day                          0\n",
       "dtype: int64"
      ]
     },
     "execution_count": 63,
     "metadata": {},
     "output_type": "execute_result"
    }
   ],
   "source": [
    "test_converted.isna().sum()"
   ]
  },
  {
   "cell_type": "code",
   "execution_count": 64,
   "metadata": {},
   "outputs": [
    {
     "name": "stdout",
     "output_type": "stream",
     "text": [
      "(13986, 17)\n",
      "(9325, 17)\n"
     ]
    }
   ],
   "source": [
    "print(train_converted.shape)\n",
    "print(test_converted.shape)"
   ]
  },
  {
   "cell_type": "code",
   "execution_count": 65,
   "metadata": {},
   "outputs": [],
   "source": [
    "test_converted['tire_type'].fillna(value=test_converted['tire_type'].mode(), inplace=True)\n",
    "test_converted['driving_style'].fillna(value=test_converted['driving_style'].mode(), inplace=True)\n",
    "\n"
   ]
  },
  {
   "cell_type": "code",
   "execution_count": 66,
   "metadata": {},
   "outputs": [],
   "source": [
    "train_converted['tire_type'].fillna(value=train_converted['tire_type'].mode(), inplace=True)\n",
    "train_converted['driving_style'].fillna(value=train_converted['driving_style'].mode(), inplace=True)\n"
   ]
  },
  {
   "cell_type": "code",
   "execution_count": 67,
   "metadata": {},
   "outputs": [
    {
     "data": {
      "text/plain": [
       "power(kW)                    0\n",
       "quantity(kWh)                0\n",
       "odometer                  5045\n",
       "tire_type                   62\n",
       "city                         0\n",
       "motor_way                    0\n",
       "country_roads                0\n",
       "driving_style               64\n",
       "consumption(kWh/100km)       0\n",
       "A/C                          0\n",
       "park_heating                 0\n",
       "ecr_deviation                0\n",
       "trip_distance(km)            0\n",
       "user_id                      0\n",
       "month                        0\n",
       "weekday                      0\n",
       "day                          0\n",
       "dtype: int64"
      ]
     },
     "execution_count": 67,
     "metadata": {},
     "output_type": "execute_result"
    }
   ],
   "source": [
    "train_converted.isna().sum()"
   ]
  },
  {
   "cell_type": "code",
   "execution_count": 68,
   "metadata": {},
   "outputs": [
    {
     "data": {
      "text/plain": [
       "power(kW)                    0\n",
       "quantity(kWh)                0\n",
       "odometer                  3232\n",
       "tire_type                   28\n",
       "city                         0\n",
       "motor_way                    0\n",
       "country_roads                0\n",
       "driving_style               47\n",
       "consumption(kWh/100km)       0\n",
       "A/C                          0\n",
       "park_heating                 0\n",
       "ecr_deviation                0\n",
       "trip_distance(km)            0\n",
       "user_id                      0\n",
       "month                        0\n",
       "weekday                      0\n",
       "day                          0\n",
       "dtype: int64"
      ]
     },
     "execution_count": 68,
     "metadata": {},
     "output_type": "execute_result"
    }
   ],
   "source": [
    "test_converted.isna().sum()"
   ]
  },
  {
   "cell_type": "code",
   "execution_count": 69,
   "metadata": {},
   "outputs": [
    {
     "name": "stdout",
     "output_type": "stream",
     "text": [
      "<class 'pandas.core.frame.DataFrame'>\n",
      "Index: 13986 entries, 9926 to 10416\n",
      "Data columns (total 15 columns):\n",
      " #   Column                  Non-Null Count  Dtype  \n",
      "---  ------                  --------------  -----  \n",
      " 0   power(kW)               13986 non-null  float64\n",
      " 1   fuel_date               13986 non-null  object \n",
      " 2   quantity(kWh)           13986 non-null  float64\n",
      " 3   odometer                8941 non-null   float64\n",
      " 4   tire_type               13924 non-null  object \n",
      " 5   city                    13986 non-null  int64  \n",
      " 6   motor_way               13986 non-null  int64  \n",
      " 7   country_roads           13986 non-null  int64  \n",
      " 8   driving_style           13922 non-null  object \n",
      " 9   consumption(kWh/100km)  13986 non-null  float64\n",
      " 10  A/C                     13986 non-null  int64  \n",
      " 11  park_heating            13986 non-null  int64  \n",
      " 12  ecr_deviation           13986 non-null  float64\n",
      " 13  trip_distance(km)       13986 non-null  float64\n",
      " 14  user_id                 13986 non-null  object \n",
      "dtypes: float64(6), int64(5), object(4)\n",
      "memory usage: 1.7+ MB\n"
     ]
    }
   ],
   "source": [
    "train_model_cat.info()"
   ]
  },
  {
   "cell_type": "code",
   "execution_count": 70,
   "metadata": {},
   "outputs": [
    {
     "name": "stdout",
     "output_type": "stream",
     "text": [
      "<class 'pandas.core.frame.DataFrame'>\n",
      "Index: 9325 entries, 14512 to 18136\n",
      "Data columns (total 15 columns):\n",
      " #   Column                  Non-Null Count  Dtype  \n",
      "---  ------                  --------------  -----  \n",
      " 0   power(kW)               9325 non-null   float64\n",
      " 1   fuel_date               9325 non-null   object \n",
      " 2   quantity(kWh)           9325 non-null   float64\n",
      " 3   odometer                6093 non-null   float64\n",
      " 4   tire_type               9297 non-null   object \n",
      " 5   city                    9325 non-null   int64  \n",
      " 6   motor_way               9325 non-null   int64  \n",
      " 7   country_roads           9325 non-null   int64  \n",
      " 8   driving_style           9278 non-null   object \n",
      " 9   consumption(kWh/100km)  9325 non-null   float64\n",
      " 10  A/C                     9325 non-null   int64  \n",
      " 11  park_heating            9325 non-null   int64  \n",
      " 12  ecr_deviation           9325 non-null   float64\n",
      " 13  trip_distance(km)       9325 non-null   float64\n",
      " 14  user_id                 9325 non-null   object \n",
      "dtypes: float64(6), int64(5), object(4)\n",
      "memory usage: 1.1+ MB\n"
     ]
    }
   ],
   "source": [
    "test_model_cat.info()"
   ]
  },
  {
   "cell_type": "code",
   "execution_count": 71,
   "metadata": {},
   "outputs": [],
   "source": [
    "train_converted.dropna(inplace=True)\n",
    "test_converted.dropna(inplace=True)"
   ]
  },
  {
   "cell_type": "code",
   "execution_count": 72,
   "metadata": {},
   "outputs": [
    {
     "name": "stdout",
     "output_type": "stream",
     "text": [
      "(8833, 17)\n",
      "(6031, 17)\n"
     ]
    }
   ],
   "source": [
    "print(train_converted.shape)\n",
    "print(test_converted.shape)"
   ]
  },
  {
   "cell_type": "code",
   "execution_count": 73,
   "metadata": {},
   "outputs": [],
   "source": [
    "train_converted_copy=train_converted.copy()"
   ]
  },
  {
   "cell_type": "code",
   "execution_count": 74,
   "metadata": {},
   "outputs": [],
   "source": [
    "test_converted_copy=test_converted.copy()"
   ]
  },
  {
   "cell_type": "code",
   "execution_count": 75,
   "metadata": {},
   "outputs": [
    {
     "data": {
      "text/html": [
       "<div>\n",
       "<style scoped>\n",
       "    .dataframe tbody tr th:only-of-type {\n",
       "        vertical-align: middle;\n",
       "    }\n",
       "\n",
       "    .dataframe tbody tr th {\n",
       "        vertical-align: top;\n",
       "    }\n",
       "\n",
       "    .dataframe thead th {\n",
       "        text-align: right;\n",
       "    }\n",
       "</style>\n",
       "<table border=\"1\" class=\"dataframe\">\n",
       "  <thead>\n",
       "    <tr style=\"text-align: right;\">\n",
       "      <th></th>\n",
       "      <th>power(kW)</th>\n",
       "      <th>quantity(kWh)</th>\n",
       "      <th>tire_type</th>\n",
       "      <th>city</th>\n",
       "      <th>motor_way</th>\n",
       "      <th>country_roads</th>\n",
       "      <th>driving_style</th>\n",
       "      <th>consumption(kWh/100km)</th>\n",
       "      <th>A/C</th>\n",
       "      <th>park_heating</th>\n",
       "      <th>ecr_deviation</th>\n",
       "      <th>trip_distance(km)</th>\n",
       "      <th>user_id</th>\n",
       "      <th>month</th>\n",
       "      <th>weekday</th>\n",
       "      <th>day</th>\n",
       "    </tr>\n",
       "  </thead>\n",
       "  <tbody>\n",
       "    <tr>\n",
       "      <th>14512</th>\n",
       "      <td>49.0</td>\n",
       "      <td>5.40</td>\n",
       "      <td>3.0</td>\n",
       "      <td>0</td>\n",
       "      <td>1</td>\n",
       "      <td>1</td>\n",
       "      <td>3.0</td>\n",
       "      <td>14.37</td>\n",
       "      <td>0</td>\n",
       "      <td>0</td>\n",
       "      <td>1.87</td>\n",
       "      <td>65.1</td>\n",
       "      <td>Tesla_Model_S_2015</td>\n",
       "      <td>6</td>\n",
       "      <td>0</td>\n",
       "      <td>6</td>\n",
       "    </tr>\n",
       "    <tr>\n",
       "      <th>10086</th>\n",
       "      <td>49.0</td>\n",
       "      <td>8.38</td>\n",
       "      <td>2.0</td>\n",
       "      <td>1</td>\n",
       "      <td>0</td>\n",
       "      <td>1</td>\n",
       "      <td>1.0</td>\n",
       "      <td>15.58</td>\n",
       "      <td>0</td>\n",
       "      <td>0</td>\n",
       "      <td>2.08</td>\n",
       "      <td>53.8</td>\n",
       "      <td>Tesla_Model_S_2015</td>\n",
       "      <td>12</td>\n",
       "      <td>3</td>\n",
       "      <td>29</td>\n",
       "    </tr>\n",
       "    <tr>\n",
       "      <th>6553</th>\n",
       "      <td>85.0</td>\n",
       "      <td>3.33</td>\n",
       "      <td>3.0</td>\n",
       "      <td>0</td>\n",
       "      <td>0</td>\n",
       "      <td>1</td>\n",
       "      <td>2.0</td>\n",
       "      <td>12.80</td>\n",
       "      <td>1</td>\n",
       "      <td>0</td>\n",
       "      <td>0.10</td>\n",
       "      <td>26.0</td>\n",
       "      <td>Tesla_Model_S_2015</td>\n",
       "      <td>8</td>\n",
       "      <td>3</td>\n",
       "      <td>29</td>\n",
       "    </tr>\n",
       "    <tr>\n",
       "      <th>10529</th>\n",
       "      <td>49.0</td>\n",
       "      <td>4.75</td>\n",
       "      <td>3.0</td>\n",
       "      <td>1</td>\n",
       "      <td>1</td>\n",
       "      <td>1</td>\n",
       "      <td>1.0</td>\n",
       "      <td>11.88</td>\n",
       "      <td>0</td>\n",
       "      <td>0</td>\n",
       "      <td>-1.62</td>\n",
       "      <td>32.7</td>\n",
       "      <td>Tesla_Model_S_2015</td>\n",
       "      <td>7</td>\n",
       "      <td>5</td>\n",
       "      <td>22</td>\n",
       "    </tr>\n",
       "    <tr>\n",
       "      <th>2406</th>\n",
       "      <td>278.0</td>\n",
       "      <td>16.00</td>\n",
       "      <td>3.0</td>\n",
       "      <td>1</td>\n",
       "      <td>0</td>\n",
       "      <td>1</td>\n",
       "      <td>1.0</td>\n",
       "      <td>20.21</td>\n",
       "      <td>0</td>\n",
       "      <td>0</td>\n",
       "      <td>4.11</td>\n",
       "      <td>127.0</td>\n",
       "      <td>Tesla_Model_S_2015</td>\n",
       "      <td>10</td>\n",
       "      <td>1</td>\n",
       "      <td>22</td>\n",
       "    </tr>\n",
       "    <tr>\n",
       "      <th>...</th>\n",
       "      <td>...</td>\n",
       "      <td>...</td>\n",
       "      <td>...</td>\n",
       "      <td>...</td>\n",
       "      <td>...</td>\n",
       "      <td>...</td>\n",
       "      <td>...</td>\n",
       "      <td>...</td>\n",
       "      <td>...</td>\n",
       "      <td>...</td>\n",
       "      <td>...</td>\n",
       "      <td>...</td>\n",
       "      <td>...</td>\n",
       "      <td>...</td>\n",
       "      <td>...</td>\n",
       "      <td>...</td>\n",
       "    </tr>\n",
       "    <tr>\n",
       "      <th>21063</th>\n",
       "      <td>132.0</td>\n",
       "      <td>4.70</td>\n",
       "      <td>3.0</td>\n",
       "      <td>1</td>\n",
       "      <td>0</td>\n",
       "      <td>0</td>\n",
       "      <td>1.0</td>\n",
       "      <td>20.14</td>\n",
       "      <td>0</td>\n",
       "      <td>1</td>\n",
       "      <td>3.54</td>\n",
       "      <td>2.0</td>\n",
       "      <td>Tesla_Model_S_2015</td>\n",
       "      <td>11</td>\n",
       "      <td>3</td>\n",
       "      <td>11</td>\n",
       "    </tr>\n",
       "    <tr>\n",
       "      <th>14480</th>\n",
       "      <td>49.0</td>\n",
       "      <td>5.82</td>\n",
       "      <td>3.0</td>\n",
       "      <td>1</td>\n",
       "      <td>0</td>\n",
       "      <td>1</td>\n",
       "      <td>1.0</td>\n",
       "      <td>11.50</td>\n",
       "      <td>0</td>\n",
       "      <td>0</td>\n",
       "      <td>-1.00</td>\n",
       "      <td>50.6</td>\n",
       "      <td>Tesla_Model_S_2015</td>\n",
       "      <td>6</td>\n",
       "      <td>1</td>\n",
       "      <td>30</td>\n",
       "    </tr>\n",
       "    <tr>\n",
       "      <th>18033</th>\n",
       "      <td>35.0</td>\n",
       "      <td>6.20</td>\n",
       "      <td>3.0</td>\n",
       "      <td>1</td>\n",
       "      <td>1</td>\n",
       "      <td>1</td>\n",
       "      <td>1.0</td>\n",
       "      <td>14.76</td>\n",
       "      <td>0</td>\n",
       "      <td>0</td>\n",
       "      <td>2.26</td>\n",
       "      <td>42.0</td>\n",
       "      <td>Tesla_Model_S_2015</td>\n",
       "      <td>6</td>\n",
       "      <td>2</td>\n",
       "      <td>12</td>\n",
       "    </tr>\n",
       "    <tr>\n",
       "      <th>22974</th>\n",
       "      <td>278.0</td>\n",
       "      <td>32.00</td>\n",
       "      <td>3.0</td>\n",
       "      <td>0</td>\n",
       "      <td>1</td>\n",
       "      <td>0</td>\n",
       "      <td>1.0</td>\n",
       "      <td>21.65</td>\n",
       "      <td>0</td>\n",
       "      <td>0</td>\n",
       "      <td>5.55</td>\n",
       "      <td>127.0</td>\n",
       "      <td>Tesla_Model_S_2015</td>\n",
       "      <td>10</td>\n",
       "      <td>6</td>\n",
       "      <td>7</td>\n",
       "    </tr>\n",
       "    <tr>\n",
       "      <th>18136</th>\n",
       "      <td>35.0</td>\n",
       "      <td>6.80</td>\n",
       "      <td>2.0</td>\n",
       "      <td>1</td>\n",
       "      <td>1</td>\n",
       "      <td>1</td>\n",
       "      <td>1.0</td>\n",
       "      <td>16.19</td>\n",
       "      <td>0</td>\n",
       "      <td>1</td>\n",
       "      <td>3.69</td>\n",
       "      <td>42.0</td>\n",
       "      <td>Tesla_Model_S_2015</td>\n",
       "      <td>12</td>\n",
       "      <td>0</td>\n",
       "      <td>7</td>\n",
       "    </tr>\n",
       "  </tbody>\n",
       "</table>\n",
       "<p>6031 rows × 16 columns</p>\n",
       "</div>"
      ],
      "text/plain": [
       "       power(kW)  quantity(kWh)  tire_type  city  motor_way  country_roads   \n",
       "14512       49.0           5.40        3.0     0          1              1  \\\n",
       "10086       49.0           8.38        2.0     1          0              1   \n",
       "6553        85.0           3.33        3.0     0          0              1   \n",
       "10529       49.0           4.75        3.0     1          1              1   \n",
       "2406       278.0          16.00        3.0     1          0              1   \n",
       "...          ...            ...        ...   ...        ...            ...   \n",
       "21063      132.0           4.70        3.0     1          0              0   \n",
       "14480       49.0           5.82        3.0     1          0              1   \n",
       "18033       35.0           6.20        3.0     1          1              1   \n",
       "22974      278.0          32.00        3.0     0          1              0   \n",
       "18136       35.0           6.80        2.0     1          1              1   \n",
       "\n",
       "       driving_style  consumption(kWh/100km)  A/C  park_heating   \n",
       "14512            3.0                   14.37    0             0  \\\n",
       "10086            1.0                   15.58    0             0   \n",
       "6553             2.0                   12.80    1             0   \n",
       "10529            1.0                   11.88    0             0   \n",
       "2406             1.0                   20.21    0             0   \n",
       "...              ...                     ...  ...           ...   \n",
       "21063            1.0                   20.14    0             1   \n",
       "14480            1.0                   11.50    0             0   \n",
       "18033            1.0                   14.76    0             0   \n",
       "22974            1.0                   21.65    0             0   \n",
       "18136            1.0                   16.19    0             1   \n",
       "\n",
       "       ecr_deviation  trip_distance(km)             user_id  month  weekday   \n",
       "14512           1.87               65.1  Tesla_Model_S_2015      6        0  \\\n",
       "10086           2.08               53.8  Tesla_Model_S_2015     12        3   \n",
       "6553            0.10               26.0  Tesla_Model_S_2015      8        3   \n",
       "10529          -1.62               32.7  Tesla_Model_S_2015      7        5   \n",
       "2406            4.11              127.0  Tesla_Model_S_2015     10        1   \n",
       "...              ...                ...                 ...    ...      ...   \n",
       "21063           3.54                2.0  Tesla_Model_S_2015     11        3   \n",
       "14480          -1.00               50.6  Tesla_Model_S_2015      6        1   \n",
       "18033           2.26               42.0  Tesla_Model_S_2015      6        2   \n",
       "22974           5.55              127.0  Tesla_Model_S_2015     10        6   \n",
       "18136           3.69               42.0  Tesla_Model_S_2015     12        0   \n",
       "\n",
       "       day  \n",
       "14512    6  \n",
       "10086   29  \n",
       "6553    29  \n",
       "10529   22  \n",
       "2406    22  \n",
       "...    ...  \n",
       "21063   11  \n",
       "14480   30  \n",
       "18033   12  \n",
       "22974    7  \n",
       "18136    7  \n",
       "\n",
       "[6031 rows x 16 columns]"
      ]
     },
     "execution_count": 75,
     "metadata": {},
     "output_type": "execute_result"
    }
   ],
   "source": [
    "train_converted_copy.drop(columns='odometer',axis=1)\n",
    "test_converted_copy.drop(columns='odometer',axis=1)"
   ]
  },
  {
   "cell_type": "code",
   "execution_count": 76,
   "metadata": {},
   "outputs": [],
   "source": [
    "train_converted_copy.dropna(axis=0,inplace=True)\n"
   ]
  },
  {
   "cell_type": "code",
   "execution_count": 77,
   "metadata": {},
   "outputs": [],
   "source": [
    "test_converted_copy.dropna(axis=0, inplace=True)"
   ]
  },
  {
   "cell_type": "code",
   "execution_count": 78,
   "metadata": {},
   "outputs": [
    {
     "data": {
      "text/plain": [
       "power(kW)                 0\n",
       "quantity(kWh)             0\n",
       "odometer                  0\n",
       "tire_type                 0\n",
       "city                      0\n",
       "motor_way                 0\n",
       "country_roads             0\n",
       "driving_style             0\n",
       "consumption(kWh/100km)    0\n",
       "A/C                       0\n",
       "park_heating              0\n",
       "ecr_deviation             0\n",
       "trip_distance(km)         0\n",
       "user_id                   0\n",
       "month                     0\n",
       "weekday                   0\n",
       "day                       0\n",
       "dtype: int64"
      ]
     },
     "execution_count": 78,
     "metadata": {},
     "output_type": "execute_result"
    }
   ],
   "source": [
    "train_converted.isna().sum()"
   ]
  },
  {
   "cell_type": "code",
   "execution_count": 79,
   "metadata": {},
   "outputs": [
    {
     "data": {
      "text/plain": [
       "power(kW)                 0\n",
       "quantity(kWh)             0\n",
       "odometer                  0\n",
       "tire_type                 0\n",
       "city                      0\n",
       "motor_way                 0\n",
       "country_roads             0\n",
       "driving_style             0\n",
       "consumption(kWh/100km)    0\n",
       "A/C                       0\n",
       "park_heating              0\n",
       "ecr_deviation             0\n",
       "trip_distance(km)         0\n",
       "user_id                   0\n",
       "month                     0\n",
       "weekday                   0\n",
       "day                       0\n",
       "dtype: int64"
      ]
     },
     "execution_count": 79,
     "metadata": {},
     "output_type": "execute_result"
    }
   ],
   "source": [
    "test_converted.isna().sum()"
   ]
  },
  {
   "cell_type": "code",
   "execution_count": 80,
   "metadata": {},
   "outputs": [
    {
     "data": {
      "text/plain": [
       "(8833, 17)"
      ]
     },
     "execution_count": 80,
     "metadata": {},
     "output_type": "execute_result"
    }
   ],
   "source": [
    "\n",
    "train_converted.shape"
   ]
  },
  {
   "cell_type": "code",
   "execution_count": 81,
   "metadata": {},
   "outputs": [
    {
     "data": {
      "text/plain": [
       "(6031, 17)"
      ]
     },
     "execution_count": 81,
     "metadata": {},
     "output_type": "execute_result"
    }
   ],
   "source": [
    "test_converted.shape"
   ]
  },
  {
   "cell_type": "code",
   "execution_count": 82,
   "metadata": {},
   "outputs": [
    {
     "data": {
      "text/plain": [
       "(6031, 17)"
      ]
     },
     "execution_count": 82,
     "metadata": {},
     "output_type": "execute_result"
    }
   ],
   "source": [
    "test_converted_copy.shape"
   ]
  },
  {
   "cell_type": "code",
   "execution_count": 83,
   "metadata": {},
   "outputs": [
    {
     "data": {
      "text/plain": [
       "(8833, 17)"
      ]
     },
     "execution_count": 83,
     "metadata": {},
     "output_type": "execute_result"
    }
   ],
   "source": [
    "train_converted_copy.shape"
   ]
  },
  {
   "attachments": {},
   "cell_type": "markdown",
   "metadata": {},
   "source": [
    "# Write to test and train"
   ]
  },
  {
   "cell_type": "code",
   "execution_count": 84,
   "metadata": {},
   "outputs": [],
   "source": [
    "# Experiment 1\n",
    "# train_converted.to_csv('../data/preprocessed/train_converted.csv')\n",
    "# test_converted.to_csv('../data/preprocessed/test_converted.csv')\n",
    "\n",
    "# Experiment 2\n",
    "# train_converted.to_csv('../data/preprocessed/train_converted_experiment2.csv')\n",
    "# test_converted.to_csv('../data/preprocessed/test_converted_experiment2.csv')\n",
    "\n",
    "\n",
    "#Experiment 3\n",
    "# train_converted.to_csv('../data/preprocessed/df_range_consumption_train_data.csv')\n",
    "# test_converted.to_csv('../data/preprocessed/df_range_consumption_test_data.csv')\n",
    "\n",
    "\n"
   ]
  },
  {
   "cell_type": "code",
   "execution_count": 85,
   "metadata": {},
   "outputs": [],
   "source": [
    "#Experiment 5\n",
    "# train_converted.to_csv('../data/preprocessed/mistubushi_train.csv')\n",
    "# test_converted.to_csv('../data/preprocessed/mistubushi_test.csv')"
   ]
  },
  {
   "cell_type": "code",
   "execution_count": 86,
   "metadata": {},
   "outputs": [],
   "source": [
    "# # Experiment 3\n",
    "\n",
    "train_converted.to_csv('../data/preprocessed/df_range_consumption_train_data_042023.csv')\n",
    "test_converted.to_csv('../data/preprocessed/df_range_consumption_test_data_042023.csv')"
   ]
  },
  {
   "cell_type": "code",
   "execution_count": 87,
   "metadata": {},
   "outputs": [],
   "source": [
    "# hug_test_clip.to_csv('../data/preprocessed/huggingface_test.csv')\n",
    "# hug_train_clip.to_csv('../data/preprocessed/huggingface_train.csv')"
   ]
  }
 ],
 "metadata": {
  "kernelspec": {
   "display_name": "Python 3.10.6 64-bit",
   "language": "python",
   "name": "python3"
  },
  "language_info": {
   "codemirror_mode": {
    "name": "ipython",
    "version": 3
   },
   "file_extension": ".py",
   "mimetype": "text/x-python",
   "name": "python",
   "nbconvert_exporter": "python",
   "pygments_lexer": "ipython3",
   "version": "3.10.6"
  },
  "orig_nbformat": 4,
  "vscode": {
   "interpreter": {
    "hash": "916dbcbb3f70747c44a77c7bcd40155683ae19c65e1c03b4aa3499c5328201f1"
   }
  }
 },
 "nbformat": 4,
 "nbformat_minor": 2
}
