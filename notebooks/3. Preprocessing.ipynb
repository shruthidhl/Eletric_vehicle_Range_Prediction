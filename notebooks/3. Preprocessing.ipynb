{
 "cells": [
  {
   "cell_type": "markdown",
   "metadata": {},
   "source": [
    "# Pre-processing"
   ]
  },
  {
   "cell_type": "markdown",
   "metadata": {},
   "source": [
    "## SetUp"
   ]
  },
  {
   "cell_type": "code",
   "execution_count": 3,
   "metadata": {},
   "outputs": [],
   "source": [
    "import pandas as pd \n",
    "from sklearn.model_selection import train_test_split\n",
    "import numpy as np"
   ]
  },
  {
   "cell_type": "code",
   "execution_count": 4,
   "metadata": {},
   "outputs": [],
   "source": [
    "# 3rd Experiment\n",
    "df=pd.read_csv(\"../data/prepared/cleaned_df_with_car_ranges_consumption.csv\")\n",
    "data=df.copy()"
   ]
  },
  {
   "cell_type": "code",
   "execution_count": 5,
   "metadata": {},
   "outputs": [
    {
     "name": "stdout",
     "output_type": "stream",
     "text": [
      "<class 'pandas.core.frame.DataFrame'>\n",
      "RangeIndex: 23311 entries, 0 to 23310\n",
      "Data columns (total 25 columns):\n",
      " #   Column                               Non-Null Count  Dtype  \n",
      "---  ------                               --------------  -----  \n",
      " 0   Unnamed: 0                           23311 non-null  int64  \n",
      " 1   manufacturer                         23311 non-null  object \n",
      " 2   model                                23311 non-null  object \n",
      " 3   year                                 23311 non-null  int64  \n",
      " 4   version                              23311 non-null  object \n",
      " 5   power(kW)                            23311 non-null  float64\n",
      " 6   fuel_date                            23311 non-null  object \n",
      " 7   odometer                             15034 non-null  float64\n",
      " 8   trip_distance(km)                    23311 non-null  float64\n",
      " 9   quantity(kWh)                        23311 non-null  float64\n",
      " 10  fuel_type                            23311 non-null  object \n",
      " 11  tire_type                            23221 non-null  object \n",
      " 12  city                                 23311 non-null  int64  \n",
      " 13  motor_way                            23311 non-null  int64  \n",
      " 14  country_roads                        23311 non-null  int64  \n",
      " 15  driving_style                        23200 non-null  object \n",
      " 16  consumption(kWh/100km)               23216 non-null  float64\n",
      " 17  A/C                                  23311 non-null  int64  \n",
      " 18  park_heating                         23311 non-null  int64  \n",
      " 19  avg_speed(km/h)                      4126 non-null   float64\n",
      " 20  ecr_deviation                        20713 non-null  float64\n",
      " 21  fuel_note                            5916 non-null   object \n",
      " 22  user_id                              23311 non-null  object \n",
      " 23  man_model_year_verion                23311 non-null  object \n",
      " 24  actual quantity consumed per 100 km  23311 non-null  float64\n",
      "dtypes: float64(8), int64(7), object(10)\n",
      "memory usage: 4.4+ MB\n"
     ]
    }
   ],
   "source": [
    "data.info()"
   ]
  },
  {
   "cell_type": "code",
   "execution_count": 6,
   "metadata": {},
   "outputs": [
    {
     "data": {
      "text/plain": [
       "(23311, 25)"
      ]
     },
     "execution_count": 6,
     "metadata": {},
     "output_type": "execute_result"
    }
   ],
   "source": [
    "data.shape"
   ]
  },
  {
   "cell_type": "code",
   "execution_count": 7,
   "metadata": {},
   "outputs": [
    {
     "data": {
      "text/html": [
       "<div>\n",
       "<style scoped>\n",
       "    .dataframe tbody tr th:only-of-type {\n",
       "        vertical-align: middle;\n",
       "    }\n",
       "\n",
       "    .dataframe tbody tr th {\n",
       "        vertical-align: top;\n",
       "    }\n",
       "\n",
       "    .dataframe thead th {\n",
       "        text-align: right;\n",
       "    }\n",
       "</style>\n",
       "<table border=\"1\" class=\"dataframe\">\n",
       "  <thead>\n",
       "    <tr style=\"text-align: right;\">\n",
       "      <th></th>\n",
       "      <th>Unnamed: 0</th>\n",
       "      <th>manufacturer</th>\n",
       "      <th>model</th>\n",
       "      <th>year</th>\n",
       "      <th>version</th>\n",
       "      <th>power(kW)</th>\n",
       "      <th>fuel_date</th>\n",
       "      <th>odometer</th>\n",
       "      <th>trip_distance(km)</th>\n",
       "      <th>quantity(kWh)</th>\n",
       "      <th>...</th>\n",
       "      <th>driving_style</th>\n",
       "      <th>consumption(kWh/100km)</th>\n",
       "      <th>A/C</th>\n",
       "      <th>park_heating</th>\n",
       "      <th>avg_speed(km/h)</th>\n",
       "      <th>ecr_deviation</th>\n",
       "      <th>fuel_note</th>\n",
       "      <th>user_id</th>\n",
       "      <th>man_model_year_verion</th>\n",
       "      <th>actual quantity consumed per 100 km</th>\n",
       "    </tr>\n",
       "  </thead>\n",
       "  <tbody>\n",
       "    <tr>\n",
       "      <th>0</th>\n",
       "      <td>465</td>\n",
       "      <td>Volkswagen</td>\n",
       "      <td>Golf</td>\n",
       "      <td>2018</td>\n",
       "      <td>e-Golf</td>\n",
       "      <td>100.0</td>\n",
       "      <td>17.01.2022</td>\n",
       "      <td>NaN</td>\n",
       "      <td>61.0</td>\n",
       "      <td>18.0</td>\n",
       "      <td>...</td>\n",
       "      <td>Normal</td>\n",
       "      <td>17.00</td>\n",
       "      <td>1</td>\n",
       "      <td>0</td>\n",
       "      <td>NaN</td>\n",
       "      <td>4.10</td>\n",
       "      <td>NaN</td>\n",
       "      <td>Tesla_Model_S_2015</td>\n",
       "      <td>Volkswagen Golf 2018 e-Golf</td>\n",
       "      <td>29.508197</td>\n",
       "    </tr>\n",
       "    <tr>\n",
       "      <th>1</th>\n",
       "      <td>255</td>\n",
       "      <td>Volkswagen</td>\n",
       "      <td>Golf</td>\n",
       "      <td>2018</td>\n",
       "      <td>e-Golf</td>\n",
       "      <td>100.0</td>\n",
       "      <td>08.07.2022</td>\n",
       "      <td>NaN</td>\n",
       "      <td>47.0</td>\n",
       "      <td>11.0</td>\n",
       "      <td>...</td>\n",
       "      <td>Normal</td>\n",
       "      <td>11.63</td>\n",
       "      <td>1</td>\n",
       "      <td>0</td>\n",
       "      <td>NaN</td>\n",
       "      <td>-1.27</td>\n",
       "      <td>NaN</td>\n",
       "      <td>Tesla_Model_S_2015</td>\n",
       "      <td>Volkswagen Golf 2018 e-Golf</td>\n",
       "      <td>23.404255</td>\n",
       "    </tr>\n",
       "    <tr>\n",
       "      <th>2</th>\n",
       "      <td>1264</td>\n",
       "      <td>Volkswagen</td>\n",
       "      <td>Golf</td>\n",
       "      <td>2018</td>\n",
       "      <td>e-Golf</td>\n",
       "      <td>100.0</td>\n",
       "      <td>05.12.2019</td>\n",
       "      <td>NaN</td>\n",
       "      <td>97.0</td>\n",
       "      <td>24.6</td>\n",
       "      <td>...</td>\n",
       "      <td>Normal</td>\n",
       "      <td>18.09</td>\n",
       "      <td>1</td>\n",
       "      <td>0</td>\n",
       "      <td>NaN</td>\n",
       "      <td>5.19</td>\n",
       "      <td>NaN</td>\n",
       "      <td>Tesla_Model_S_2015</td>\n",
       "      <td>Volkswagen Golf 2018 e-Golf</td>\n",
       "      <td>25.360825</td>\n",
       "    </tr>\n",
       "    <tr>\n",
       "      <th>3</th>\n",
       "      <td>522</td>\n",
       "      <td>Volkswagen</td>\n",
       "      <td>Golf</td>\n",
       "      <td>2018</td>\n",
       "      <td>e-Golf</td>\n",
       "      <td>100.0</td>\n",
       "      <td>07.12.2021</td>\n",
       "      <td>NaN</td>\n",
       "      <td>58.0</td>\n",
       "      <td>10.0</td>\n",
       "      <td>...</td>\n",
       "      <td>Normal</td>\n",
       "      <td>15.57</td>\n",
       "      <td>1</td>\n",
       "      <td>0</td>\n",
       "      <td>NaN</td>\n",
       "      <td>2.67</td>\n",
       "      <td>NaN</td>\n",
       "      <td>Tesla_Model_S_2015</td>\n",
       "      <td>Volkswagen Golf 2018 e-Golf</td>\n",
       "      <td>17.241379</td>\n",
       "    </tr>\n",
       "    <tr>\n",
       "      <th>4</th>\n",
       "      <td>715</td>\n",
       "      <td>Volkswagen</td>\n",
       "      <td>Golf</td>\n",
       "      <td>2018</td>\n",
       "      <td>e-Golf</td>\n",
       "      <td>100.0</td>\n",
       "      <td>22.06.2021</td>\n",
       "      <td>NaN</td>\n",
       "      <td>92.0</td>\n",
       "      <td>28.0</td>\n",
       "      <td>...</td>\n",
       "      <td>Normal</td>\n",
       "      <td>14.08</td>\n",
       "      <td>1</td>\n",
       "      <td>0</td>\n",
       "      <td>NaN</td>\n",
       "      <td>1.18</td>\n",
       "      <td>NaN</td>\n",
       "      <td>Tesla_Model_S_2015</td>\n",
       "      <td>Volkswagen Golf 2018 e-Golf</td>\n",
       "      <td>30.434783</td>\n",
       "    </tr>\n",
       "  </tbody>\n",
       "</table>\n",
       "<p>5 rows × 25 columns</p>\n",
       "</div>"
      ],
      "text/plain": [
       "   Unnamed: 0 manufacturer model  year version  power(kW)   fuel_date  \\\n",
       "0         465   Volkswagen  Golf  2018  e-Golf      100.0  17.01.2022   \n",
       "1         255   Volkswagen  Golf  2018  e-Golf      100.0  08.07.2022   \n",
       "2        1264   Volkswagen  Golf  2018  e-Golf      100.0  05.12.2019   \n",
       "3         522   Volkswagen  Golf  2018  e-Golf      100.0  07.12.2021   \n",
       "4         715   Volkswagen  Golf  2018  e-Golf      100.0  22.06.2021   \n",
       "\n",
       "   odometer  trip_distance(km)  quantity(kWh)  ... driving_style  \\\n",
       "0       NaN               61.0           18.0  ...        Normal   \n",
       "1       NaN               47.0           11.0  ...        Normal   \n",
       "2       NaN               97.0           24.6  ...        Normal   \n",
       "3       NaN               58.0           10.0  ...        Normal   \n",
       "4       NaN               92.0           28.0  ...        Normal   \n",
       "\n",
       "  consumption(kWh/100km)  A/C  park_heating  avg_speed(km/h) ecr_deviation  \\\n",
       "0                  17.00    1             0              NaN          4.10   \n",
       "1                  11.63    1             0              NaN         -1.27   \n",
       "2                  18.09    1             0              NaN          5.19   \n",
       "3                  15.57    1             0              NaN          2.67   \n",
       "4                  14.08    1             0              NaN          1.18   \n",
       "\n",
       "   fuel_note             user_id        man_model_year_verion  \\\n",
       "0        NaN  Tesla_Model_S_2015  Volkswagen Golf 2018 e-Golf   \n",
       "1        NaN  Tesla_Model_S_2015  Volkswagen Golf 2018 e-Golf   \n",
       "2        NaN  Tesla_Model_S_2015  Volkswagen Golf 2018 e-Golf   \n",
       "3        NaN  Tesla_Model_S_2015  Volkswagen Golf 2018 e-Golf   \n",
       "4        NaN  Tesla_Model_S_2015  Volkswagen Golf 2018 e-Golf   \n",
       "\n",
       "   actual quantity consumed per 100 km  \n",
       "0                            29.508197  \n",
       "1                            23.404255  \n",
       "2                            25.360825  \n",
       "3                            17.241379  \n",
       "4                            30.434783  \n",
       "\n",
       "[5 rows x 25 columns]"
      ]
     },
     "execution_count": 7,
     "metadata": {},
     "output_type": "execute_result"
    }
   ],
   "source": [
    "data.head()"
   ]
  },
  {
   "cell_type": "code",
   "execution_count": 8,
   "metadata": {},
   "outputs": [],
   "source": [
    "distance_cal= data.copy()"
   ]
  },
  {
   "cell_type": "code",
   "execution_count": 9,
   "metadata": {},
   "outputs": [
    {
     "name": "stdout",
     "output_type": "stream",
     "text": [
      "<class 'pandas.core.frame.DataFrame'>\n",
      "RangeIndex: 23311 entries, 0 to 23310\n",
      "Data columns (total 18 columns):\n",
      " #   Column                  Non-Null Count  Dtype  \n",
      "---  ------                  --------------  -----  \n",
      " 0   power(kW)               23311 non-null  float64\n",
      " 1   fuel_date               23311 non-null  object \n",
      " 2   odometer                15034 non-null  float64\n",
      " 3   trip_distance(km)       23311 non-null  float64\n",
      " 4   quantity(kWh)           23311 non-null  float64\n",
      " 5   fuel_type               23311 non-null  object \n",
      " 6   tire_type               23221 non-null  object \n",
      " 7   city                    23311 non-null  int64  \n",
      " 8   motor_way               23311 non-null  int64  \n",
      " 9   country_roads           23311 non-null  int64  \n",
      " 10  driving_style           23200 non-null  object \n",
      " 11  consumption(kWh/100km)  23216 non-null  float64\n",
      " 12  A/C                     23311 non-null  int64  \n",
      " 13  park_heating            23311 non-null  int64  \n",
      " 14  avg_speed(km/h)         4126 non-null   float64\n",
      " 15  ecr_deviation           20713 non-null  float64\n",
      " 16  fuel_note               5916 non-null   object \n",
      " 17  user_id                 23311 non-null  object \n",
      "dtypes: float64(7), int64(5), object(6)\n",
      "memory usage: 3.2+ MB\n"
     ]
    }
   ],
   "source": [
    "data[['power(kW)', 'fuel_date',\n",
    "       'odometer', 'trip_distance(km)', 'quantity(kWh)', 'fuel_type',\n",
    "       'tire_type', 'city', 'motor_way', 'country_roads', 'driving_style',\n",
    "       'consumption(kWh/100km)', 'A/C', 'park_heating', 'avg_speed(km/h)',\n",
    "       'ecr_deviation', 'fuel_note', 'user_id']].info()"
   ]
  },
  {
   "cell_type": "code",
   "execution_count": 10,
   "metadata": {},
   "outputs": [
    {
     "data": {
      "text/plain": [
       "Index(['Unnamed: 0', 'manufacturer', 'model', 'year', 'version', 'power(kW)',\n",
       "       'fuel_date', 'odometer', 'trip_distance(km)', 'quantity(kWh)',\n",
       "       'fuel_type', 'tire_type', 'city', 'motor_way', 'country_roads',\n",
       "       'driving_style', 'consumption(kWh/100km)', 'A/C', 'park_heating',\n",
       "       'avg_speed(km/h)', 'ecr_deviation', 'fuel_note', 'user_id',\n",
       "       'man_model_year_verion', 'actual quantity consumed per 100 km'],\n",
       "      dtype='object')"
      ]
     },
     "execution_count": 10,
     "metadata": {},
     "output_type": "execute_result"
    }
   ],
   "source": [
    "data.columns"
   ]
  },
  {
   "cell_type": "code",
   "execution_count": 11,
   "metadata": {},
   "outputs": [],
   "source": [
    "# distance_cal['calculated_distance']=(np.array(distance_cal['quantity(kWh)'])/np.array(distance_cal['consumption(kWh/100km)']))*100"
   ]
  },
  {
   "cell_type": "code",
   "execution_count": 12,
   "metadata": {},
   "outputs": [
    {
     "data": {
      "text/plain": [
       "array(['All-year tires', 'Winter tires', 'Summer tires', nan],\n",
       "      dtype=object)"
      ]
     },
     "execution_count": 12,
     "metadata": {},
     "output_type": "execute_result"
    }
   ],
   "source": [
    "data['tire_type'].unique()"
   ]
  },
  {
   "cell_type": "code",
   "execution_count": 13,
   "metadata": {},
   "outputs": [
    {
     "name": "stdout",
     "output_type": "stream",
     "text": [
      "<class 'pandas.core.frame.DataFrame'>\n",
      "RangeIndex: 23311 entries, 0 to 23310\n",
      "Data columns (total 25 columns):\n",
      " #   Column                               Non-Null Count  Dtype  \n",
      "---  ------                               --------------  -----  \n",
      " 0   Unnamed: 0                           23311 non-null  int64  \n",
      " 1   manufacturer                         23311 non-null  object \n",
      " 2   model                                23311 non-null  object \n",
      " 3   year                                 23311 non-null  int64  \n",
      " 4   version                              23311 non-null  object \n",
      " 5   power(kW)                            23311 non-null  float64\n",
      " 6   fuel_date                            23311 non-null  object \n",
      " 7   odometer                             15034 non-null  float64\n",
      " 8   trip_distance(km)                    23311 non-null  float64\n",
      " 9   quantity(kWh)                        23311 non-null  float64\n",
      " 10  fuel_type                            23311 non-null  object \n",
      " 11  tire_type                            23221 non-null  object \n",
      " 12  city                                 23311 non-null  int64  \n",
      " 13  motor_way                            23311 non-null  int64  \n",
      " 14  country_roads                        23311 non-null  int64  \n",
      " 15  driving_style                        23200 non-null  object \n",
      " 16  consumption(kWh/100km)               23216 non-null  float64\n",
      " 17  A/C                                  23311 non-null  int64  \n",
      " 18  park_heating                         23311 non-null  int64  \n",
      " 19  avg_speed(km/h)                      4126 non-null   float64\n",
      " 20  ecr_deviation                        20713 non-null  float64\n",
      " 21  fuel_note                            5916 non-null   object \n",
      " 22  user_id                              23311 non-null  object \n",
      " 23  man_model_year_verion                23311 non-null  object \n",
      " 24  actual quantity consumed per 100 km  23311 non-null  float64\n",
      "dtypes: float64(8), int64(7), object(10)\n",
      "memory usage: 4.4+ MB\n"
     ]
    }
   ],
   "source": [
    "df.info()"
   ]
  },
  {
   "cell_type": "code",
   "execution_count": 14,
   "metadata": {},
   "outputs": [],
   "source": [
    "df=df.loc[df['trip_distance(km)']<=420.0,:]"
   ]
  },
  {
   "cell_type": "code",
   "execution_count": 15,
   "metadata": {},
   "outputs": [
    {
     "data": {
      "text/plain": [
       "(23311, 25)"
      ]
     },
     "execution_count": 15,
     "metadata": {},
     "output_type": "execute_result"
    }
   ],
   "source": [
    "df.shape"
   ]
  },
  {
   "cell_type": "markdown",
   "metadata": {},
   "source": [
    "### Data for Hugging Face"
   ]
  },
  {
   "cell_type": "code",
   "execution_count": 16,
   "metadata": {},
   "outputs": [],
   "source": [
    "# data_hug=data.copy()"
   ]
  },
  {
   "cell_type": "code",
   "execution_count": 17,
   "metadata": {},
   "outputs": [],
   "source": [
    "# data_hug.columns"
   ]
  },
  {
   "cell_type": "code",
   "execution_count": 18,
   "metadata": {},
   "outputs": [],
   "source": [
    "# data_hug.shape"
   ]
  },
  {
   "cell_type": "code",
   "execution_count": 19,
   "metadata": {},
   "outputs": [],
   "source": [
    "# data_hug['man_model_year_verion']=data_hug['manufacturer']+' '+data_hug['model']+' '+data_hug['year']+' '+data_hug['version']\n",
    "# data_hug_sel=data_hug.copy()\n",
    "# data_hug_sel=data_hug_sel.loc[(data_hug_sel.man_model_year_verion!='Opel Ampera 2012 Ampera ePionier') &(data_hug_sel.man_model_year_verion!='Opel Ampera 2012 ePionier LithiumweiÃŸ Elektrischer Antrieb' ) ]\n",
    "\n"
   ]
  },
  {
   "cell_type": "code",
   "execution_count": 20,
   "metadata": {},
   "outputs": [],
   "source": [
    "#data_hug_sel['man_model_year_verion'].value_counts()"
   ]
  },
  {
   "cell_type": "code",
   "execution_count": 21,
   "metadata": {},
   "outputs": [],
   "source": [
    "# data_hug.shape"
   ]
  },
  {
   "cell_type": "code",
   "execution_count": 22,
   "metadata": {},
   "outputs": [],
   "source": [
    "# data.isna().sum()"
   ]
  },
  {
   "cell_type": "code",
   "execution_count": 23,
   "metadata": {},
   "outputs": [],
   "source": [
    "def convert_encodecategorical(data_sel):\n",
    "     data_sel=data_sel.loc[(data_sel['driving_style']!='driving_style') & (data_sel['tire_type']!='tire_type'), :]\n",
    "     data_sel.loc[:,'tire_type']=data_sel['tire_type'].map({'All-year tires':1,'Summer tires':3,'Winter tires':2, 'tire_type':0})\n",
    "     data_sel.loc[:,'driving_style']=data_sel['driving_style'].map({'Fast':3,'Moderate':2,'Normal':1})\n",
    "     \n",
    "     return data_sel\n",
    "\n",
    "def convert_to_numeric(columns,df):\n",
    "    for col in columns:\n",
    "        if col!='fuel_date':\n",
    "           df.loc[:, col]=pd.to_numeric(df.loc[:,col], errors='coerce')\n",
    "    return df"
   ]
  },
  {
   "cell_type": "code",
   "execution_count": 24,
   "metadata": {},
   "outputs": [],
   "source": [
    "def convert_date(data_sel_num):\n",
    "    data_sel_num['fuel_date']=data_sel_num['fuel_date'].astype('str')\n",
    "    data_sel_num['fuel_date']=data_sel_num['fuel_date'].apply(lambda x :x.replace(\".\",'-'))\n",
    "    data_sel_num['fuel_date_new']=pd.to_datetime(data_sel_num['fuel_date'], errors='coerce', format='%d-%m-%Y')\n",
    "    # extracting month , day and day of the week from fuel_date\n",
    "    data_sel_num['month']=data_sel_num['fuel_date_new'].dt.month\n",
    "    data_sel_num['weekday']=data_sel_num['fuel_date_new'].dt.weekday\n",
    "    data_sel_num['day']=data_sel_num['fuel_date_new'].dt.day\n",
    "    data_sel_num.drop(columns=['fuel_date','fuel_date_new'], axis=1, inplace=True)\n",
    "    return data_sel_num\n"
   ]
  },
  {
   "cell_type": "code",
   "execution_count": 25,
   "metadata": {},
   "outputs": [],
   "source": [
    "# y=pd.DataFrame(data_hug.loc[:, 'trip_distance(km)'])\n",
    "# X=data_hug.drop(columns='trip_distance(km)', axis=1)"
   ]
  },
  {
   "attachments": {},
   "cell_type": "markdown",
   "metadata": {},
   "source": [
    "## Data Spliting for Hugging Face"
   ]
  },
  {
   "cell_type": "code",
   "execution_count": 26,
   "metadata": {},
   "outputs": [],
   "source": [
    "# X_train,X_temp,y_train,y_temp=train_test_split(X,y,test_size=0.4,shuffle=True)\n",
    "# X_val,X_test,y_val,y_test=train_test_split(X_temp,y_temp,test_size=0.5,shuffle=True)"
   ]
  },
  {
   "cell_type": "code",
   "execution_count": 27,
   "metadata": {},
   "outputs": [],
   "source": [
    "# X_train.head()"
   ]
  },
  {
   "cell_type": "code",
   "execution_count": 28,
   "metadata": {},
   "outputs": [],
   "source": [
    "# y_train.head()"
   ]
  },
  {
   "cell_type": "code",
   "execution_count": 29,
   "metadata": {},
   "outputs": [],
   "source": [
    "# X_val.head()"
   ]
  },
  {
   "cell_type": "code",
   "execution_count": 30,
   "metadata": {},
   "outputs": [],
   "source": [
    "# y_val.head()"
   ]
  },
  {
   "cell_type": "code",
   "execution_count": 31,
   "metadata": {},
   "outputs": [],
   "source": [
    "# X_test.head()"
   ]
  },
  {
   "cell_type": "code",
   "execution_count": 32,
   "metadata": {},
   "outputs": [],
   "source": [
    "# y_test.head()"
   ]
  },
  {
   "cell_type": "code",
   "execution_count": 33,
   "metadata": {},
   "outputs": [],
   "source": [
    "# hug_train=pd.concat([X_train, y_train], axis=1).sample(n=7000)\n",
    "# hug_val=pd.concat([X_val,y_val]).sample(n=2000)\n",
    "# hug_test=pd.concat([X_test,y_test], axis=1).sample(n=2000)"
   ]
  },
  {
   "cell_type": "code",
   "execution_count": 34,
   "metadata": {},
   "outputs": [],
   "source": [
    "# print('train',hug_train.shape)\n",
    "# print('test', hug_test.shape)\n",
    "# print('val', hug_val.shape)"
   ]
  },
  {
   "cell_type": "code",
   "execution_count": 35,
   "metadata": {},
   "outputs": [],
   "source": [
    "# hug_test.head()"
   ]
  },
  {
   "cell_type": "code",
   "execution_count": 36,
   "metadata": {},
   "outputs": [],
   "source": [
    "# hug_train.head()"
   ]
  },
  {
   "cell_type": "code",
   "execution_count": 37,
   "metadata": {},
   "outputs": [],
   "source": [
    "# hug_val.head()"
   ]
  },
  {
   "cell_type": "code",
   "execution_count": 38,
   "metadata": {},
   "outputs": [],
   "source": [
    "# hug_train.isna().sum()"
   ]
  },
  {
   "cell_type": "code",
   "execution_count": 39,
   "metadata": {},
   "outputs": [],
   "source": [
    "# hug_test.isna().sum()"
   ]
  },
  {
   "cell_type": "code",
   "execution_count": 40,
   "metadata": {},
   "outputs": [],
   "source": [
    "# hug_train_sel=hug_train.copy()\n",
    "# hug_test_sel=hug_test.copy()\n",
    "# hug_val_sel=hug_val.copy()"
   ]
  },
  {
   "cell_type": "code",
   "execution_count": 41,
   "metadata": {},
   "outputs": [],
   "source": [
    "# fetures_sel=['power(kW)', 'fuel_date', 'quantity(kWh)','avg_speed(km/h)',\n",
    "#        'tire_type', 'city', 'motor_way', 'country_roads', 'driving_style',\n",
    "#         'park_heating', 'consumption(kWh/100km)','trip_distance(km)']"
   ]
  },
  {
   "cell_type": "code",
   "execution_count": 42,
   "metadata": {},
   "outputs": [],
   "source": [
    "# hug_train_sel=hug_train_sel[fetures_sel]\n",
    "# hug_test_sel=hug_test_sel[fetures_sel]\n",
    "# hug_val_sel=hug_val_sel[fetures_sel]"
   ]
  },
  {
   "cell_type": "markdown",
   "metadata": {},
   "source": []
  },
  {
   "cell_type": "code",
   "execution_count": 43,
   "metadata": {},
   "outputs": [],
   "source": [
    "# print('train',hug_train_sel.isna().sum())\n"
   ]
  },
  {
   "cell_type": "code",
   "execution_count": 44,
   "metadata": {},
   "outputs": [],
   "source": [
    "# print('test', hug_test_sel.isna().sum())\n"
   ]
  },
  {
   "cell_type": "code",
   "execution_count": 45,
   "metadata": {},
   "outputs": [],
   "source": [
    "# print('val', hug_val_sel.isna().sum())"
   ]
  },
  {
   "cell_type": "code",
   "execution_count": 46,
   "metadata": {},
   "outputs": [],
   "source": [
    "# hug_test_sel.dropna(inplace=True)\n",
    "# hug_train_sel.dropna(inplace=True)\n"
   ]
  },
  {
   "cell_type": "code",
   "execution_count": 47,
   "metadata": {},
   "outputs": [],
   "source": [
    "# hug_train_sel.isna().sum()"
   ]
  },
  {
   "cell_type": "code",
   "execution_count": 48,
   "metadata": {},
   "outputs": [],
   "source": [
    "# hug_test_sel.isna().sum()"
   ]
  },
  {
   "cell_type": "code",
   "execution_count": 49,
   "metadata": {},
   "outputs": [],
   "source": [
    "# hug_train.columns"
   ]
  },
  {
   "cell_type": "code",
   "execution_count": 50,
   "metadata": {},
   "outputs": [],
   "source": [
    "# hug_train['driving_style'].value_counts()"
   ]
  },
  {
   "cell_type": "code",
   "execution_count": 51,
   "metadata": {},
   "outputs": [],
   "source": [
    "# colums_for_num_cov=['power(kW)','quantity(kWh)','avg_speed(km/h)']\n",
    "# hug_train_sel_num=convert_to_numeric(colums_for_num_cov, hug_train)\n",
    "# hug_test_sel_num=convert_to_numeric(colums_for_num_cov,hug_test)\n",
    "# hug_val_sel_num=convert_to_numeric(colums_for_num_cov,hug_val)\n"
   ]
  },
  {
   "cell_type": "code",
   "execution_count": 52,
   "metadata": {},
   "outputs": [],
   "source": [
    "# hug_val_sel_num.info()"
   ]
  },
  {
   "cell_type": "code",
   "execution_count": 53,
   "metadata": {},
   "outputs": [],
   "source": [
    "# hug_train_converted=convert_date(hug_train_sel_num.copy())\n",
    "# hug_test_converted=convert_date(hug_test_sel_num.copy())\n",
    "# hug_val_converted=convert_date(hug_val_sel_num.copy())"
   ]
  },
  {
   "cell_type": "code",
   "execution_count": 54,
   "metadata": {},
   "outputs": [],
   "source": [
    "# hug_train_converted=convert_encodecategorical(hug_train_sel_num)\n",
    "# hug_test_converted=convert_encodecategorical(hug_test_sel_num)"
   ]
  },
  {
   "attachments": {},
   "cell_type": "markdown",
   "metadata": {},
   "source": [
    "## Preprocessing_Models"
   ]
  },
  {
   "cell_type": "code",
   "execution_count": 55,
   "metadata": {},
   "outputs": [
    {
     "data": {
      "text/plain": [
       "(23311, 25)"
      ]
     },
     "execution_count": 55,
     "metadata": {},
     "output_type": "execute_result"
    }
   ],
   "source": [
    "df.shape"
   ]
  },
  {
   "cell_type": "code",
   "execution_count": 56,
   "metadata": {},
   "outputs": [],
   "source": [
    "y=pd.DataFrame(df['trip_distance(km)'])\n",
    "X=df.drop(columns=['trip_distance(km)'], axis=1)"
   ]
  },
  {
   "cell_type": "code",
   "execution_count": 57,
   "metadata": {},
   "outputs": [
    {
     "data": {
      "text/plain": [
       "Index(['Unnamed: 0', 'manufacturer', 'model', 'year', 'version', 'power(kW)',\n",
       "       'fuel_date', 'odometer', 'quantity(kWh)', 'fuel_type', 'tire_type',\n",
       "       'city', 'motor_way', 'country_roads', 'driving_style',\n",
       "       'consumption(kWh/100km)', 'A/C', 'park_heating', 'avg_speed(km/h)',\n",
       "       'ecr_deviation', 'fuel_note', 'user_id', 'man_model_year_verion',\n",
       "       'actual quantity consumed per 100 km'],\n",
       "      dtype='object')"
      ]
     },
     "execution_count": 57,
     "metadata": {},
     "output_type": "execute_result"
    }
   ],
   "source": [
    "X.columns"
   ]
  },
  {
   "cell_type": "code",
   "execution_count": 58,
   "metadata": {},
   "outputs": [
    {
     "data": {
      "text/html": [
       "<div>\n",
       "<style scoped>\n",
       "    .dataframe tbody tr th:only-of-type {\n",
       "        vertical-align: middle;\n",
       "    }\n",
       "\n",
       "    .dataframe tbody tr th {\n",
       "        vertical-align: top;\n",
       "    }\n",
       "\n",
       "    .dataframe thead th {\n",
       "        text-align: right;\n",
       "    }\n",
       "</style>\n",
       "<table border=\"1\" class=\"dataframe\">\n",
       "  <thead>\n",
       "    <tr style=\"text-align: right;\">\n",
       "      <th></th>\n",
       "      <th>Unnamed: 0</th>\n",
       "      <th>manufacturer</th>\n",
       "      <th>model</th>\n",
       "      <th>year</th>\n",
       "      <th>version</th>\n",
       "      <th>power(kW)</th>\n",
       "      <th>fuel_date</th>\n",
       "      <th>odometer</th>\n",
       "      <th>trip_distance(km)</th>\n",
       "      <th>quantity(kWh)</th>\n",
       "      <th>...</th>\n",
       "      <th>driving_style</th>\n",
       "      <th>consumption(kWh/100km)</th>\n",
       "      <th>A/C</th>\n",
       "      <th>park_heating</th>\n",
       "      <th>avg_speed(km/h)</th>\n",
       "      <th>ecr_deviation</th>\n",
       "      <th>fuel_note</th>\n",
       "      <th>user_id</th>\n",
       "      <th>man_model_year_verion</th>\n",
       "      <th>actual quantity consumed per 100 km</th>\n",
       "    </tr>\n",
       "  </thead>\n",
       "  <tbody>\n",
       "    <tr>\n",
       "      <th>0</th>\n",
       "      <td>465</td>\n",
       "      <td>Volkswagen</td>\n",
       "      <td>Golf</td>\n",
       "      <td>2018</td>\n",
       "      <td>e-Golf</td>\n",
       "      <td>100.0</td>\n",
       "      <td>17.01.2022</td>\n",
       "      <td>NaN</td>\n",
       "      <td>61.0</td>\n",
       "      <td>18.0</td>\n",
       "      <td>...</td>\n",
       "      <td>Normal</td>\n",
       "      <td>17.00</td>\n",
       "      <td>1</td>\n",
       "      <td>0</td>\n",
       "      <td>NaN</td>\n",
       "      <td>4.10</td>\n",
       "      <td>NaN</td>\n",
       "      <td>Tesla_Model_S_2015</td>\n",
       "      <td>Volkswagen Golf 2018 e-Golf</td>\n",
       "      <td>29.508197</td>\n",
       "    </tr>\n",
       "    <tr>\n",
       "      <th>1</th>\n",
       "      <td>255</td>\n",
       "      <td>Volkswagen</td>\n",
       "      <td>Golf</td>\n",
       "      <td>2018</td>\n",
       "      <td>e-Golf</td>\n",
       "      <td>100.0</td>\n",
       "      <td>08.07.2022</td>\n",
       "      <td>NaN</td>\n",
       "      <td>47.0</td>\n",
       "      <td>11.0</td>\n",
       "      <td>...</td>\n",
       "      <td>Normal</td>\n",
       "      <td>11.63</td>\n",
       "      <td>1</td>\n",
       "      <td>0</td>\n",
       "      <td>NaN</td>\n",
       "      <td>-1.27</td>\n",
       "      <td>NaN</td>\n",
       "      <td>Tesla_Model_S_2015</td>\n",
       "      <td>Volkswagen Golf 2018 e-Golf</td>\n",
       "      <td>23.404255</td>\n",
       "    </tr>\n",
       "    <tr>\n",
       "      <th>2</th>\n",
       "      <td>1264</td>\n",
       "      <td>Volkswagen</td>\n",
       "      <td>Golf</td>\n",
       "      <td>2018</td>\n",
       "      <td>e-Golf</td>\n",
       "      <td>100.0</td>\n",
       "      <td>05.12.2019</td>\n",
       "      <td>NaN</td>\n",
       "      <td>97.0</td>\n",
       "      <td>24.6</td>\n",
       "      <td>...</td>\n",
       "      <td>Normal</td>\n",
       "      <td>18.09</td>\n",
       "      <td>1</td>\n",
       "      <td>0</td>\n",
       "      <td>NaN</td>\n",
       "      <td>5.19</td>\n",
       "      <td>NaN</td>\n",
       "      <td>Tesla_Model_S_2015</td>\n",
       "      <td>Volkswagen Golf 2018 e-Golf</td>\n",
       "      <td>25.360825</td>\n",
       "    </tr>\n",
       "    <tr>\n",
       "      <th>3</th>\n",
       "      <td>522</td>\n",
       "      <td>Volkswagen</td>\n",
       "      <td>Golf</td>\n",
       "      <td>2018</td>\n",
       "      <td>e-Golf</td>\n",
       "      <td>100.0</td>\n",
       "      <td>07.12.2021</td>\n",
       "      <td>NaN</td>\n",
       "      <td>58.0</td>\n",
       "      <td>10.0</td>\n",
       "      <td>...</td>\n",
       "      <td>Normal</td>\n",
       "      <td>15.57</td>\n",
       "      <td>1</td>\n",
       "      <td>0</td>\n",
       "      <td>NaN</td>\n",
       "      <td>2.67</td>\n",
       "      <td>NaN</td>\n",
       "      <td>Tesla_Model_S_2015</td>\n",
       "      <td>Volkswagen Golf 2018 e-Golf</td>\n",
       "      <td>17.241379</td>\n",
       "    </tr>\n",
       "    <tr>\n",
       "      <th>4</th>\n",
       "      <td>715</td>\n",
       "      <td>Volkswagen</td>\n",
       "      <td>Golf</td>\n",
       "      <td>2018</td>\n",
       "      <td>e-Golf</td>\n",
       "      <td>100.0</td>\n",
       "      <td>22.06.2021</td>\n",
       "      <td>NaN</td>\n",
       "      <td>92.0</td>\n",
       "      <td>28.0</td>\n",
       "      <td>...</td>\n",
       "      <td>Normal</td>\n",
       "      <td>14.08</td>\n",
       "      <td>1</td>\n",
       "      <td>0</td>\n",
       "      <td>NaN</td>\n",
       "      <td>1.18</td>\n",
       "      <td>NaN</td>\n",
       "      <td>Tesla_Model_S_2015</td>\n",
       "      <td>Volkswagen Golf 2018 e-Golf</td>\n",
       "      <td>30.434783</td>\n",
       "    </tr>\n",
       "  </tbody>\n",
       "</table>\n",
       "<p>5 rows × 25 columns</p>\n",
       "</div>"
      ],
      "text/plain": [
       "   Unnamed: 0 manufacturer model  year version  power(kW)   fuel_date  \\\n",
       "0         465   Volkswagen  Golf  2018  e-Golf      100.0  17.01.2022   \n",
       "1         255   Volkswagen  Golf  2018  e-Golf      100.0  08.07.2022   \n",
       "2        1264   Volkswagen  Golf  2018  e-Golf      100.0  05.12.2019   \n",
       "3         522   Volkswagen  Golf  2018  e-Golf      100.0  07.12.2021   \n",
       "4         715   Volkswagen  Golf  2018  e-Golf      100.0  22.06.2021   \n",
       "\n",
       "   odometer  trip_distance(km)  quantity(kWh)  ... driving_style  \\\n",
       "0       NaN               61.0           18.0  ...        Normal   \n",
       "1       NaN               47.0           11.0  ...        Normal   \n",
       "2       NaN               97.0           24.6  ...        Normal   \n",
       "3       NaN               58.0           10.0  ...        Normal   \n",
       "4       NaN               92.0           28.0  ...        Normal   \n",
       "\n",
       "  consumption(kWh/100km)  A/C  park_heating  avg_speed(km/h) ecr_deviation  \\\n",
       "0                  17.00    1             0              NaN          4.10   \n",
       "1                  11.63    1             0              NaN         -1.27   \n",
       "2                  18.09    1             0              NaN          5.19   \n",
       "3                  15.57    1             0              NaN          2.67   \n",
       "4                  14.08    1             0              NaN          1.18   \n",
       "\n",
       "   fuel_note             user_id        man_model_year_verion  \\\n",
       "0        NaN  Tesla_Model_S_2015  Volkswagen Golf 2018 e-Golf   \n",
       "1        NaN  Tesla_Model_S_2015  Volkswagen Golf 2018 e-Golf   \n",
       "2        NaN  Tesla_Model_S_2015  Volkswagen Golf 2018 e-Golf   \n",
       "3        NaN  Tesla_Model_S_2015  Volkswagen Golf 2018 e-Golf   \n",
       "4        NaN  Tesla_Model_S_2015  Volkswagen Golf 2018 e-Golf   \n",
       "\n",
       "   actual quantity consumed per 100 km  \n",
       "0                            29.508197  \n",
       "1                            23.404255  \n",
       "2                            25.360825  \n",
       "3                            17.241379  \n",
       "4                            30.434783  \n",
       "\n",
       "[5 rows x 25 columns]"
      ]
     },
     "execution_count": 58,
     "metadata": {},
     "output_type": "execute_result"
    }
   ],
   "source": [
    "df.head()"
   ]
  },
  {
   "cell_type": "code",
   "execution_count": 59,
   "metadata": {},
   "outputs": [],
   "source": [
    "y=pd.DataFrame(df['trip_distance(km)'])\n",
    "X=df.drop(columns='trip_distance(km)', axis=1)\n",
    "X_train_model, X_test_model, y_train_model, y_test_model=train_test_split(X, y, test_size=0.4, shuffle=True)\n",
    "train_data=pd.concat([X_train_model,y_train_model], axis=1)\n",
    "test_data=pd.concat([X_test_model,y_test_model], axis=1)\n",
    "\n",
    "# fetures_sel1=[ 'power(kW)', 'fuel_date', 'quantity(kWh)', \n",
    "#        'tire_type', 'city', 'motor_way', 'country_roads', 'driving_style',\n",
    "#         'park_heating', 'avg_speed(km/h)',\n",
    "#        'ecr_deviation','consumption(kWh/100km)','trip_distance(km)']\n",
    "\n",
    "fetures_sel1=[ 'power(kW)','fuel_date', 'quantity(kWh)', 'odometer',\n",
    "               'tire_type', 'city', 'motor_way', 'country_roads', 'driving_style',\n",
    "               'consumption(kWh/100km)',  'A/C', 'park_heating',\n",
    "                  'ecr_deviation','trip_distance(km)']"
   ]
  },
  {
   "cell_type": "code",
   "execution_count": 60,
   "metadata": {},
   "outputs": [
    {
     "data": {
      "text/plain": [
       "(13986, 24)"
      ]
     },
     "execution_count": 60,
     "metadata": {},
     "output_type": "execute_result"
    }
   ],
   "source": [
    "X_train_model.shape"
   ]
  },
  {
   "cell_type": "code",
   "execution_count": 61,
   "metadata": {},
   "outputs": [
    {
     "data": {
      "text/plain": [
       "(9325, 24)"
      ]
     },
     "execution_count": 61,
     "metadata": {},
     "output_type": "execute_result"
    }
   ],
   "source": [
    "X_test_model.shape"
   ]
  },
  {
   "cell_type": "code",
   "execution_count": 62,
   "metadata": {},
   "outputs": [],
   "source": [
    "train_data=pd.concat([X_train_model,y_train_model], axis=1)\n",
    "test_data=pd.concat([X_test_model,y_test_model], axis=1)"
   ]
  },
  {
   "cell_type": "code",
   "execution_count": 63,
   "metadata": {},
   "outputs": [
    {
     "data": {
      "text/plain": [
       "Unnamed: 0                             0.000000\n",
       "manufacturer                           0.000000\n",
       "model                                  0.000000\n",
       "year                                   0.000000\n",
       "version                                0.000000\n",
       "power(kW)                              0.000000\n",
       "fuel_date                              0.000000\n",
       "odometer                               0.354211\n",
       "quantity(kWh)                          0.000000\n",
       "fuel_type                              0.000000\n",
       "tire_type                              0.003575\n",
       "city                                   0.000000\n",
       "motor_way                              0.000000\n",
       "country_roads                          0.000000\n",
       "driving_style                          0.004004\n",
       "consumption(kWh/100km)                 0.004433\n",
       "A/C                                    0.000000\n",
       "park_heating                           0.000000\n",
       "avg_speed(km/h)                        0.821035\n",
       "ecr_deviation                          0.111683\n",
       "fuel_note                              0.748463\n",
       "user_id                                0.000000\n",
       "man_model_year_verion                  0.000000\n",
       "actual quantity consumed per 100 km    0.000000\n",
       "trip_distance(km)                      0.000000\n",
       "dtype: float64"
      ]
     },
     "execution_count": 63,
     "metadata": {},
     "output_type": "execute_result"
    }
   ],
   "source": [
    "train_data.isna().sum()/train_data.shape[0]"
   ]
  },
  {
   "cell_type": "code",
   "execution_count": 64,
   "metadata": {},
   "outputs": [
    {
     "data": {
      "text/plain": [
       "Unnamed: 0                             0.000000\n",
       "manufacturer                           0.000000\n",
       "model                                  0.000000\n",
       "year                                   0.000000\n",
       "version                                0.000000\n",
       "power(kW)                              0.000000\n",
       "fuel_date                              0.000000\n",
       "odometer                               0.356354\n",
       "quantity(kWh)                          0.000000\n",
       "fuel_type                              0.000000\n",
       "tire_type                              0.004290\n",
       "city                                   0.000000\n",
       "motor_way                              0.000000\n",
       "country_roads                          0.000000\n",
       "driving_style                          0.005898\n",
       "consumption(kWh/100km)                 0.003539\n",
       "A/C                                    0.000000\n",
       "park_heating                           0.000000\n",
       "avg_speed(km/h)                        0.825952\n",
       "ecr_deviation                          0.111099\n",
       "fuel_note                              0.742842\n",
       "user_id                                0.000000\n",
       "man_model_year_verion                  0.000000\n",
       "actual quantity consumed per 100 km    0.000000\n",
       "trip_distance(km)                      0.000000\n",
       "dtype: float64"
      ]
     },
     "execution_count": 64,
     "metadata": {},
     "output_type": "execute_result"
    }
   ],
   "source": [
    "test_data.isna().sum()/test_data.shape[0]"
   ]
  },
  {
   "cell_type": "markdown",
   "metadata": {},
   "source": [
    "### 1. Feature Selection"
   ]
  },
  {
   "cell_type": "code",
   "execution_count": 65,
   "metadata": {},
   "outputs": [],
   "source": [
    "# fetures_sel1=[ 'power(kW)', 'fuel_date', 'quantity(kWh)', \n",
    "#        'tire_type', 'city', 'motor_way', 'country_roads', 'driving_style',\n",
    "#         'park_heating', 'avg_speed(km/h)',\n",
    "#        'ecr_deviation','consumption(kWh/100km)','trip_distance(km)']"
   ]
  },
  {
   "cell_type": "code",
   "execution_count": 66,
   "metadata": {},
   "outputs": [],
   "source": [
    "# fetures_sel2=[ 'power(kW)', 'fuel_date', 'quantity(kWh)', \n",
    "#        'tire_type', 'city', 'motor_way', 'country_roads', 'driving_style',\n",
    "#         'park_heating', \n",
    "#        'ecr_deviation','consumption(kWh/100km)','trip_distance(km)']"
   ]
  },
  {
   "cell_type": "code",
   "execution_count": 67,
   "metadata": {},
   "outputs": [],
   "source": [
    "train_model_sel=train_data[fetures_sel1]\n",
    "test_model_sel=test_data[fetures_sel1]"
   ]
  },
  {
   "cell_type": "code",
   "execution_count": 68,
   "metadata": {},
   "outputs": [
    {
     "data": {
      "text/html": [
       "<div>\n",
       "<style scoped>\n",
       "    .dataframe tbody tr th:only-of-type {\n",
       "        vertical-align: middle;\n",
       "    }\n",
       "\n",
       "    .dataframe tbody tr th {\n",
       "        vertical-align: top;\n",
       "    }\n",
       "\n",
       "    .dataframe thead th {\n",
       "        text-align: right;\n",
       "    }\n",
       "</style>\n",
       "<table border=\"1\" class=\"dataframe\">\n",
       "  <thead>\n",
       "    <tr style=\"text-align: right;\">\n",
       "      <th></th>\n",
       "      <th>power(kW)</th>\n",
       "      <th>fuel_date</th>\n",
       "      <th>quantity(kWh)</th>\n",
       "      <th>odometer</th>\n",
       "      <th>tire_type</th>\n",
       "      <th>city</th>\n",
       "      <th>motor_way</th>\n",
       "      <th>country_roads</th>\n",
       "      <th>driving_style</th>\n",
       "      <th>consumption(kWh/100km)</th>\n",
       "      <th>A/C</th>\n",
       "      <th>park_heating</th>\n",
       "      <th>ecr_deviation</th>\n",
       "      <th>trip_distance(km)</th>\n",
       "    </tr>\n",
       "  </thead>\n",
       "  <tbody>\n",
       "    <tr>\n",
       "      <th>21365</th>\n",
       "      <td>132.0</td>\n",
       "      <td>27.06.2021</td>\n",
       "      <td>4.17</td>\n",
       "      <td>92487.0</td>\n",
       "      <td>Summer tires</td>\n",
       "      <td>1</td>\n",
       "      <td>0</td>\n",
       "      <td>1</td>\n",
       "      <td>Moderate</td>\n",
       "      <td>14.38</td>\n",
       "      <td>0</td>\n",
       "      <td>0</td>\n",
       "      <td>-2.22</td>\n",
       "      <td>29.0</td>\n",
       "    </tr>\n",
       "    <tr>\n",
       "      <th>7128</th>\n",
       "      <td>85.0</td>\n",
       "      <td>19.04.2018</td>\n",
       "      <td>15.80</td>\n",
       "      <td>51541.0</td>\n",
       "      <td>Summer tires</td>\n",
       "      <td>0</td>\n",
       "      <td>1</td>\n",
       "      <td>0</td>\n",
       "      <td>Moderate</td>\n",
       "      <td>12.50</td>\n",
       "      <td>0</td>\n",
       "      <td>1</td>\n",
       "      <td>-0.20</td>\n",
       "      <td>86.0</td>\n",
       "    </tr>\n",
       "    <tr>\n",
       "      <th>6821</th>\n",
       "      <td>85.0</td>\n",
       "      <td>19.04.2018</td>\n",
       "      <td>6.14</td>\n",
       "      <td>51637.0</td>\n",
       "      <td>Summer tires</td>\n",
       "      <td>1</td>\n",
       "      <td>1</td>\n",
       "      <td>0</td>\n",
       "      <td>Moderate</td>\n",
       "      <td>12.30</td>\n",
       "      <td>0</td>\n",
       "      <td>0</td>\n",
       "      <td>-0.40</td>\n",
       "      <td>76.0</td>\n",
       "    </tr>\n",
       "    <tr>\n",
       "      <th>15804</th>\n",
       "      <td>80.0</td>\n",
       "      <td>27.11.2019</td>\n",
       "      <td>1.60</td>\n",
       "      <td>NaN</td>\n",
       "      <td>All-year tires</td>\n",
       "      <td>0</td>\n",
       "      <td>0</td>\n",
       "      <td>0</td>\n",
       "      <td>Normal</td>\n",
       "      <td>14.60</td>\n",
       "      <td>0</td>\n",
       "      <td>0</td>\n",
       "      <td>-0.40</td>\n",
       "      <td>11.1</td>\n",
       "    </tr>\n",
       "    <tr>\n",
       "      <th>7666</th>\n",
       "      <td>80.0</td>\n",
       "      <td>31.10.2019</td>\n",
       "      <td>6.88</td>\n",
       "      <td>NaN</td>\n",
       "      <td>Summer tires</td>\n",
       "      <td>1</td>\n",
       "      <td>0</td>\n",
       "      <td>1</td>\n",
       "      <td>Normal</td>\n",
       "      <td>13.38</td>\n",
       "      <td>1</td>\n",
       "      <td>0</td>\n",
       "      <td>-1.62</td>\n",
       "      <td>50.0</td>\n",
       "    </tr>\n",
       "  </tbody>\n",
       "</table>\n",
       "</div>"
      ],
      "text/plain": [
       "       power(kW)   fuel_date  quantity(kWh)  odometer       tire_type  city  \\\n",
       "21365      132.0  27.06.2021           4.17   92487.0    Summer tires     1   \n",
       "7128        85.0  19.04.2018          15.80   51541.0    Summer tires     0   \n",
       "6821        85.0  19.04.2018           6.14   51637.0    Summer tires     1   \n",
       "15804       80.0  27.11.2019           1.60       NaN  All-year tires     0   \n",
       "7666        80.0  31.10.2019           6.88       NaN    Summer tires     1   \n",
       "\n",
       "       motor_way  country_roads driving_style  consumption(kWh/100km)  A/C  \\\n",
       "21365          0              1      Moderate                   14.38    0   \n",
       "7128           1              0      Moderate                   12.50    0   \n",
       "6821           1              0      Moderate                   12.30    0   \n",
       "15804          0              0        Normal                   14.60    0   \n",
       "7666           0              1        Normal                   13.38    1   \n",
       "\n",
       "       park_heating  ecr_deviation  trip_distance(km)  \n",
       "21365             0          -2.22               29.0  \n",
       "7128              1          -0.20               86.0  \n",
       "6821              0          -0.40               76.0  \n",
       "15804             0          -0.40               11.1  \n",
       "7666              0          -1.62               50.0  "
      ]
     },
     "execution_count": 68,
     "metadata": {},
     "output_type": "execute_result"
    }
   ],
   "source": [
    "train_model_sel.head()"
   ]
  },
  {
   "cell_type": "code",
   "execution_count": 69,
   "metadata": {},
   "outputs": [],
   "source": [
    "def fillinMissingvalues(df, columns):\n",
    "    for col in columns:\n",
    "        print(df[col].dtypes)\n",
    "        if df[col].dtypes=='float64':\n",
    "            df[col].fillna(value=df[col].mean(), inplace=True)\n",
    "        elif df[col].dtypes=='object':\n",
    "            df[col].fillna(value=df[col].astype('str').mode(), inplace=True)\n",
    "        elif df[col].dtypes=='int64':\n",
    "            df[col].fillna(value=df[col].mode(), inplace=True)\n",
    "    return df\n",
    "            "
   ]
  },
  {
   "attachments": {},
   "cell_type": "markdown",
   "metadata": {},
   "source": [
    "### Fill Missing value"
   ]
  },
  {
   "cell_type": "code",
   "execution_count": 70,
   "metadata": {},
   "outputs": [
    {
     "name": "stdout",
     "output_type": "stream",
     "text": [
      "<class 'pandas.core.frame.DataFrame'>\n",
      "Int64Index: 13986 entries, 21365 to 12488\n",
      "Data columns (total 14 columns):\n",
      " #   Column                  Non-Null Count  Dtype  \n",
      "---  ------                  --------------  -----  \n",
      " 0   power(kW)               13986 non-null  float64\n",
      " 1   fuel_date               13986 non-null  object \n",
      " 2   quantity(kWh)           13986 non-null  float64\n",
      " 3   odometer                9032 non-null   float64\n",
      " 4   tire_type               13936 non-null  object \n",
      " 5   city                    13986 non-null  int64  \n",
      " 6   motor_way               13986 non-null  int64  \n",
      " 7   country_roads           13986 non-null  int64  \n",
      " 8   driving_style           13930 non-null  object \n",
      " 9   consumption(kWh/100km)  13924 non-null  float64\n",
      " 10  A/C                     13986 non-null  int64  \n",
      " 11  park_heating            13986 non-null  int64  \n",
      " 12  ecr_deviation           12424 non-null  float64\n",
      " 13  trip_distance(km)       13986 non-null  float64\n",
      "dtypes: float64(6), int64(5), object(3)\n",
      "memory usage: 1.6+ MB\n"
     ]
    }
   ],
   "source": [
    "train_model_sel.info()"
   ]
  },
  {
   "cell_type": "code",
   "execution_count": 71,
   "metadata": {},
   "outputs": [
    {
     "data": {
      "text/plain": [
       "power(kW)                 False\n",
       "fuel_date                 False\n",
       "quantity(kWh)             False\n",
       "odometer                   True\n",
       "tire_type                  True\n",
       "city                      False\n",
       "motor_way                 False\n",
       "country_roads             False\n",
       "driving_style              True\n",
       "consumption(kWh/100km)     True\n",
       "A/C                       False\n",
       "park_heating              False\n",
       "ecr_deviation              True\n",
       "trip_distance(km)         False\n",
       "dtype: bool"
      ]
     },
     "execution_count": 71,
     "metadata": {},
     "output_type": "execute_result"
    }
   ],
   "source": [
    "test_model_sel.isna().any()"
   ]
  },
  {
   "cell_type": "code",
   "execution_count": 72,
   "metadata": {},
   "outputs": [
    {
     "data": {
      "text/plain": [
       "Index(['power(kW)', 'fuel_date', 'quantity(kWh)', 'odometer', 'tire_type',\n",
       "       'city', 'motor_way', 'country_roads', 'driving_style',\n",
       "       'consumption(kWh/100km)', 'A/C', 'park_heating', 'ecr_deviation',\n",
       "       'trip_distance(km)'],\n",
       "      dtype='object')"
      ]
     },
     "execution_count": 72,
     "metadata": {},
     "output_type": "execute_result"
    }
   ],
   "source": [
    "train_model_sel.columns"
   ]
  },
  {
   "cell_type": "code",
   "execution_count": 73,
   "metadata": {},
   "outputs": [
    {
     "name": "stdout",
     "output_type": "stream",
     "text": [
      "float64\n",
      "float64\n",
      "object\n",
      "float64\n",
      "float64\n",
      "object\n"
     ]
    },
    {
     "name": "stderr",
     "output_type": "stream",
     "text": [
      "/usr/lib/python3/dist-packages/pandas/core/generic.py:6392: SettingWithCopyWarning: \n",
      "A value is trying to be set on a copy of a slice from a DataFrame\n",
      "\n",
      "See the caveats in the documentation: https://pandas.pydata.org/pandas-docs/stable/user_guide/indexing.html#returning-a-view-versus-a-copy\n",
      "  return self._update_inplace(result)\n"
     ]
    }
   ],
   "source": [
    "columns=['consumption(kWh/100km)','ecr_deviation', 'tire_type', ] \n",
    "train_data=fillinMissingvalues(train_model_sel, columns)               \n",
    "test_data=fillinMissingvalues(test_model_sel, columns)"
   ]
  },
  {
   "cell_type": "code",
   "execution_count": 74,
   "metadata": {},
   "outputs": [
    {
     "data": {
      "text/plain": [
       "power(kW)                    0\n",
       "fuel_date                    0\n",
       "quantity(kWh)                0\n",
       "odometer                  4954\n",
       "tire_type                   50\n",
       "city                         0\n",
       "motor_way                    0\n",
       "country_roads                0\n",
       "driving_style               56\n",
       "consumption(kWh/100km)       0\n",
       "A/C                          0\n",
       "park_heating                 0\n",
       "ecr_deviation                0\n",
       "trip_distance(km)            0\n",
       "dtype: int64"
      ]
     },
     "execution_count": 74,
     "metadata": {},
     "output_type": "execute_result"
    }
   ],
   "source": [
    "train_data.isna().sum()\n"
   ]
  },
  {
   "cell_type": "code",
   "execution_count": 75,
   "metadata": {},
   "outputs": [
    {
     "data": {
      "text/plain": [
       "power(kW)                    0\n",
       "fuel_date                    0\n",
       "quantity(kWh)                0\n",
       "odometer                  3323\n",
       "tire_type                   40\n",
       "city                         0\n",
       "motor_way                    0\n",
       "country_roads                0\n",
       "driving_style               55\n",
       "consumption(kWh/100km)       0\n",
       "A/C                          0\n",
       "park_heating                 0\n",
       "ecr_deviation                0\n",
       "trip_distance(km)            0\n",
       "dtype: int64"
      ]
     },
     "execution_count": 75,
     "metadata": {},
     "output_type": "execute_result"
    }
   ],
   "source": [
    "test_data.isna().sum()"
   ]
  },
  {
   "cell_type": "code",
   "execution_count": 76,
   "metadata": {},
   "outputs": [],
   "source": [
    "train_data['tire_type'].fillna(value=train_data['tire_type'].mode(), inplace=True)\n",
    "test_data['tire_type'].fillna(value=test_data['tire_type'].mode(), inplace=True)"
   ]
  },
  {
   "cell_type": "code",
   "execution_count": 77,
   "metadata": {},
   "outputs": [],
   "source": [
    "train_data['driving_style'].fillna(value=train_data['driving_style'].mode(), inplace=True)\n",
    "test_data['driving_style'].fillna(value=test_data['driving_style'].mode(), inplace=True)"
   ]
  },
  {
   "cell_type": "code",
   "execution_count": 78,
   "metadata": {},
   "outputs": [
    {
     "data": {
      "text/plain": [
       "power(kW)                    0\n",
       "fuel_date                    0\n",
       "quantity(kWh)                0\n",
       "odometer                  4954\n",
       "tire_type                   50\n",
       "city                         0\n",
       "motor_way                    0\n",
       "country_roads                0\n",
       "driving_style               56\n",
       "consumption(kWh/100km)       0\n",
       "A/C                          0\n",
       "park_heating                 0\n",
       "ecr_deviation                0\n",
       "trip_distance(km)            0\n",
       "dtype: int64"
      ]
     },
     "execution_count": 78,
     "metadata": {},
     "output_type": "execute_result"
    }
   ],
   "source": [
    "train_data.isna().sum()\n"
   ]
  },
  {
   "cell_type": "code",
   "execution_count": 79,
   "metadata": {},
   "outputs": [
    {
     "name": "stdout",
     "output_type": "stream",
     "text": [
      "<class 'pandas.core.frame.DataFrame'>\n",
      "Int64Index: 9325 entries, 22245 to 6446\n",
      "Data columns (total 14 columns):\n",
      " #   Column                  Non-Null Count  Dtype  \n",
      "---  ------                  --------------  -----  \n",
      " 0   power(kW)               9325 non-null   float64\n",
      " 1   fuel_date               9325 non-null   object \n",
      " 2   quantity(kWh)           9325 non-null   float64\n",
      " 3   odometer                6002 non-null   float64\n",
      " 4   tire_type               9285 non-null   object \n",
      " 5   city                    9325 non-null   int64  \n",
      " 6   motor_way               9325 non-null   int64  \n",
      " 7   country_roads           9325 non-null   int64  \n",
      " 8   driving_style           9270 non-null   object \n",
      " 9   consumption(kWh/100km)  9325 non-null   float64\n",
      " 10  A/C                     9325 non-null   int64  \n",
      " 11  park_heating            9325 non-null   int64  \n",
      " 12  ecr_deviation           9325 non-null   float64\n",
      " 13  trip_distance(km)       9325 non-null   float64\n",
      "dtypes: float64(6), int64(5), object(3)\n",
      "memory usage: 1.1+ MB\n"
     ]
    }
   ],
   "source": [
    "test_data.info()"
   ]
  },
  {
   "cell_type": "markdown",
   "metadata": {},
   "source": [
    "### 2. Data type Conversion"
   ]
  },
  {
   "cell_type": "code",
   "execution_count": 80,
   "metadata": {},
   "outputs": [],
   "source": [
    "#colums_for_num_cov=['power(kW)','quantity(kWh)','avg_speed(km/h)','ecr_deviation']\n",
    "\n",
    "colums_for_num_cov=['power(kW)','quantity(kWh)','ecr_deviation', 'trip_distance(km)']\n",
    "train_model_num=convert_to_numeric(colums_for_num_cov, train_model_sel)\n",
    "test_model_num=convert_to_numeric(colums_for_num_cov, test_model_sel)"
   ]
  },
  {
   "cell_type": "code",
   "execution_count": 81,
   "metadata": {},
   "outputs": [
    {
     "name": "stdout",
     "output_type": "stream",
     "text": [
      "(13986, 14)\n",
      "(9325, 14)\n"
     ]
    }
   ],
   "source": [
    "print(train_model_num.shape)\n",
    "print(test_model_num.shape)"
   ]
  },
  {
   "cell_type": "code",
   "execution_count": 82,
   "metadata": {},
   "outputs": [],
   "source": [
    "# train_model_cat=convert_encodecategorical(train_model_num)\n",
    "# test_model_cat=convert_encodecategorical(test_model_num)\n",
    "\n",
    "train_model_cat=convert_encodecategorical(train_data)\n",
    "test_model_cat=convert_encodecategorical(test_data)"
   ]
  },
  {
   "cell_type": "code",
   "execution_count": 83,
   "metadata": {},
   "outputs": [
    {
     "name": "stdout",
     "output_type": "stream",
     "text": [
      "(13986, 14)\n",
      "(9325, 14)\n"
     ]
    }
   ],
   "source": [
    "print(train_model_num.shape)\n",
    "print(test_model_num.shape)"
   ]
  },
  {
   "cell_type": "code",
   "execution_count": 84,
   "metadata": {},
   "outputs": [
    {
     "name": "stdout",
     "output_type": "stream",
     "text": [
      "<class 'pandas.core.frame.DataFrame'>\n",
      "Int64Index: 13986 entries, 21365 to 12488\n",
      "Data columns (total 14 columns):\n",
      " #   Column                  Non-Null Count  Dtype  \n",
      "---  ------                  --------------  -----  \n",
      " 0   power(kW)               13986 non-null  float64\n",
      " 1   fuel_date               13986 non-null  object \n",
      " 2   quantity(kWh)           13986 non-null  float64\n",
      " 3   odometer                9032 non-null   float64\n",
      " 4   tire_type               13936 non-null  float64\n",
      " 5   city                    13986 non-null  int64  \n",
      " 6   motor_way               13986 non-null  int64  \n",
      " 7   country_roads           13986 non-null  int64  \n",
      " 8   driving_style           13930 non-null  float64\n",
      " 9   consumption(kWh/100km)  13986 non-null  float64\n",
      " 10  A/C                     13986 non-null  int64  \n",
      " 11  park_heating            13986 non-null  int64  \n",
      " 12  ecr_deviation           13986 non-null  float64\n",
      " 13  trip_distance(km)       13986 non-null  float64\n",
      "dtypes: float64(8), int64(5), object(1)\n",
      "memory usage: 1.6+ MB\n"
     ]
    }
   ],
   "source": [
    "train_model_cat.info()"
   ]
  },
  {
   "cell_type": "code",
   "execution_count": 85,
   "metadata": {},
   "outputs": [
    {
     "data": {
      "text/html": [
       "<div>\n",
       "<style scoped>\n",
       "    .dataframe tbody tr th:only-of-type {\n",
       "        vertical-align: middle;\n",
       "    }\n",
       "\n",
       "    .dataframe tbody tr th {\n",
       "        vertical-align: top;\n",
       "    }\n",
       "\n",
       "    .dataframe thead th {\n",
       "        text-align: right;\n",
       "    }\n",
       "</style>\n",
       "<table border=\"1\" class=\"dataframe\">\n",
       "  <thead>\n",
       "    <tr style=\"text-align: right;\">\n",
       "      <th></th>\n",
       "      <th>power(kW)</th>\n",
       "      <th>fuel_date</th>\n",
       "      <th>quantity(kWh)</th>\n",
       "      <th>odometer</th>\n",
       "      <th>tire_type</th>\n",
       "      <th>city</th>\n",
       "      <th>motor_way</th>\n",
       "      <th>country_roads</th>\n",
       "      <th>driving_style</th>\n",
       "      <th>consumption(kWh/100km)</th>\n",
       "      <th>A/C</th>\n",
       "      <th>park_heating</th>\n",
       "      <th>ecr_deviation</th>\n",
       "      <th>trip_distance(km)</th>\n",
       "    </tr>\n",
       "  </thead>\n",
       "  <tbody>\n",
       "    <tr>\n",
       "      <th>22245</th>\n",
       "      <td>278.0</td>\n",
       "      <td>02.01.2020</td>\n",
       "      <td>8.00</td>\n",
       "      <td>108361.0</td>\n",
       "      <td>2.0</td>\n",
       "      <td>1</td>\n",
       "      <td>0</td>\n",
       "      <td>1</td>\n",
       "      <td>1.0</td>\n",
       "      <td>27.20</td>\n",
       "      <td>0</td>\n",
       "      <td>0</td>\n",
       "      <td>11.100000</td>\n",
       "      <td>21.0</td>\n",
       "    </tr>\n",
       "    <tr>\n",
       "      <th>1583</th>\n",
       "      <td>278.0</td>\n",
       "      <td>30.11.2019</td>\n",
       "      <td>9.00</td>\n",
       "      <td>107079.0</td>\n",
       "      <td>2.0</td>\n",
       "      <td>1</td>\n",
       "      <td>0</td>\n",
       "      <td>0</td>\n",
       "      <td>1.0</td>\n",
       "      <td>24.24</td>\n",
       "      <td>0</td>\n",
       "      <td>0</td>\n",
       "      <td>8.140000</td>\n",
       "      <td>6.0</td>\n",
       "    </tr>\n",
       "    <tr>\n",
       "      <th>16755</th>\n",
       "      <td>88.0</td>\n",
       "      <td>19.11.2019</td>\n",
       "      <td>15.75</td>\n",
       "      <td>39686.0</td>\n",
       "      <td>3.0</td>\n",
       "      <td>1</td>\n",
       "      <td>1</td>\n",
       "      <td>1</td>\n",
       "      <td>2.0</td>\n",
       "      <td>12.88</td>\n",
       "      <td>0</td>\n",
       "      <td>0</td>\n",
       "      <td>2.332115</td>\n",
       "      <td>122.3</td>\n",
       "    </tr>\n",
       "    <tr>\n",
       "      <th>19593</th>\n",
       "      <td>35.0</td>\n",
       "      <td>29.08.2016</td>\n",
       "      <td>6.30</td>\n",
       "      <td>76835.0</td>\n",
       "      <td>2.0</td>\n",
       "      <td>1</td>\n",
       "      <td>0</td>\n",
       "      <td>1</td>\n",
       "      <td>1.0</td>\n",
       "      <td>14.65</td>\n",
       "      <td>1</td>\n",
       "      <td>0</td>\n",
       "      <td>2.150000</td>\n",
       "      <td>43.0</td>\n",
       "    </tr>\n",
       "    <tr>\n",
       "      <th>7805</th>\n",
       "      <td>80.0</td>\n",
       "      <td>18.10.2019</td>\n",
       "      <td>2.64</td>\n",
       "      <td>21983.0</td>\n",
       "      <td>3.0</td>\n",
       "      <td>1</td>\n",
       "      <td>0</td>\n",
       "      <td>1</td>\n",
       "      <td>1.0</td>\n",
       "      <td>13.38</td>\n",
       "      <td>1</td>\n",
       "      <td>0</td>\n",
       "      <td>-1.620000</td>\n",
       "      <td>96.0</td>\n",
       "    </tr>\n",
       "  </tbody>\n",
       "</table>\n",
       "</div>"
      ],
      "text/plain": [
       "       power(kW)   fuel_date  quantity(kWh)  odometer  tire_type  city  \\\n",
       "22245      278.0  02.01.2020           8.00  108361.0        2.0     1   \n",
       "1583       278.0  30.11.2019           9.00  107079.0        2.0     1   \n",
       "16755       88.0  19.11.2019          15.75   39686.0        3.0     1   \n",
       "19593       35.0  29.08.2016           6.30   76835.0        2.0     1   \n",
       "7805        80.0  18.10.2019           2.64   21983.0        3.0     1   \n",
       "\n",
       "       motor_way  country_roads  driving_style  consumption(kWh/100km)  A/C  \\\n",
       "22245          0              1            1.0                   27.20    0   \n",
       "1583           0              0            1.0                   24.24    0   \n",
       "16755          1              1            2.0                   12.88    0   \n",
       "19593          0              1            1.0                   14.65    1   \n",
       "7805           0              1            1.0                   13.38    1   \n",
       "\n",
       "       park_heating  ecr_deviation  trip_distance(km)  \n",
       "22245             0      11.100000               21.0  \n",
       "1583              0       8.140000                6.0  \n",
       "16755             0       2.332115              122.3  \n",
       "19593             0       2.150000               43.0  \n",
       "7805              0      -1.620000               96.0  "
      ]
     },
     "execution_count": 85,
     "metadata": {},
     "output_type": "execute_result"
    }
   ],
   "source": [
    "test_model_cat.head()"
   ]
  },
  {
   "cell_type": "code",
   "execution_count": 86,
   "metadata": {},
   "outputs": [
    {
     "name": "stdout",
     "output_type": "stream",
     "text": [
      "<class 'pandas.core.frame.DataFrame'>\n",
      "Int64Index: 13986 entries, 21365 to 12488\n",
      "Data columns (total 14 columns):\n",
      " #   Column                  Non-Null Count  Dtype  \n",
      "---  ------                  --------------  -----  \n",
      " 0   power(kW)               13986 non-null  float64\n",
      " 1   fuel_date               13986 non-null  object \n",
      " 2   quantity(kWh)           13986 non-null  float64\n",
      " 3   odometer                9032 non-null   float64\n",
      " 4   tire_type               13936 non-null  float64\n",
      " 5   city                    13986 non-null  int64  \n",
      " 6   motor_way               13986 non-null  int64  \n",
      " 7   country_roads           13986 non-null  int64  \n",
      " 8   driving_style           13930 non-null  float64\n",
      " 9   consumption(kWh/100km)  13986 non-null  float64\n",
      " 10  A/C                     13986 non-null  int64  \n",
      " 11  park_heating            13986 non-null  int64  \n",
      " 12  ecr_deviation           13986 non-null  float64\n",
      " 13  trip_distance(km)       13986 non-null  float64\n",
      "dtypes: float64(8), int64(5), object(1)\n",
      "memory usage: 1.6+ MB\n"
     ]
    }
   ],
   "source": [
    "train_model_cat.info()"
   ]
  },
  {
   "cell_type": "code",
   "execution_count": 87,
   "metadata": {},
   "outputs": [
    {
     "name": "stdout",
     "output_type": "stream",
     "text": [
      "<class 'pandas.core.frame.DataFrame'>\n",
      "Int64Index: 9325 entries, 22245 to 6446\n",
      "Data columns (total 14 columns):\n",
      " #   Column                  Non-Null Count  Dtype  \n",
      "---  ------                  --------------  -----  \n",
      " 0   power(kW)               9325 non-null   float64\n",
      " 1   fuel_date               9325 non-null   object \n",
      " 2   quantity(kWh)           9325 non-null   float64\n",
      " 3   odometer                6002 non-null   float64\n",
      " 4   tire_type               9285 non-null   float64\n",
      " 5   city                    9325 non-null   int64  \n",
      " 6   motor_way               9325 non-null   int64  \n",
      " 7   country_roads           9325 non-null   int64  \n",
      " 8   driving_style           9270 non-null   float64\n",
      " 9   consumption(kWh/100km)  9325 non-null   float64\n",
      " 10  A/C                     9325 non-null   int64  \n",
      " 11  park_heating            9325 non-null   int64  \n",
      " 12  ecr_deviation           9325 non-null   float64\n",
      " 13  trip_distance(km)       9325 non-null   float64\n",
      "dtypes: float64(8), int64(5), object(1)\n",
      "memory usage: 1.1+ MB\n"
     ]
    }
   ],
   "source": [
    "test_model_cat.info()"
   ]
  },
  {
   "cell_type": "markdown",
   "metadata": {},
   "source": [
    "### 3. Tranform Fuel Date"
   ]
  },
  {
   "cell_type": "code",
   "execution_count": 88,
   "metadata": {},
   "outputs": [],
   "source": [
    "train_converted=convert_date(train_model_cat.copy())\n",
    "test_converted=convert_date(test_model_cat.copy())"
   ]
  },
  {
   "cell_type": "code",
   "execution_count": 89,
   "metadata": {},
   "outputs": [
    {
     "name": "stdout",
     "output_type": "stream",
     "text": [
      "(13986, 16)\n",
      "(9325, 16)\n"
     ]
    }
   ],
   "source": [
    "print(train_converted.shape)\n",
    "print(test_converted.shape)"
   ]
  },
  {
   "cell_type": "code",
   "execution_count": 90,
   "metadata": {},
   "outputs": [
    {
     "data": {
      "text/html": [
       "<div>\n",
       "<style scoped>\n",
       "    .dataframe tbody tr th:only-of-type {\n",
       "        vertical-align: middle;\n",
       "    }\n",
       "\n",
       "    .dataframe tbody tr th {\n",
       "        vertical-align: top;\n",
       "    }\n",
       "\n",
       "    .dataframe thead th {\n",
       "        text-align: right;\n",
       "    }\n",
       "</style>\n",
       "<table border=\"1\" class=\"dataframe\">\n",
       "  <thead>\n",
       "    <tr style=\"text-align: right;\">\n",
       "      <th></th>\n",
       "      <th>power(kW)</th>\n",
       "      <th>quantity(kWh)</th>\n",
       "      <th>odometer</th>\n",
       "      <th>tire_type</th>\n",
       "      <th>city</th>\n",
       "      <th>motor_way</th>\n",
       "      <th>country_roads</th>\n",
       "      <th>driving_style</th>\n",
       "      <th>consumption(kWh/100km)</th>\n",
       "      <th>A/C</th>\n",
       "      <th>park_heating</th>\n",
       "      <th>ecr_deviation</th>\n",
       "      <th>trip_distance(km)</th>\n",
       "      <th>month</th>\n",
       "      <th>weekday</th>\n",
       "      <th>day</th>\n",
       "    </tr>\n",
       "  </thead>\n",
       "  <tbody>\n",
       "    <tr>\n",
       "      <th>22245</th>\n",
       "      <td>278.0</td>\n",
       "      <td>8.00</td>\n",
       "      <td>108361.0</td>\n",
       "      <td>2.0</td>\n",
       "      <td>1</td>\n",
       "      <td>0</td>\n",
       "      <td>1</td>\n",
       "      <td>1.0</td>\n",
       "      <td>27.20</td>\n",
       "      <td>0</td>\n",
       "      <td>0</td>\n",
       "      <td>11.100000</td>\n",
       "      <td>21.0</td>\n",
       "      <td>1</td>\n",
       "      <td>3</td>\n",
       "      <td>2</td>\n",
       "    </tr>\n",
       "    <tr>\n",
       "      <th>1583</th>\n",
       "      <td>278.0</td>\n",
       "      <td>9.00</td>\n",
       "      <td>107079.0</td>\n",
       "      <td>2.0</td>\n",
       "      <td>1</td>\n",
       "      <td>0</td>\n",
       "      <td>0</td>\n",
       "      <td>1.0</td>\n",
       "      <td>24.24</td>\n",
       "      <td>0</td>\n",
       "      <td>0</td>\n",
       "      <td>8.140000</td>\n",
       "      <td>6.0</td>\n",
       "      <td>11</td>\n",
       "      <td>5</td>\n",
       "      <td>30</td>\n",
       "    </tr>\n",
       "    <tr>\n",
       "      <th>16755</th>\n",
       "      <td>88.0</td>\n",
       "      <td>15.75</td>\n",
       "      <td>39686.0</td>\n",
       "      <td>3.0</td>\n",
       "      <td>1</td>\n",
       "      <td>1</td>\n",
       "      <td>1</td>\n",
       "      <td>2.0</td>\n",
       "      <td>12.88</td>\n",
       "      <td>0</td>\n",
       "      <td>0</td>\n",
       "      <td>2.332115</td>\n",
       "      <td>122.3</td>\n",
       "      <td>11</td>\n",
       "      <td>1</td>\n",
       "      <td>19</td>\n",
       "    </tr>\n",
       "    <tr>\n",
       "      <th>19593</th>\n",
       "      <td>35.0</td>\n",
       "      <td>6.30</td>\n",
       "      <td>76835.0</td>\n",
       "      <td>2.0</td>\n",
       "      <td>1</td>\n",
       "      <td>0</td>\n",
       "      <td>1</td>\n",
       "      <td>1.0</td>\n",
       "      <td>14.65</td>\n",
       "      <td>1</td>\n",
       "      <td>0</td>\n",
       "      <td>2.150000</td>\n",
       "      <td>43.0</td>\n",
       "      <td>8</td>\n",
       "      <td>0</td>\n",
       "      <td>29</td>\n",
       "    </tr>\n",
       "    <tr>\n",
       "      <th>7805</th>\n",
       "      <td>80.0</td>\n",
       "      <td>2.64</td>\n",
       "      <td>21983.0</td>\n",
       "      <td>3.0</td>\n",
       "      <td>1</td>\n",
       "      <td>0</td>\n",
       "      <td>1</td>\n",
       "      <td>1.0</td>\n",
       "      <td>13.38</td>\n",
       "      <td>1</td>\n",
       "      <td>0</td>\n",
       "      <td>-1.620000</td>\n",
       "      <td>96.0</td>\n",
       "      <td>10</td>\n",
       "      <td>4</td>\n",
       "      <td>18</td>\n",
       "    </tr>\n",
       "  </tbody>\n",
       "</table>\n",
       "</div>"
      ],
      "text/plain": [
       "       power(kW)  quantity(kWh)  odometer  tire_type  city  motor_way  \\\n",
       "22245      278.0           8.00  108361.0        2.0     1          0   \n",
       "1583       278.0           9.00  107079.0        2.0     1          0   \n",
       "16755       88.0          15.75   39686.0        3.0     1          1   \n",
       "19593       35.0           6.30   76835.0        2.0     1          0   \n",
       "7805        80.0           2.64   21983.0        3.0     1          0   \n",
       "\n",
       "       country_roads  driving_style  consumption(kWh/100km)  A/C  \\\n",
       "22245              1            1.0                   27.20    0   \n",
       "1583               0            1.0                   24.24    0   \n",
       "16755              1            2.0                   12.88    0   \n",
       "19593              1            1.0                   14.65    1   \n",
       "7805               1            1.0                   13.38    1   \n",
       "\n",
       "       park_heating  ecr_deviation  trip_distance(km)  month  weekday  day  \n",
       "22245             0      11.100000               21.0      1        3    2  \n",
       "1583              0       8.140000                6.0     11        5   30  \n",
       "16755             0       2.332115              122.3     11        1   19  \n",
       "19593             0       2.150000               43.0      8        0   29  \n",
       "7805              0      -1.620000               96.0     10        4   18  "
      ]
     },
     "execution_count": 90,
     "metadata": {},
     "output_type": "execute_result"
    }
   ],
   "source": [
    "test_converted.head()"
   ]
  },
  {
   "cell_type": "code",
   "execution_count": 91,
   "metadata": {},
   "outputs": [],
   "source": [
    "import seaborn as sns\n",
    "import matplotlib.pyplot as plt"
   ]
  },
  {
   "cell_type": "code",
   "execution_count": 92,
   "metadata": {},
   "outputs": [],
   "source": [
    "data=pd.concat([train_converted,test_converted], axis=0)"
   ]
  },
  {
   "cell_type": "code",
   "execution_count": 93,
   "metadata": {},
   "outputs": [
    {
     "data": {
      "text/plain": [
       "Index(['power(kW)', 'quantity(kWh)', 'odometer', 'tire_type', 'city',\n",
       "       'motor_way', 'country_roads', 'driving_style', 'consumption(kWh/100km)',\n",
       "       'A/C', 'park_heating', 'ecr_deviation', 'trip_distance(km)', 'month',\n",
       "       'weekday', 'day'],\n",
       "      dtype='object')"
      ]
     },
     "execution_count": 93,
     "metadata": {},
     "output_type": "execute_result"
    }
   ],
   "source": [
    "data.columns"
   ]
  },
  {
   "cell_type": "code",
   "execution_count": 94,
   "metadata": {},
   "outputs": [
    {
     "data": {
      "text/plain": [
       "<seaborn.axisgrid.FacetGrid at 0x7f671ed2ceb0>"
      ]
     },
     "execution_count": 94,
     "metadata": {},
     "output_type": "execute_result"
    },
    {
     "data": {
      "image/png": "[encoded data removed]",
      "text/plain": [
       "<Figure size 500x500 with 1 Axes>"
      ]
     },
     "metadata": {},
     "output_type": "display_data"
    }
   ],
   "source": [
    "sns.catplot(data=data, x=\"park_heating\", y=\"trip_distance(km)\", jitter=False,hue='park_heating')"
   ]
  },
  {
   "cell_type": "markdown",
   "metadata": {},
   "source": [
    " ### 5. Filling Missing values"
   ]
  },
  {
   "cell_type": "code",
   "execution_count": 95,
   "metadata": {},
   "outputs": [
    {
     "name": "stdout",
     "output_type": "stream",
     "text": [
      "<class 'pandas.core.frame.DataFrame'>\n",
      "Int64Index: 13986 entries, 21365 to 12488\n",
      "Data columns (total 16 columns):\n",
      " #   Column                  Non-Null Count  Dtype  \n",
      "---  ------                  --------------  -----  \n",
      " 0   power(kW)               13986 non-null  float64\n",
      " 1   quantity(kWh)           13986 non-null  float64\n",
      " 2   odometer                9032 non-null   float64\n",
      " 3   tire_type               13936 non-null  float64\n",
      " 4   city                    13986 non-null  int64  \n",
      " 5   motor_way               13986 non-null  int64  \n",
      " 6   country_roads           13986 non-null  int64  \n",
      " 7   driving_style           13930 non-null  float64\n",
      " 8   consumption(kWh/100km)  13986 non-null  float64\n",
      " 9   A/C                     13986 non-null  int64  \n",
      " 10  park_heating            13986 non-null  int64  \n",
      " 11  ecr_deviation           13986 non-null  float64\n",
      " 12  trip_distance(km)       13986 non-null  float64\n",
      " 13  month                   13986 non-null  int64  \n",
      " 14  weekday                 13986 non-null  int64  \n",
      " 15  day                     13986 non-null  int64  \n",
      "dtypes: float64(8), int64(8)\n",
      "memory usage: 1.8 MB\n"
     ]
    }
   ],
   "source": [
    "train_converted.info()"
   ]
  },
  {
   "cell_type": "code",
   "execution_count": 96,
   "metadata": {},
   "outputs": [
    {
     "data": {
      "text/plain": [
       "power(kW)                    0\n",
       "quantity(kWh)                0\n",
       "odometer                  4954\n",
       "tire_type                   50\n",
       "city                         0\n",
       "motor_way                    0\n",
       "country_roads                0\n",
       "driving_style               56\n",
       "consumption(kWh/100km)       0\n",
       "A/C                          0\n",
       "park_heating                 0\n",
       "ecr_deviation                0\n",
       "trip_distance(km)            0\n",
       "month                        0\n",
       "weekday                      0\n",
       "day                          0\n",
       "dtype: int64"
      ]
     },
     "execution_count": 96,
     "metadata": {},
     "output_type": "execute_result"
    }
   ],
   "source": [
    "train_converted.isna().sum()"
   ]
  },
  {
   "cell_type": "code",
   "execution_count": 97,
   "metadata": {},
   "outputs": [
    {
     "data": {
      "text/plain": [
       "power(kW)                    0\n",
       "quantity(kWh)                0\n",
       "odometer                  3323\n",
       "tire_type                   40\n",
       "city                         0\n",
       "motor_way                    0\n",
       "country_roads                0\n",
       "driving_style               55\n",
       "consumption(kWh/100km)       0\n",
       "A/C                          0\n",
       "park_heating                 0\n",
       "ecr_deviation                0\n",
       "trip_distance(km)            0\n",
       "month                        0\n",
       "weekday                      0\n",
       "day                          0\n",
       "dtype: int64"
      ]
     },
     "execution_count": 97,
     "metadata": {},
     "output_type": "execute_result"
    }
   ],
   "source": [
    "test_converted.isna().sum()"
   ]
  },
  {
   "cell_type": "code",
   "execution_count": 98,
   "metadata": {},
   "outputs": [
    {
     "name": "stdout",
     "output_type": "stream",
     "text": [
      "float64\n",
      "float64\n"
     ]
    }
   ],
   "source": [
    "columns=['trip_distance(km)'] \n",
    "train_converted=fillinMissingvalues(train_converted, columns)               \n",
    "test_converted=fillinMissingvalues(test_converted, columns)"
   ]
  },
  {
   "cell_type": "code",
   "execution_count": 99,
   "metadata": {},
   "outputs": [
    {
     "name": "stdout",
     "output_type": "stream",
     "text": [
      "(13986, 16)\n",
      "(9325, 16)\n"
     ]
    }
   ],
   "source": [
    "print(train_converted.shape)\n",
    "print(test_converted.shape)"
   ]
  },
  {
   "cell_type": "code",
   "execution_count": 100,
   "metadata": {},
   "outputs": [
    {
     "data": {
      "text/plain": [
       "power(kW)                    0\n",
       "quantity(kWh)                0\n",
       "odometer                  4954\n",
       "tire_type                   50\n",
       "city                         0\n",
       "motor_way                    0\n",
       "country_roads                0\n",
       "driving_style               56\n",
       "consumption(kWh/100km)       0\n",
       "A/C                          0\n",
       "park_heating                 0\n",
       "ecr_deviation                0\n",
       "trip_distance(km)            0\n",
       "month                        0\n",
       "weekday                      0\n",
       "day                          0\n",
       "dtype: int64"
      ]
     },
     "execution_count": 100,
     "metadata": {},
     "output_type": "execute_result"
    }
   ],
   "source": [
    "train_converted.isna().sum()"
   ]
  },
  {
   "cell_type": "code",
   "execution_count": 101,
   "metadata": {},
   "outputs": [
    {
     "data": {
      "text/plain": [
       "power(kW)                    0\n",
       "quantity(kWh)                0\n",
       "odometer                  3323\n",
       "tire_type                   40\n",
       "city                         0\n",
       "motor_way                    0\n",
       "country_roads                0\n",
       "driving_style               55\n",
       "consumption(kWh/100km)       0\n",
       "A/C                          0\n",
       "park_heating                 0\n",
       "ecr_deviation                0\n",
       "trip_distance(km)            0\n",
       "month                        0\n",
       "weekday                      0\n",
       "day                          0\n",
       "dtype: int64"
      ]
     },
     "execution_count": 101,
     "metadata": {},
     "output_type": "execute_result"
    }
   ],
   "source": [
    "test_converted.isna().sum()"
   ]
  },
  {
   "cell_type": "code",
   "execution_count": 102,
   "metadata": {},
   "outputs": [
    {
     "name": "stdout",
     "output_type": "stream",
     "text": [
      "(13986, 16)\n",
      "(9325, 16)\n"
     ]
    }
   ],
   "source": [
    "print(train_converted.shape)\n",
    "print(test_converted.shape)"
   ]
  },
  {
   "cell_type": "code",
   "execution_count": 103,
   "metadata": {},
   "outputs": [],
   "source": [
    "test_converted['tire_type'].fillna(value=test_converted['tire_type'].mode(), inplace=True)\n",
    "test_converted['driving_style'].fillna(value=test_converted['driving_style'].mode(), inplace=True)\n",
    "\n"
   ]
  },
  {
   "cell_type": "code",
   "execution_count": 104,
   "metadata": {},
   "outputs": [],
   "source": [
    "train_converted['tire_type'].fillna(value=train_converted['tire_type'].mode(), inplace=True)\n",
    "train_converted['driving_style'].fillna(value=train_converted['driving_style'].mode(), inplace=True)\n"
   ]
  },
  {
   "cell_type": "code",
   "execution_count": 105,
   "metadata": {},
   "outputs": [
    {
     "data": {
      "text/plain": [
       "power(kW)                    0\n",
       "quantity(kWh)                0\n",
       "odometer                  4954\n",
       "tire_type                   50\n",
       "city                         0\n",
       "motor_way                    0\n",
       "country_roads                0\n",
       "driving_style               56\n",
       "consumption(kWh/100km)       0\n",
       "A/C                          0\n",
       "park_heating                 0\n",
       "ecr_deviation                0\n",
       "trip_distance(km)            0\n",
       "month                        0\n",
       "weekday                      0\n",
       "day                          0\n",
       "dtype: int64"
      ]
     },
     "execution_count": 105,
     "metadata": {},
     "output_type": "execute_result"
    }
   ],
   "source": [
    "train_converted.isna().sum()"
   ]
  },
  {
   "cell_type": "code",
   "execution_count": 106,
   "metadata": {},
   "outputs": [
    {
     "data": {
      "text/plain": [
       "power(kW)                    0\n",
       "quantity(kWh)                0\n",
       "odometer                  3323\n",
       "tire_type                   40\n",
       "city                         0\n",
       "motor_way                    0\n",
       "country_roads                0\n",
       "driving_style               55\n",
       "consumption(kWh/100km)       0\n",
       "A/C                          0\n",
       "park_heating                 0\n",
       "ecr_deviation                0\n",
       "trip_distance(km)            0\n",
       "month                        0\n",
       "weekday                      0\n",
       "day                          0\n",
       "dtype: int64"
      ]
     },
     "execution_count": 106,
     "metadata": {},
     "output_type": "execute_result"
    }
   ],
   "source": [
    "test_converted.isna().sum()"
   ]
  },
  {
   "cell_type": "code",
   "execution_count": 107,
   "metadata": {},
   "outputs": [
    {
     "name": "stdout",
     "output_type": "stream",
     "text": [
      "<class 'pandas.core.frame.DataFrame'>\n",
      "Int64Index: 13986 entries, 21365 to 12488\n",
      "Data columns (total 14 columns):\n",
      " #   Column                  Non-Null Count  Dtype  \n",
      "---  ------                  --------------  -----  \n",
      " 0   power(kW)               13986 non-null  float64\n",
      " 1   fuel_date               13986 non-null  object \n",
      " 2   quantity(kWh)           13986 non-null  float64\n",
      " 3   odometer                9032 non-null   float64\n",
      " 4   tire_type               13936 non-null  float64\n",
      " 5   city                    13986 non-null  int64  \n",
      " 6   motor_way               13986 non-null  int64  \n",
      " 7   country_roads           13986 non-null  int64  \n",
      " 8   driving_style           13930 non-null  float64\n",
      " 9   consumption(kWh/100km)  13986 non-null  float64\n",
      " 10  A/C                     13986 non-null  int64  \n",
      " 11  park_heating            13986 non-null  int64  \n",
      " 12  ecr_deviation           13986 non-null  float64\n",
      " 13  trip_distance(km)       13986 non-null  float64\n",
      "dtypes: float64(8), int64(5), object(1)\n",
      "memory usage: 1.6+ MB\n"
     ]
    }
   ],
   "source": [
    "train_model_cat.info()"
   ]
  },
  {
   "cell_type": "code",
   "execution_count": 108,
   "metadata": {},
   "outputs": [
    {
     "name": "stdout",
     "output_type": "stream",
     "text": [
      "<class 'pandas.core.frame.DataFrame'>\n",
      "Int64Index: 9325 entries, 22245 to 6446\n",
      "Data columns (total 14 columns):\n",
      " #   Column                  Non-Null Count  Dtype  \n",
      "---  ------                  --------------  -----  \n",
      " 0   power(kW)               9325 non-null   float64\n",
      " 1   fuel_date               9325 non-null   object \n",
      " 2   quantity(kWh)           9325 non-null   float64\n",
      " 3   odometer                6002 non-null   float64\n",
      " 4   tire_type               9285 non-null   float64\n",
      " 5   city                    9325 non-null   int64  \n",
      " 6   motor_way               9325 non-null   int64  \n",
      " 7   country_roads           9325 non-null   int64  \n",
      " 8   driving_style           9270 non-null   float64\n",
      " 9   consumption(kWh/100km)  9325 non-null   float64\n",
      " 10  A/C                     9325 non-null   int64  \n",
      " 11  park_heating            9325 non-null   int64  \n",
      " 12  ecr_deviation           9325 non-null   float64\n",
      " 13  trip_distance(km)       9325 non-null   float64\n",
      "dtypes: float64(8), int64(5), object(1)\n",
      "memory usage: 1.1+ MB\n"
     ]
    }
   ],
   "source": [
    "test_model_cat.info()"
   ]
  },
  {
   "cell_type": "code",
   "execution_count": 109,
   "metadata": {},
   "outputs": [],
   "source": [
    "train_converted.dropna(inplace=True)\n",
    "test_converted.dropna(inplace=True)"
   ]
  },
  {
   "cell_type": "code",
   "execution_count": 110,
   "metadata": {},
   "outputs": [
    {
     "name": "stdout",
     "output_type": "stream",
     "text": [
      "(8941, 16)\n",
      "(5923, 16)\n"
     ]
    }
   ],
   "source": [
    "print(train_converted.shape)\n",
    "print(test_converted.shape)"
   ]
  },
  {
   "cell_type": "code",
   "execution_count": 111,
   "metadata": {},
   "outputs": [],
   "source": [
    "train_converted_copy=train_converted.copy()"
   ]
  },
  {
   "cell_type": "code",
   "execution_count": 112,
   "metadata": {},
   "outputs": [],
   "source": [
    "test_converted_copy=test_converted.copy()"
   ]
  },
  {
   "cell_type": "code",
   "execution_count": 113,
   "metadata": {},
   "outputs": [
    {
     "data": {
      "text/html": [
       "<div>\n",
       "<style scoped>\n",
       "    .dataframe tbody tr th:only-of-type {\n",
       "        vertical-align: middle;\n",
       "    }\n",
       "\n",
       "    .dataframe tbody tr th {\n",
       "        vertical-align: top;\n",
       "    }\n",
       "\n",
       "    .dataframe thead th {\n",
       "        text-align: right;\n",
       "    }\n",
       "</style>\n",
       "<table border=\"1\" class=\"dataframe\">\n",
       "  <thead>\n",
       "    <tr style=\"text-align: right;\">\n",
       "      <th></th>\n",
       "      <th>power(kW)</th>\n",
       "      <th>quantity(kWh)</th>\n",
       "      <th>tire_type</th>\n",
       "      <th>city</th>\n",
       "      <th>motor_way</th>\n",
       "      <th>country_roads</th>\n",
       "      <th>driving_style</th>\n",
       "      <th>consumption(kWh/100km)</th>\n",
       "      <th>A/C</th>\n",
       "      <th>park_heating</th>\n",
       "      <th>ecr_deviation</th>\n",
       "      <th>trip_distance(km)</th>\n",
       "      <th>month</th>\n",
       "      <th>weekday</th>\n",
       "      <th>day</th>\n",
       "    </tr>\n",
       "  </thead>\n",
       "  <tbody>\n",
       "    <tr>\n",
       "      <th>22245</th>\n",
       "      <td>278.0</td>\n",
       "      <td>8.00</td>\n",
       "      <td>2.0</td>\n",
       "      <td>1</td>\n",
       "      <td>0</td>\n",
       "      <td>1</td>\n",
       "      <td>1.0</td>\n",
       "      <td>27.20</td>\n",
       "      <td>0</td>\n",
       "      <td>0</td>\n",
       "      <td>11.100000</td>\n",
       "      <td>21.0</td>\n",
       "      <td>1</td>\n",
       "      <td>3</td>\n",
       "      <td>2</td>\n",
       "    </tr>\n",
       "    <tr>\n",
       "      <th>1583</th>\n",
       "      <td>278.0</td>\n",
       "      <td>9.00</td>\n",
       "      <td>2.0</td>\n",
       "      <td>1</td>\n",
       "      <td>0</td>\n",
       "      <td>0</td>\n",
       "      <td>1.0</td>\n",
       "      <td>24.24</td>\n",
       "      <td>0</td>\n",
       "      <td>0</td>\n",
       "      <td>8.140000</td>\n",
       "      <td>6.0</td>\n",
       "      <td>11</td>\n",
       "      <td>5</td>\n",
       "      <td>30</td>\n",
       "    </tr>\n",
       "    <tr>\n",
       "      <th>16755</th>\n",
       "      <td>88.0</td>\n",
       "      <td>15.75</td>\n",
       "      <td>3.0</td>\n",
       "      <td>1</td>\n",
       "      <td>1</td>\n",
       "      <td>1</td>\n",
       "      <td>2.0</td>\n",
       "      <td>12.88</td>\n",
       "      <td>0</td>\n",
       "      <td>0</td>\n",
       "      <td>2.332115</td>\n",
       "      <td>122.3</td>\n",
       "      <td>11</td>\n",
       "      <td>1</td>\n",
       "      <td>19</td>\n",
       "    </tr>\n",
       "    <tr>\n",
       "      <th>19593</th>\n",
       "      <td>35.0</td>\n",
       "      <td>6.30</td>\n",
       "      <td>2.0</td>\n",
       "      <td>1</td>\n",
       "      <td>0</td>\n",
       "      <td>1</td>\n",
       "      <td>1.0</td>\n",
       "      <td>14.65</td>\n",
       "      <td>1</td>\n",
       "      <td>0</td>\n",
       "      <td>2.150000</td>\n",
       "      <td>43.0</td>\n",
       "      <td>8</td>\n",
       "      <td>0</td>\n",
       "      <td>29</td>\n",
       "    </tr>\n",
       "    <tr>\n",
       "      <th>7805</th>\n",
       "      <td>80.0</td>\n",
       "      <td>2.64</td>\n",
       "      <td>3.0</td>\n",
       "      <td>1</td>\n",
       "      <td>0</td>\n",
       "      <td>1</td>\n",
       "      <td>1.0</td>\n",
       "      <td>13.38</td>\n",
       "      <td>1</td>\n",
       "      <td>0</td>\n",
       "      <td>-1.620000</td>\n",
       "      <td>96.0</td>\n",
       "      <td>10</td>\n",
       "      <td>4</td>\n",
       "      <td>18</td>\n",
       "    </tr>\n",
       "    <tr>\n",
       "      <th>...</th>\n",
       "      <td>...</td>\n",
       "      <td>...</td>\n",
       "      <td>...</td>\n",
       "      <td>...</td>\n",
       "      <td>...</td>\n",
       "      <td>...</td>\n",
       "      <td>...</td>\n",
       "      <td>...</td>\n",
       "      <td>...</td>\n",
       "      <td>...</td>\n",
       "      <td>...</td>\n",
       "      <td>...</td>\n",
       "      <td>...</td>\n",
       "      <td>...</td>\n",
       "      <td>...</td>\n",
       "    </tr>\n",
       "    <tr>\n",
       "      <th>9212</th>\n",
       "      <td>49.0</td>\n",
       "      <td>3.47</td>\n",
       "      <td>3.0</td>\n",
       "      <td>0</td>\n",
       "      <td>1</td>\n",
       "      <td>1</td>\n",
       "      <td>1.0</td>\n",
       "      <td>10.88</td>\n",
       "      <td>0</td>\n",
       "      <td>0</td>\n",
       "      <td>-2.620000</td>\n",
       "      <td>31.9</td>\n",
       "      <td>10</td>\n",
       "      <td>6</td>\n",
       "      <td>21</td>\n",
       "    </tr>\n",
       "    <tr>\n",
       "      <th>8065</th>\n",
       "      <td>80.0</td>\n",
       "      <td>1.00</td>\n",
       "      <td>3.0</td>\n",
       "      <td>1</td>\n",
       "      <td>0</td>\n",
       "      <td>1</td>\n",
       "      <td>1.0</td>\n",
       "      <td>13.38</td>\n",
       "      <td>1</td>\n",
       "      <td>0</td>\n",
       "      <td>-1.620000</td>\n",
       "      <td>9.0</td>\n",
       "      <td>11</td>\n",
       "      <td>1</td>\n",
       "      <td>5</td>\n",
       "    </tr>\n",
       "    <tr>\n",
       "      <th>21343</th>\n",
       "      <td>132.0</td>\n",
       "      <td>4.83</td>\n",
       "      <td>3.0</td>\n",
       "      <td>1</td>\n",
       "      <td>0</td>\n",
       "      <td>0</td>\n",
       "      <td>2.0</td>\n",
       "      <td>24.04</td>\n",
       "      <td>0</td>\n",
       "      <td>0</td>\n",
       "      <td>7.440000</td>\n",
       "      <td>63.0</td>\n",
       "      <td>4</td>\n",
       "      <td>2</td>\n",
       "      <td>6</td>\n",
       "    </tr>\n",
       "    <tr>\n",
       "      <th>22620</th>\n",
       "      <td>278.0</td>\n",
       "      <td>32.00</td>\n",
       "      <td>3.0</td>\n",
       "      <td>1</td>\n",
       "      <td>1</td>\n",
       "      <td>0</td>\n",
       "      <td>1.0</td>\n",
       "      <td>19.21</td>\n",
       "      <td>0</td>\n",
       "      <td>0</td>\n",
       "      <td>3.110000</td>\n",
       "      <td>126.0</td>\n",
       "      <td>6</td>\n",
       "      <td>1</td>\n",
       "      <td>11</td>\n",
       "    </tr>\n",
       "    <tr>\n",
       "      <th>6446</th>\n",
       "      <td>85.0</td>\n",
       "      <td>7.16</td>\n",
       "      <td>3.0</td>\n",
       "      <td>0</td>\n",
       "      <td>1</td>\n",
       "      <td>0</td>\n",
       "      <td>2.0</td>\n",
       "      <td>11.30</td>\n",
       "      <td>0</td>\n",
       "      <td>0</td>\n",
       "      <td>-1.400000</td>\n",
       "      <td>71.0</td>\n",
       "      <td>7</td>\n",
       "      <td>1</td>\n",
       "      <td>17</td>\n",
       "    </tr>\n",
       "  </tbody>\n",
       "</table>\n",
       "<p>5923 rows × 15 columns</p>\n",
       "</div>"
      ],
      "text/plain": [
       "       power(kW)  quantity(kWh)  tire_type  city  motor_way  country_roads  \\\n",
       "22245      278.0           8.00        2.0     1          0              1   \n",
       "1583       278.0           9.00        2.0     1          0              0   \n",
       "16755       88.0          15.75        3.0     1          1              1   \n",
       "19593       35.0           6.30        2.0     1          0              1   \n",
       "7805        80.0           2.64        3.0     1          0              1   \n",
       "...          ...            ...        ...   ...        ...            ...   \n",
       "9212        49.0           3.47        3.0     0          1              1   \n",
       "8065        80.0           1.00        3.0     1          0              1   \n",
       "21343      132.0           4.83        3.0     1          0              0   \n",
       "22620      278.0          32.00        3.0     1          1              0   \n",
       "6446        85.0           7.16        3.0     0          1              0   \n",
       "\n",
       "       driving_style  consumption(kWh/100km)  A/C  park_heating  \\\n",
       "22245            1.0                   27.20    0             0   \n",
       "1583             1.0                   24.24    0             0   \n",
       "16755            2.0                   12.88    0             0   \n",
       "19593            1.0                   14.65    1             0   \n",
       "7805             1.0                   13.38    1             0   \n",
       "...              ...                     ...  ...           ...   \n",
       "9212             1.0                   10.88    0             0   \n",
       "8065             1.0                   13.38    1             0   \n",
       "21343            2.0                   24.04    0             0   \n",
       "22620            1.0                   19.21    0             0   \n",
       "6446             2.0                   11.30    0             0   \n",
       "\n",
       "       ecr_deviation  trip_distance(km)  month  weekday  day  \n",
       "22245      11.100000               21.0      1        3    2  \n",
       "1583        8.140000                6.0     11        5   30  \n",
       "16755       2.332115              122.3     11        1   19  \n",
       "19593       2.150000               43.0      8        0   29  \n",
       "7805       -1.620000               96.0     10        4   18  \n",
       "...              ...                ...    ...      ...  ...  \n",
       "9212       -2.620000               31.9     10        6   21  \n",
       "8065       -1.620000                9.0     11        1    5  \n",
       "21343       7.440000               63.0      4        2    6  \n",
       "22620       3.110000              126.0      6        1   11  \n",
       "6446       -1.400000               71.0      7        1   17  \n",
       "\n",
       "[5923 rows x 15 columns]"
      ]
     },
     "execution_count": 113,
     "metadata": {},
     "output_type": "execute_result"
    }
   ],
   "source": [
    "train_converted_copy.drop(columns='odometer',axis=1)\n",
    "test_converted_copy.drop(columns='odometer',axis=1)"
   ]
  },
  {
   "cell_type": "code",
   "execution_count": 114,
   "metadata": {},
   "outputs": [],
   "source": [
    "train_converted_copy.dropna(axis=0,inplace=True)\n"
   ]
  },
  {
   "cell_type": "code",
   "execution_count": 115,
   "metadata": {},
   "outputs": [],
   "source": [
    "test_converted_copy.dropna(axis=0, inplace=True)"
   ]
  },
  {
   "cell_type": "code",
   "execution_count": 116,
   "metadata": {},
   "outputs": [
    {
     "data": {
      "text/plain": [
       "power(kW)                 0\n",
       "quantity(kWh)             0\n",
       "odometer                  0\n",
       "tire_type                 0\n",
       "city                      0\n",
       "motor_way                 0\n",
       "country_roads             0\n",
       "driving_style             0\n",
       "consumption(kWh/100km)    0\n",
       "A/C                       0\n",
       "park_heating              0\n",
       "ecr_deviation             0\n",
       "trip_distance(km)         0\n",
       "month                     0\n",
       "weekday                   0\n",
       "day                       0\n",
       "dtype: int64"
      ]
     },
     "execution_count": 116,
     "metadata": {},
     "output_type": "execute_result"
    }
   ],
   "source": [
    "train_converted_copy.isna().sum()"
   ]
  },
  {
   "cell_type": "code",
   "execution_count": 117,
   "metadata": {},
   "outputs": [
    {
     "data": {
      "text/plain": [
       "power(kW)                 0\n",
       "quantity(kWh)             0\n",
       "odometer                  0\n",
       "tire_type                 0\n",
       "city                      0\n",
       "motor_way                 0\n",
       "country_roads             0\n",
       "driving_style             0\n",
       "consumption(kWh/100km)    0\n",
       "A/C                       0\n",
       "park_heating              0\n",
       "ecr_deviation             0\n",
       "trip_distance(km)         0\n",
       "month                     0\n",
       "weekday                   0\n",
       "day                       0\n",
       "dtype: int64"
      ]
     },
     "execution_count": 117,
     "metadata": {},
     "output_type": "execute_result"
    }
   ],
   "source": [
    "test_converted_copy.isna().sum()"
   ]
  },
  {
   "cell_type": "code",
   "execution_count": 118,
   "metadata": {},
   "outputs": [
    {
     "data": {
      "text/plain": [
       "(8941, 16)"
      ]
     },
     "execution_count": 118,
     "metadata": {},
     "output_type": "execute_result"
    }
   ],
   "source": [
    "\n",
    "train_converted.shape"
   ]
  },
  {
   "cell_type": "code",
   "execution_count": 119,
   "metadata": {},
   "outputs": [
    {
     "data": {
      "text/plain": [
       "(5923, 16)"
      ]
     },
     "execution_count": 119,
     "metadata": {},
     "output_type": "execute_result"
    }
   ],
   "source": [
    "test_converted.shape"
   ]
  },
  {
   "cell_type": "code",
   "execution_count": 120,
   "metadata": {},
   "outputs": [
    {
     "data": {
      "text/plain": [
       "(5923, 16)"
      ]
     },
     "execution_count": 120,
     "metadata": {},
     "output_type": "execute_result"
    }
   ],
   "source": [
    "test_converted_copy.shape"
   ]
  },
  {
   "cell_type": "code",
   "execution_count": 121,
   "metadata": {},
   "outputs": [
    {
     "data": {
      "text/plain": [
       "(8941, 16)"
      ]
     },
     "execution_count": 121,
     "metadata": {},
     "output_type": "execute_result"
    }
   ],
   "source": [
    "train_converted_copy.shape"
   ]
  },
  {
   "cell_type": "code",
   "execution_count": 122,
   "metadata": {},
   "outputs": [],
   "source": [
    "# Experiment 1\n",
    "# train_converted.to_csv('../data/preprocessed/train_converted.csv')\n",
    "# test_converted.to_csv('../data/preprocessed/test_converted.csv')\n",
    "\n",
    "#Experiment 3\n",
    "# train_converted.to_csv('../data/preprocessed/df_range_consumption_train_data.csv')\n",
    "# test_converted.to_csv('../data/preprocessed/df_range_consumption_test_data.csv')"
   ]
  },
  {
   "cell_type": "code",
   "execution_count": 123,
   "metadata": {},
   "outputs": [],
   "source": [
    "# Experiment 3\n",
    "\n",
    "train_converted.to_csv('../data/preprocessed/df_range_consumption_train_data_030923.csv')\n",
    "test_converted.to_csv('../data/preprocessed/df_range_consumption_test_data_030923.csv')"
   ]
  },
  {
   "cell_type": "code",
   "execution_count": 124,
   "metadata": {},
   "outputs": [],
   "source": [
    "# hug_test_clip.to_csv('../data/preprocessed/huggingface_test.csv')\n",
    "# hug_train_clip.to_csv('../data/preprocessed/huggingface_train.csv')"
   ]
  },
  {
   "cell_type": "code",
   "execution_count": 134,
   "metadata": {},
   "outputs": [],
   "source": []
  }
 ],
 "metadata": {
  "kernelspec": {
   "display_name": "Python 3.10.6 64-bit",
   "language": "python",
   "name": "python3"
  },
  "language_info": {
   "codemirror_mode": {
    "name": "ipython",
    "version": 3
   },
   "file_extension": ".py",
   "mimetype": "text/x-python",
   "name": "python",
   "nbconvert_exporter": "python",
   "pygments_lexer": "ipython3",
   "version": "3.10.6"
  },
  "orig_nbformat": 4,
  "vscode": {
   "interpreter": {
    "hash": "916dbcbb3f70747c44a77c7bcd40155683ae19c65e1c03b4aa3499c5328201f1"
   }
  }
 },
 "nbformat": 4,
 "nbformat_minor": 2
}
